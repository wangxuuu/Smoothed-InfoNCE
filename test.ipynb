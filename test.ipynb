{
 "cells": [
  {
   "cell_type": "code",
   "execution_count": 44,
   "metadata": {},
   "outputs": [],
   "source": [
    "import torch\n",
    "import torch.nn.functional as F\n",
    "import os\n",
    "import numpy as np\n",
    "import matplotlib.pyplot as plt\n",
    "import argparse\n",
    "# from src.gaussian import Gaussian\n",
    "# from src.mix_gaussian import MixedGaussian\n",
    "from src.mi_estimators import *\n",
    "from torch.utils.tensorboard import SummaryWriter\n",
    "\n",
    "cuda = True if torch.cuda.is_available() else False\n",
    "FloatTensor = torch.cuda.FloatTensor if cuda else torch.FloatTensor\n",
    "LongTensor = torch.cuda.LongTensor if cuda else torch.LongTensor"
   ]
  },
  {
   "cell_type": "code",
   "execution_count": 45,
   "metadata": {},
   "outputs": [],
   "source": [
    "SEED = 0\n",
    "torch.manual_seed(SEED)\n",
    "torch.cuda.manual_seed(SEED)\n",
    "np.random.seed(SEED)\n",
    "\n",
    "cuda = True if torch.cuda.is_available() else False\n",
    "FloatTensor = torch.cuda.FloatTensor if cuda else torch.FloatTensor\n",
    "LongTensor = torch.cuda.LongTensor if cuda else torch.LongTensor\n",
    "torch.set_default_tensor_type(FloatTensor)"
   ]
  },
  {
   "cell_type": "code",
   "execution_count": 46,
   "metadata": {},
   "outputs": [],
   "source": [
    "parser = argparse.ArgumentParser()\n",
    "parser.add_argument(\"--rho\", type=float, default=0.9, help=\"coefficient of Gaussian\")\n",
    "parser.add_argument(\"--d\", type=int, default=16, help=\"dimension of X & Y\")\n",
    "parser.add_argument(\"--sample_size\", type=int, default=400, help=\"sample size\")\n",
    "parser.add_argument(\"--gamma\", type=float, default=1e-20, help=\"clipping parameter\")\n",
    "parser.add_argument(\"--b1\", type=float, default=0.5, help=\"adam: decay of first order momentum of gradient\")\n",
    "parser.add_argument(\"--b2\", type=float, default=0.999, help=\"adam: decay of first order momentum of gradient\")\n",
    "parser.add_argument(\"--batch_size\", type=int, default=100, help=\"size of the batches\")\n",
    "parser.add_argument(\"--lr\", type=float, default=1e-4, help=\"adam: learning rate\")\n",
    "parser.add_argument(\"--hidden_dim\", type=int, default=100, help=\"Hidden dimension\")\n",
    "parser.add_argument(\"--ma_rate\", type=float, default=0.1, help=\"move average rate\")\n",
    "parser.add_argument(\"--ma_ef\", type=float, default=1, help=\"move average ef\")\n",
    "parser.add_argument(\"--alpha\", type=float, default=1e-4, help=\"smooth parameter\")\n",
    "\n",
    "parser.add_argument(\"--n_epoch\", type=int, default=2000, help=\"number of epochs of training\")\n",
    "parser.add_argument(\"--n_iters_1epoch\", type=int, default=4, help=\"number of epochs of training\")\n",
    "\n",
    "opt, unknown = parser.parse_known_args()\n",
    "opt.n_iters = opt.n_epoch * opt.n_iters_1epoch\n",
    "ma_rate = 0.01  # moving average rate"
   ]
  },
  {
   "cell_type": "code",
   "execution_count": 47,
   "metadata": {},
   "outputs": [],
   "source": [
    "continue_train = True  # set to True to continue to train\n",
    "load_available = False # set to False to prevent loading previous results\n",
    "overwrite = False  # set to True to overwrite previously stored results"
   ]
  },
  {
   "cell_type": "code",
   "execution_count": 48,
   "metadata": {},
   "outputs": [],
   "source": [
    "data = GaussianData(opt.sample_size, d=opt.d, rho=opt.rho)\n",
    "X, Y, XY, Ground_truth = data.X, data.Y, torch.cat((data.X, data.Y), dim=1), data.mutual_information()"
   ]
  },
  {
   "cell_type": "code",
   "execution_count": 49,
   "metadata": {},
   "outputs": [],
   "source": [
    "def GT(x, y):\n",
    "    mi = -0.5 * np.log(1 - opt.rho**2) * opt.d\n",
    "    c = opt.rho / (2 * (1 - opt.rho**2))\n",
    "    return mi + c * (2 * x * y - opt.rho *(x**2 + y**2)).sum(dim=1)\n",
    "\n",
    "\n",
    "def GT_prob(x, y):\n",
    "    \"\"\"\n",
    "    return the probability P(1|X,Y)\n",
    "    \"\"\"\n",
    "    return GT(x, y).exp() / (1+ GT(x, y).exp())"
   ]
  },
  {
   "cell_type": "code",
   "execution_count": 50,
   "metadata": {},
   "outputs": [],
   "source": [
    "name = f'./results/Smoothed_InfoNCE_GT_dim{opt.d}'   # filename\n",
    "chkpt_name = name+'.pt'      # checkpoint\n",
    "\n",
    "from datetime import datetime\n",
    "TIMESTAMP = \"{0:%Y-%m-%dT%H-%M-%S/}\".format(datetime.now())\n",
    "writer = SummaryWriter(f'./results/log/Smoothed_InfoNCE_GT_dim{opt.d}_reg/{TIMESTAMP}')\n",
    "\n",
    "discriminator = Net(input_size=opt.d*2, hidden_size=100)"
   ]
  },
  {
   "cell_type": "code",
   "execution_count": 51,
   "metadata": {},
   "outputs": [],
   "source": [
    "if cuda:\n",
    "    discriminator.cuda()\n",
    "\n",
    "# Adam optimizer\n",
    "optimizer_D = torch.optim.Adam(discriminator.parameters(), lr=opt.lr, betas=(opt.b1, opt.b2))"
   ]
  },
  {
   "cell_type": "code",
   "execution_count": 52,
   "metadata": {},
   "outputs": [],
   "source": [
    "if load_available and os.path.exists(chkpt_name):\n",
    "    checkpoint = torch.load(\n",
    "        chkpt_name, map_location='cuda' if torch.cuda.is_available() else 'cpu')\n",
    "    mi_list = checkpoint['mi_list']\n",
    "    model_state = checkpoint['model_state']\n",
    "    discriminator.load_state_dict(model_state)\n",
    "    print('Previous results loaded.')\n",
    "else:\n",
    "    mi_list = [] # storing the mi estimation of each iteration"
   ]
  },
  {
   "cell_type": "code",
   "execution_count": 53,
   "metadata": {},
   "outputs": [],
   "source": [
    "def plot_subfigure(net, X, Y, dimX, dimY, x0=None, y0=None, xmin=-5, xmax=5, ymin=-5, ymax=5, xgrids=50, ygrids=50, ax=None, show_details=True):\n",
    "    \"\"\"\n",
    "    The inputs should be X and Y, which are the coordinates of the points.\n",
    "\n",
    "    net should be a neural network with Tensor inputs.\n",
    "    \"\"\"\n",
    "\n",
    "    if  x0 == None:\n",
    "        x0 = np.zeros((1, X.shape[1]))\n",
    "    if y0 == None:\n",
    "        y0 = np.zeros((1, Y.shape[1]))\n",
    "        \n",
    "    x, y = np.mgrid[xmin:xmax:xgrids * 1j, ymin:ymax:ygrids * 1j]\n",
    "    with torch.no_grad():\n",
    "        z = (net(\n",
    "            torch.cat((torch.Tensor((np.arange(X.shape[-1]) == dimX).reshape(1, -1) *\n",
    "                    x.reshape(-1, 1) + x0).to(DEVICE),\n",
    "            torch.Tensor((np.arange(X.shape[-1]) == dimY).reshape(1, -1) *\n",
    "                    y.reshape(-1, 1) + y0).to(DEVICE),\n",
    "        ),dim=-1)).reshape(x.shape).cpu())\n",
    "    if ax is None:\n",
    "        ax = plt.gca()\n",
    "\n",
    "    im = ax.pcolormesh(x, y, z, cmap=\"RdBu_r\", shading=\"auto\")\n",
    "    # ax.figure.colorbar(im)\n",
    "    if show_details:\n",
    "        ax.figure.colorbar(im) \n",
    "        ax.set(xlabel=\"$x^{{({0})}}-x_0^{{({0})}}$\",\n",
    "                ylabel=\"$x^{{({0})}}-x_0^{{({0})}}$\",\n",
    "                title=r\"Heatmap of $t(x,y)$\")\n",
    "    return im\n",
    "\n",
    "\n",
    "def plot_fig(net, d=6):\n",
    "    f, axs = plt.subplots(nrows=d,ncols=d,sharex=True, sharey=True)\n",
    "    for i in range(d):\n",
    "        for j in range(d):\n",
    "            im = plot_subfigure(net, X, Y, dimX=i, dimY=j, x0=None, y0=None, xmin=-5, xmax=5, ymin=-5, ymax=5, xgrids=50, ygrids=50, ax=axs[i, j], show_details=False)\n",
    "    f.colorbar(im, ax=axs.ravel().tolist())\n",
    "    return f"
   ]
  },
  {
   "cell_type": "code",
   "execution_count": 54,
   "metadata": {},
   "outputs": [],
   "source": [
    "import torch\n",
    "a = torch.Tensor([[1, 2], [3, 4]])\n",
    "b = torch.Tensor([[5, 6], [7, 8]])"
   ]
  },
  {
   "cell_type": "code",
   "execution_count": 55,
   "metadata": {},
   "outputs": [],
   "source": [
    "x_tile = a.unsqueeze(0).repeat((a.shape[0], 1, 1))\n",
    "y_tile = b.unsqueeze(1).repeat((1, b.shape[0], 1))\n",
    "train_data = torch.cat([x_tile, y_tile], dim = -1).reshape(-1, a.shape[1]+b.shape[1])\n",
    "train_label = torch.eye(a.shape[0]).reshape(-1,)"
   ]
  },
  {
   "cell_type": "code",
   "execution_count": 56,
   "metadata": {},
   "outputs": [
    {
     "data": {
      "text/plain": [
       "(tensor([[1., 2., 5., 6.],\n",
       "         [3., 4., 5., 6.],\n",
       "         [1., 2., 7., 8.],\n",
       "         [3., 4., 7., 8.]]),\n",
       " tensor([[3., 4., 5., 6.],\n",
       "         [1., 2., 7., 8.]]),\n",
       " tensor([[1., 2., 5., 6.],\n",
       "         [3., 4., 7., 8.]]))"
      ]
     },
     "execution_count": 56,
     "metadata": {},
     "output_type": "execute_result"
    }
   ],
   "source": [
    "train_data, train_data[train_label==0], train_data[train_label==1]"
   ]
  },
  {
   "cell_type": "code",
   "execution_count": 57,
   "metadata": {},
   "outputs": [],
   "source": [
    "def smooth_loss(net, model, x_data, y_data, writer=None, epoch=None, reg=False):\n",
    "    # alpha: float p(C=0)/p(C=1)\n",
    "    # net: torch.nn.Module\n",
    "    # model: sklearn.tree.DecisionTreeClassifier\n",
    "    # return: loss of smoothed infoNCE\n",
    "    # first term:\n",
    "    # E[f(X,Y)*p(C=1|X,Y)] + alpha*E[f(X',Y')*p(C=1|X',Y')]\n",
    "    joint_samples = torch.cat((x_data, y_data), dim=1)\n",
    "    x_tile = x_data.unsqueeze(0).repeat((x_data.shape[0], 1, 1))\n",
    "    y_tile = y_data.unsqueeze(1).repeat((1, x_data.shape[0], 1))\n",
    "    train_data = torch.cat([x_tile, y_tile], dim = -1).reshape(-1, x_data.shape[1]+y_data.shape[1])\n",
    "    train_label = torch.eye(x_data.shape[0]).reshape(-1,)\n",
    "   \n",
    "    marginal_samples = train_data[train_label==0,:]\n",
    "    prob_DT = model(train_data[:,:opt.d], train_data[:,opt.d:]).reshape(-1,1)\n",
    "    pos_prob_DT = torch.Tensor(prob_DT)[train_label==1,:]\n",
    "    neg_prob_DT = torch.Tensor(prob_DT)[train_label==0,:]\n",
    "    # idx_X = torch.randperm(x_data.shape[0])\n",
    "    # idx_Y = torch.randperm(y_data.shape[0])\n",
    "    # marginal_samples = torch.cat((x_data[idx_X], y_data[idx_Y]), dim=1)\n",
    "    # pos_prob_DT = torch.Tensor(model.predict_proba(joint_samples.cpu().numpy())[:,1].reshape(-1,1))\n",
    "    # neg_prob_DT = torch.Tensor(model.predict_proba(marginal_samples.cpu().numpy())[:,1].reshape(-1,1))\n",
    "    a = (net(joint_samples)*pos_prob_DT).mean() + (net(marginal_samples)*neg_prob_DT).mean()\n",
    "    # second term:\n",
    "    # E[log (E[e^f(X,Y')*p(C=0|X,Y')/p(C=0|X)*P(C=0)|X] + E[e^f(X,Y)*p(C=0|X,Y)/p(C=0|X)*p(C=1)|X])]\n",
    "\n",
    "    # b_list contains log (E[e^f(X,Y')*p(C=0|X,Y')/p(C=0|X)*P(C=0)|X] + E[e^f(X,Y)*p(C=0|X,Y)/p(C=0|X)*p(C=1)|X]) for each x\n",
    "    b_list = []\n",
    "    for i in range(x_data.shape[0]):\n",
    "        x_i = x_data[i,:]\n",
    "        y_i = y_data[i,:]\n",
    "        batch_label = torch.zeros(x_data.shape[0])\n",
    "        batch_label[i] = 1\n",
    "        x_tile = x_i.unsqueeze(0).repeat((x_data.shape[0], 1))\n",
    "        batch_xy = torch.cat([x_tile, y_data], dim = 1)\n",
    "\n",
    "        batch_xy_ = torch.cat((batch_xy[batch_label==1].repeat((batch_xy.shape[0]-1, 1)), batch_xy[batch_label==0]), dim=0)\n",
    "\n",
    "        # P(C=0|x) = E[P(C=0|x,Y')]\n",
    "        pcx = (1-model(batch_xy_[:,:opt.d],batch_xy_[:,opt.d:])).mean()\n",
    "\n",
    "        # b_list.append(torch.log(net(batch_xy[batch_label==1]).exp()* torch.Tensor(model.predict_proba(batch_xy[batch_label==1].cpu().numpy().reshape(1, -1))[:,0])*0.5/pcx + (net(batch_xy[batch_label==0]).exp()*torch.Tensor(model.predict_proba(batch_xy[batch_label==0].cpu().numpy())[:,0].reshape(-1,1))*0.5/pcx).mean()))\n",
    "\n",
    "\n",
    "        b_list.append(torch.logsumexp(net(batch_xy_)+torch.log((1-model(batch_xy_[:,:opt.d],batch_xy_[:,opt.d:])).reshape(-1,1)), dim=0) - np.log(batch_xy_.shape[0]) - torch.log(pcx))\n",
    "    if writer is not None:\n",
    "        writer.add_scalar('a', a, epoch)\n",
    "        writer.add_scalar('b', torch.mean(torch.stack(b_list)), epoch)\n",
    "\n",
    "    if reg:\n",
    "        return a - sum(b_list)/len(b_list) - (sum(b_list)/len(b_list))**2\n",
    "    else:\n",
    "        return a - sum(b_list)/len(b_list)"
   ]
  },
  {
   "cell_type": "code",
   "execution_count": 58,
   "metadata": {},
   "outputs": [],
   "source": [
    "def smooth_loss2(net, model, x_data, y_data, writer=None, epoch=None):\n",
    "    # alpha: float p(C=0)/p(C=1)\n",
    "    # net: torch.nn.Module\n",
    "    # model: sklearn.tree.DecisionTreeClassifier\n",
    "    # return: loss of smoothed infoNCE\n",
    "    # first term: \n",
    "    # E[f(X,Y)*p(C=1|X,Y)] + alpha*E[f(X',Y')*p(C=1|X',Y')]\n",
    "    joint_samples = torch.cat((x_data, y_data), dim=1)\n",
    "    x_tile = x_data.unsqueeze(0).repeat((x_data.shape[0], 1, 1))\n",
    "    y_tile = y_data.unsqueeze(1).repeat((1, x_data.shape[0], 1))\n",
    "    train_data = torch.cat([x_tile, y_tile], dim = -1).reshape(-1, x_data.shape[1]+y_data.shape[1])\n",
    "    train_label = torch.eye(x_data.shape[0]).reshape(-1,)\n",
    "   \n",
    "    marginal_samples = train_data[train_label==0,:]\n",
    "    prob_DT = model(train_data[:,:opt.d], train_data[:,opt.d:]).reshape(-1,1)\n",
    "    pos_prob_DT = torch.Tensor(prob_DT)[train_label==1,:]\n",
    "\n",
    "    neg_prob_DT = torch.Tensor(prob_DT)\n",
    "    # idx_X = torch.randperm(x_data.shape[0])\n",
    "    # idx_Y = torch.randperm(y_data.shape[0])\n",
    "    # marginal_samples = torch.cat((x_data[idx_X], y_data[idx_Y]), dim=1)\n",
    "    # pos_prob_DT = torch.Tensor(model.predict_proba(joint_samples.cpu().numpy())[:,1].reshape(-1,1))\n",
    "    # neg_prob_DT = torch.Tensor(model.predict_proba(marginal_samples.cpu().numpy())[:,1].reshape(-1,1))\n",
    "    a = (net(joint_samples)*pos_prob_DT).mean() + (net(train_data)*neg_prob_DT).mean()\n",
    "    # second term:\n",
    "    # E[log (E[e^f(X,Y')*p(C=0|X,Y')/p(C=0|X)*P(C=0)|X] + E[e^f(X,Y)*p(C=0|X,Y)/p(C=0|X)*p(C=1)|X])]\n",
    "\n",
    "    # b_list contains log (E[e^f(X,Y')*p(C=0|X,Y')/p(C=0|X)*P(C=0)|X] + E[e^f(X,Y)*p(C=0|X,Y)/p(C=0|X)*p(C=1)|X]) for each x\n",
    "    b_list = []\n",
    "    for i in range(x_data.shape[0]):\n",
    "        x_i = x_data[i,:]\n",
    "        y_i = y_data[i,:]\n",
    "        batch_label = torch.zeros(x_data.shape[0])\n",
    "        batch_label[i] = 1\n",
    "        x_tile = x_i.unsqueeze(0).repeat((x_data.shape[0], 1))\n",
    "        batch_xy = torch.cat([x_tile, y_data], dim = 1)\n",
    "\n",
    "        batch_xy_ = torch.cat((batch_xy[batch_label==1].repeat((batch_xy.shape[0], 1)), batch_xy), dim=0)\n",
    "\n",
    "        # P(C=0|x) = E[P(C=0|x,Y')]\n",
    "        pcx = (1-model(batch_xy_[:,:opt.d],batch_xy_[:,opt.d:])).mean()\n",
    "\n",
    "        # b_list.append(torch.log(net(batch_xy[batch_label==1]).exp()* torch.Tensor(model.predict_proba(batch_xy[batch_label==1].cpu().numpy().reshape(1, -1))[:,0])*0.5/pcx + (net(batch_xy[batch_label==0]).exp()*torch.Tensor(model.predict_proba(batch_xy[batch_label==0].cpu().numpy())[:,0].reshape(-1,1))*0.5/pcx).mean()))\n",
    "\n",
    "        \n",
    "        b_list.append(torch.logsumexp(net(batch_xy_)+torch.log((1-model(batch_xy_[:,:opt.d],batch_xy_[:,opt.d:])).reshape(-1,1)), dim=0) - np.log(batch_xy_.shape[0]) - torch.log(pcx))\n",
    "    if writer is not None:\n",
    "        writer.add_scalar('a', a, epoch)\n",
    "        writer.add_scalar('b', torch.mean(torch.stack(b_list)), epoch)\n",
    "    return a - sum(b_list)/len(b_list)"
   ]
  },
  {
   "cell_type": "code",
   "execution_count": 59,
   "metadata": {},
   "outputs": [
    {
     "name": "stdout",
     "output_type": "stream",
     "text": [
      "Iternation: 200, loss: -7.139431, mi_est: 6.994064\n"
     ]
    }
   ],
   "source": [
    "# continue_train = False  # set to True to continue to train\n",
    "if continue_train:\n",
    "    _iter = 0\n",
    "    for i in range(opt.n_epoch):\n",
    "        idx = torch.randperm(opt.sample_size)\n",
    "        idx_X, idx_Y = randerange(opt.sample_size)\n",
    "        for j in range(opt.n_iters_1epoch):\n",
    "            batch_idx = idx[j::opt.n_iters_1epoch]\n",
    "            batch_X = X[batch_idx]\n",
    "            batch_Y = Y[batch_idx]\n",
    " \n",
    "            optimizer_D.zero_grad()\n",
    "            loss = - smooth_loss(discriminator, GT_prob, batch_X, batch_Y, reg=True) # negative infonce_bound as the loss\n",
    "            # print(loss)\n",
    "            loss.backward()\n",
    "\n",
    "            optimizer_D.step()\n",
    "\n",
    "\n",
    "        with torch.no_grad():\n",
    "            mi_est = smooth_loss(discriminator, GT_prob, X, Y, writer, _iter)\n",
    "        mi_list.append(mi_est.item())\n",
    "        writer.add_scalar('mi_list', mi_est.item(), _iter)\n",
    "        writer.add_scalar('loss', loss, _iter)\n",
    "        _iter += 1\n",
    "        if _iter%200==0:\n",
    "            print(\"Iternation: %d, loss: %f, mi_est: %f\"%(_iter, loss.item(), mi_est))\n",
    "            fig = plot_fig(discriminator, opt.d)\n",
    "            writer.add_figure('heatmap', fig, _iter)\n",
    "            writer.add_histogram('first layer', discriminator.fc[0].weight.data, _iter)\n",
    "            writer.add_histogram('second layer', discriminator.fc[1].weight.data, _iter)\n",
    "            writer.add_histogram('third layer', discriminator.fc[2].weight.data, _iter)\n",
    "\n",
    "            writer.add_histogram('first layer (grad)', discriminator.fc[0].weight.grad.data, _iter)\n",
    "            writer.add_histogram('second layer (grad)', discriminator.fc[1].weight.grad.data, _iter)\n",
    "            writer.add_histogram('third layer (grad)', discriminator.fc[2].weight.grad.data, _iter)\n",
    "\n",
    "writer.add_graph(discriminator, (XY,))\n",
    "writer.close()"
   ]
  },
  {
   "cell_type": "code",
   "execution_count": null,
   "metadata": {},
   "outputs": [
    {
     "data": {
      "image/png": "[encoded data removed]",
      "text/plain": [
       "<Figure size 432x288 with 1 Axes>"
      ]
     },
     "metadata": {
      "needs_background": "light"
     },
     "output_type": "display_data"
    }
   ],
   "source": [
    "plt.plot(mi_list, label='Smoothed InfoNCE')\n",
    "\n",
    "plt.axhline(Ground_truth,label='ground truth',linestyle='--',color='red')\n",
    "plt.axhline(np.log(opt.sample_size),label='log $n$',linestyle='--',color='grey')\n",
    "# for t in range(len(mi_copy)):\n",
    "#     if (mi_copy[t]>.8*Ground_truth):\n",
    "#         plt.axvline(t,label='80% reached',linestyle=':',color='green')\n",
    "#         break\n",
    "plt.xlabel('number of iterations')\n",
    "plt.ylabel('MI estimation')\n",
    "plt.title('Mi estimation with Smoothed InfoNCE')\n",
    "plt.legend()\n",
    "plt.savefig(f'results/Smoothed_InfoNCE_dim{opt.d}_ma{ma_rate}.pdf')"
   ]
  },
  {
   "cell_type": "code",
   "execution_count": null,
   "metadata": {},
   "outputs": [
    {
     "name": "stdout",
     "output_type": "stream",
     "text": [
      "name: fc.0.weight grad_requirs: True grad_value: tensor([[-0.0229, -0.0466,  0.0383,  ...,  0.0614, -0.0894,  0.2198],\n",
      "        [-0.0187, -0.0705,  0.0187,  ...,  0.0983, -0.0680,  0.2208],\n",
      "        [-0.0122,  0.0087, -0.0422,  ..., -0.0748,  0.0662, -0.1534],\n",
      "        ...,\n",
      "        [-0.0170,  0.0048, -0.0548,  ..., -0.0825,  0.0259, -0.1222],\n",
      "        [-0.0281, -0.0758, -0.0026,  ...,  0.1041, -0.0782,  0.2238],\n",
      "        [-0.0595, -0.0597,  0.0132,  ...,  0.0880, -0.1293,  0.2469]])\n",
      "name: fc.0.bias grad_requirs: True grad_value: tensor([-0.9224, -0.8778,  0.4744,  0.4234, -0.9043, -1.0166,  0.4298,  0.5655,\n",
      "         0.4693, -1.0354, -0.9200, -0.9050, -0.9638,  0.4456,  0.3871,  0.3872,\n",
      "         0.4935, -0.9590,  0.4722,  0.3059, -0.9603,  0.4551,  0.4682, -1.0840,\n",
      "        -0.9464,  0.4685, -0.8971,  0.4639, -0.9704,  0.4970, -0.9251,  0.4193,\n",
      "         0.3681,  0.5213,  0.4121,  0.4627, -0.9003, -0.9268, -0.9814, -0.8268,\n",
      "         0.5375, -0.9621,  0.4744, -0.8080, -1.0938, -0.9321,  0.4058, -0.8740,\n",
      "        -0.8336, -0.9249, -1.0495,  0.4674, -1.0122,  0.4441, -1.1377,  0.5533,\n",
      "         0.5472, -0.8845, -0.8991, -0.9510, -0.9807, -0.9471,  0.3604,  0.5533,\n",
      "        -1.0055,  0.4443, -0.9737, -0.9827, -1.0317, -0.8949, -0.9390, -0.8576,\n",
      "        -0.9086, -1.0003,  0.4189, -1.0625,  0.4947,  0.4027, -1.0676, -0.9507,\n",
      "        -0.9910,  0.4087,  0.4455, -0.9349, -0.8829, -0.8573, -0.8927, -0.8393,\n",
      "         0.4441,  0.4580, -0.8838, -0.9929,  0.4836,  0.4673, -0.9496,  0.4804,\n",
      "        -1.0614,  0.4334, -0.9532, -1.0504])\n",
      "name: fc.1.weight grad_requirs: True grad_value: tensor([[ 0.0029,  0.0030, -0.0023,  ...,  0.0008,  0.0011,  0.0017],\n",
      "        [-0.0032, -0.0034,  0.0023,  ..., -0.0009, -0.0009, -0.0021],\n",
      "        [ 0.0030,  0.0036, -0.0021,  ...,  0.0009,  0.0011,  0.0018],\n",
      "        ...,\n",
      "        [ 0.0027,  0.0027, -0.0019,  ...,  0.0010,  0.0004,  0.0021],\n",
      "        [-0.0036, -0.0038,  0.0026,  ..., -0.0010, -0.0010, -0.0023],\n",
      "        [ 0.0039,  0.0044, -0.0024,  ...,  0.0009,  0.0007,  0.0027]])\n",
      "name: fc.1.bias grad_requirs: True grad_value: tensor([-0.0467,  0.0495, -0.0450, -0.0452,  0.0539, -0.0466,  0.0504, -0.0422,\n",
      "        -0.0454,  0.0581, -0.0481,  0.0496, -0.0436,  0.0496, -0.0443,  0.0554,\n",
      "        -0.0446,  0.0518, -0.0429, -0.0442, -0.0492, -0.0465, -0.0438,  0.0509,\n",
      "         0.0497, -0.0475, -0.0456, -0.0441,  0.0532, -0.0467,  0.0491,  0.0549,\n",
      "         0.0550,  0.0592, -0.0436, -0.0435, -0.0514,  0.0494,  0.0508, -0.0440,\n",
      "         0.0561,  0.0534,  0.0513,  0.0517, -0.0486,  0.0507,  0.0496,  0.0528,\n",
      "         0.0510,  0.0501,  0.0584,  0.0494,  0.0489,  0.0505,  0.0485, -0.0432,\n",
      "        -0.0439,  0.0500, -0.0440,  0.0485,  0.0515,  0.0500,  0.0483,  0.0579,\n",
      "         0.0527, -0.0459,  0.0521,  0.0558, -0.0434, -0.0459,  0.0490,  0.0562,\n",
      "         0.0513, -0.0455, -0.0453, -0.0480,  0.0512,  0.0525,  0.0510, -0.0482,\n",
      "        -0.0439,  0.0509, -0.0479,  0.0522, -0.0521,  0.0507,  0.0500, -0.0439,\n",
      "         0.0487, -0.0437, -0.0445, -0.0469, -0.0493, -0.0455, -0.0447, -0.0446,\n",
      "         0.0535, -0.0424,  0.0551, -0.0528])\n",
      "name: fc.2.weight grad_requirs: True grad_value: tensor([[-0.0329,  0.0820, -0.0320, -0.0330,  0.0770, -0.0324,  0.0790, -0.0339,\n",
      "         -0.0338,  0.0737, -0.0334,  0.0796, -0.0317,  0.0800, -0.0341,  0.0791,\n",
      "         -0.0361,  0.0784, -0.0329, -0.0313, -0.0310, -0.0337, -0.0320,  0.0813,\n",
      "          0.0800, -0.0347, -0.0354, -0.0326,  0.0811, -0.0325,  0.0784,  0.0784,\n",
      "          0.0777,  0.0744, -0.0344, -0.0309, -0.0307,  0.0792,  0.0779, -0.0334,\n",
      "          0.0759,  0.0768,  0.0793,  0.0803, -0.0323,  0.0798,  0.0809,  0.0788,\n",
      "          0.0791,  0.0800,  0.0759,  0.0780,  0.0802,  0.0779,  0.0814, -0.0353,\n",
      "         -0.0330,  0.0789, -0.0317,  0.0775,  0.0808,  0.0809,  0.0820,  0.0756,\n",
      "          0.0806, -0.0326,  0.0764,  0.0781, -0.0328, -0.0345,  0.0777,  0.0750,\n",
      "          0.0806, -0.0325, -0.0340, -0.0302,  0.0779,  0.0777,  0.0766, -0.0312,\n",
      "         -0.0358,  0.0789, -0.0314,  0.0790, -0.0318,  0.0781,  0.0781, -0.0354,\n",
      "          0.0823, -0.0324, -0.0315, -0.0316, -0.0331, -0.0340, -0.0314, -0.0304,\n",
      "          0.0762, -0.0337,  0.0771, -0.0288]])\n",
      "name: fc.2.bias grad_requirs: True grad_value: tensor([0.1946])\n"
     ]
    }
   ],
   "source": [
    "for name, parms in discriminator.named_parameters():\t\n",
    "    print('name:', name, 'grad_requirs:',parms.requires_grad, \\\n",
    "        'grad_value:',parms.grad)"
   ]
  }
 ],
 "metadata": {
  "interpreter": {
   "hash": "bf1c2c84a0114d8bd094e4ab7df101a23bc9c1c89692267d72e7fbb9a26d536b"
  },
  "kernelspec": {
   "display_name": "Python 3.7.5 64-bit ('torch': conda)",
   "name": "python3"
  },
  "language_info": {
   "codemirror_mode": {
    "name": "ipython",
    "version": 3
   },
   "file_extension": ".py",
   "mimetype": "text/x-python",
   "name": "python",
   "nbconvert_exporter": "python",
   "pygments_lexer": "ipython3",
   "version": "3.7.7"
  },
  "orig_nbformat": 4
 },
 "nbformat": 4,
 "nbformat_minor": 2
}
