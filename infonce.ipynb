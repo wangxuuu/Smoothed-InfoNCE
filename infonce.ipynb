{
 "cells": [
  {
   "cell_type": "markdown",
   "metadata": {},
   "source": [
    "# Estimating MI by noise contrastive method (InfoNCE)"
   ]
  },
  {
   "cell_type": "markdown",
   "metadata": {},
   "source": [
    "## Setup"
   ]
  },
  {
   "cell_type": "markdown",
   "metadata": {},
   "source": [
    "The following cell imports the necessary packages:"
   ]
  },
  {
   "cell_type": "code",
   "execution_count": 1,
   "metadata": {},
   "outputs": [],
   "source": [
    "import torch\n",
    "import torch.nn.functional as F\n",
    "import os\n",
    "import numpy as np\n",
    "import matplotlib.pyplot as plt\n",
    "import argparse\n",
    "from src.utils import *\n",
    "from src.mi_estimators import *\n",
    "from torch.utils.tensorboard import SummaryWriter"
   ]
  },
  {
   "cell_type": "markdown",
   "metadata": {},
   "source": [
    "Set random seed for reproducibility."
   ]
  },
  {
   "cell_type": "code",
   "execution_count": 2,
   "metadata": {},
   "outputs": [],
   "source": [
    "SEED = 0\n",
    "torch.manual_seed(SEED)\n",
    "torch.cuda.manual_seed(SEED)\n",
    "np.random.seed(SEED)\n",
    "\n",
    "cuda = True if torch.cuda.is_available() else False\n",
    "FloatTensor = torch.cuda.FloatTensor if cuda else torch.FloatTensor\n",
    "LongTensor = torch.cuda.LongTensor if cuda else torch.LongTensor\n",
    "torch.set_default_tensor_type(FloatTensor)"
   ]
  },
  {
   "cell_type": "markdown",
   "metadata": {},
   "source": [
    "Specify the hyper-parameters:"
   ]
  },
  {
   "cell_type": "code",
   "execution_count": 3,
   "metadata": {},
   "outputs": [],
   "source": [
    "parser = argparse.ArgumentParser()\n",
    "parser.add_argument(\"--rho\", type=float, default=0.9, help=\"coefficient of Gaussian\")\n",
    "parser.add_argument(\"--d\", type=int, default=10, help=\"dimension of X & Y\")\n",
    "parser.add_argument(\"--sample_size\", type=int, default=400, help=\"sample size\")\n",
    "parser.add_argument(\"--gamma\", type=float, default=1e-20, help=\"clipping parameter\")\n",
    "parser.add_argument(\"--b1\", type=float, default=0.5, help=\"adam: decay of first order momentum of gradient\")\n",
    "parser.add_argument(\"--b2\", type=float, default=0.999, help=\"adam: decay of first order momentum of gradient\")\n",
    "parser.add_argument(\"--batch_size\", type=int, default=40, help=\"size of the batches\")\n",
    "parser.add_argument(\"--lr\", type=float, default=1e-4, help=\"adam: learning rate\")\n",
    "parser.add_argument(\"--hidden_dim\", type=int, default=100, help=\"Hidden dimension\")\n",
    "parser.add_argument(\"--hidden_layer\", type=int, default=6, help=\"the number of hidden layers\")\n",
    "parser.add_argument(\"--ma_rate\", type=float, default=0.1, help=\"move average rate\")\n",
    "parser.add_argument(\"--ma_ef\", type=float, default=1, help=\"move average ef\")\n",
    "parser.add_argument(\"--exc\", type=int, default=1, help=\"whether exclude the data sample from the reference samples\")\n",
    "parser.add_argument(\"--reg\", type=int, default=1, help=\"if apply regularization\")\n",
    "parser.add_argument(\"--n_epoch\", type=int, default=1000, help=\"number of epochs of training\")\n",
    "parser.add_argument(\"--n_iters_1epoch\", type=int, default=10, help=\"number of epochs of training\")\n",
    "\n",
    "opt, unknown = parser.parse_known_args()\n",
    "opt.n_iters = opt.n_epoch * opt.n_iters_1epoch\n",
    "ma_rate = 0.01  # moving average rate"
   ]
  },
  {
   "cell_type": "code",
   "execution_count": 4,
   "metadata": {},
   "outputs": [],
   "source": [
    "continue_train = True  # set to True to continue to train\n",
    "load_available = True # set to False to prevent loading previous results\n",
    "overwrite = False  # set to True to overwrite previously stored results"
   ]
  },
  {
   "cell_type": "code",
   "execution_count": 5,
   "metadata": {},
   "outputs": [],
   "source": [
    "data = GaussianData(opt.sample_size, d=opt.d, rho=opt.rho)\n",
    "X, Y, XY, Ground_truth = data.X, data.Y, torch.cat((data.X, data.Y), dim=1), data.mutual_information()"
   ]
  },
  {
   "cell_type": "markdown",
   "metadata": {},
   "source": [
    "## Model"
   ]
  },
  {
   "cell_type": "code",
   "execution_count": 6,
   "metadata": {},
   "outputs": [],
   "source": [
    "name = f'./results/InfoNCE_dim{opt.d}_reg{opt.reg}'   # filename\n",
    "chkpt_name = name+'.pt'      # checkpoint\n",
    "\n",
    "from datetime import datetime\n",
    "TIMESTAMP = \"{0:%Y-%m-%dT%H-%M-%S/}\".format(datetime.now())\n",
    "writer = SummaryWriter(f'./results/log/InfoNCE_dim{opt.d}_reg{opt.reg}/{TIMESTAMP}')\n",
    "discriminator = Net(input_size=opt.d*2, hidden_layers=opt.hidden_layer, hidden_size=opt.hidden_dim)\n",
    "\n",
    "# move NN model to GPU if GPU is available\n",
    "if cuda:\n",
    "    discriminator.cuda()\n",
    "\n",
    "# Adam optimizer\n",
    "optimizer_D = torch.optim.Adam(discriminator.parameters(), lr=opt.lr, betas=(opt.b1, opt.b2))"
   ]
  },
  {
   "cell_type": "code",
   "execution_count": 12,
   "metadata": {},
   "outputs": [],
   "source": [
    "def infonce_loss(net, x_samples, y_samples, writer=None, epoch=None, reg=False):\n",
    "    sample_size = x_samples.shape[0]\n",
    "    x_tile = x_samples.unsqueeze(0).repeat((sample_size, 1, 1))\n",
    "    y_tile = y_samples.unsqueeze(1).repeat((1, sample_size, 1))\n",
    "\n",
    "    T0 = net(torch.cat([x_samples,y_samples], dim = -1))\n",
    "    T1 = net(torch.cat([x_tile, y_tile], dim = -1))\n",
    "    a = T0.mean()\n",
    "    b = T1.logsumexp(dim = 1).mean() - np.log(sample_size)\n",
    "    if reg:\n",
    "        lower_bound = a - b - b**2\n",
    "    else:\n",
    "        lower_bound = a - b\n",
    "\n",
    "    if writer is not None:\n",
    "        writer.add_scalar('a', a, epoch)\n",
    "        writer.add_scalar('b', b, epoch)\n",
    "        writer.add_scalar('log ratio', a-b-np.log(sample_size), epoch)\n",
    "    return lower_bound"
   ]
  },
  {
   "cell_type": "code",
   "execution_count": 13,
   "metadata": {},
   "outputs": [],
   "source": [
    "def infonce_exc_loss(net, x_samples, y_samples, writer=None, epoch=None, reg=False):\n",
    "    sample_size = x_samples.shape[0]\n",
    "    x_tile = x_samples.unsqueeze(0).repeat((sample_size, 1, 1))\n",
    "    y_tile = y_samples.unsqueeze(1).repeat((1, sample_size, 1))\n",
    "    mask =  torch.ones([sample_size]).diag().unsqueeze(-1).bool().cuda()\n",
    "    T0 = net(torch.cat([x_samples,y_samples], dim = -1))\n",
    "    T1 = net(torch.cat([x_tile, y_tile], dim = -1))\n",
    "    a = T0.mean()\n",
    "    b = T1[~mask].reshape(-1, sample_size-1, 1).logsumexp(dim = 0).mean() - np.log(sample_size-1)\n",
    "\n",
    "    if reg:\n",
    "        lower_bound = a - b - b**2\n",
    "    else:\n",
    "        lower_bound = a - b\n",
    "\n",
    "    if writer is not None:\n",
    "        writer.add_scalar('a', a, epoch)\n",
    "        writer.add_scalar('b', b, epoch)\n",
    "    return lower_bound"
   ]
  },
  {
   "cell_type": "markdown",
   "metadata": {},
   "source": [
    "Load previous results."
   ]
  },
  {
   "cell_type": "code",
   "execution_count": 9,
   "metadata": {},
   "outputs": [],
   "source": [
    "# load_available = True # set to False to prevent loading previous results\n",
    "if load_available and os.path.exists(chkpt_name):\n",
    "    checkpoint = torch.load(\n",
    "        chkpt_name, map_location='cuda' if torch.cuda.is_available() else 'cpu')\n",
    "    mi_list = checkpoint['mi_list']\n",
    "    model_state = checkpoint['model_state']\n",
    "    discriminator.load_state_dict(model_state)\n",
    "    print('Previous results loaded.')\n",
    "else:\n",
    "    mi_list = [] # storing the mi estimation of each iteration"
   ]
  },
  {
   "cell_type": "markdown",
   "metadata": {},
   "source": [
    "## Training"
   ]
  },
  {
   "cell_type": "markdown",
   "metadata": {},
   "source": [
    "Since maximizing the infoNCE bound over $f$ attains the mutual information\n",
    "\n",
    "\\begin{align}\n",
    "I(X\\wedge Y) = \\sup_{f} I_{\\text{infoNCE}}(f),\n",
    "\\end{align}\n",
    "\n",
    "we train the neural network to minimize the loss $-I_{\\text{infoNCE}}(f)$. The optimal solution $f$ satisfies\n",
    "\n",
    "\\begin{align}\n",
    "f(x,y)=\\log \\frac{p_{Y|X}(y|x)}{p_{Y}(y)} + c \\quad \\forall x\\in \\mathcal{X}, y \\in \\mathcal{Y}\n",
    "\\end{align}\n",
    "\n",
    "for any constant $c$."
   ]
  },
  {
   "cell_type": "markdown",
   "metadata": {},
   "source": [
    "The following cell train the neural network using the data samples."
   ]
  },
  {
   "cell_type": "code",
   "execution_count": 11,
   "metadata": {},
   "outputs": [
    {
     "name": "stdout",
     "output_type": "stream",
     "text": [
      "Iternation: 0, loss: 0.000000, mi_est: 0.000000\n",
      "Iternation: 1000, loss: -3.142045, mi_est: 4.086989\n",
      "Iternation: 2000, loss: -3.438602, mi_est: 4.582865\n",
      "Iternation: 3000, loss: -2.926898, mi_est: 4.315511\n",
      "Iternation: 4000, loss: -3.022312, mi_est: 4.620934\n",
      "Iternation: 5000, loss: -3.567674, mi_est: 4.948432\n",
      "Iternation: 6000, loss: -3.253861, mi_est: 4.973514\n",
      "Iternation: 7000, loss: -1.766921, mi_est: 4.626692\n",
      "Iternation: 8000, loss: -3.308816, mi_est: 4.722925\n",
      "Iternation: 9000, loss: -3.455814, mi_est: 4.935301\n"
     ]
    }
   ],
   "source": [
    "continue_train = True  # set to True to continue to train\n",
    "if continue_train:\n",
    "    for i in range(opt.n_epoch*opt.n_iters_1epoch):\n",
    "        data_joint = resample(XY, batch_size=opt.batch_size)\n",
    "        train_x = data_joint[:,0:opt.d]\n",
    "        train_y = data_joint[:,opt.d:]\n",
    "\n",
    "        optimizer_D.zero_grad()\n",
    "        loss = -infonce_loss(discriminator, train_x, train_y, reg=True) # negative infonce_bound as the loss\n",
    "        loss.backward()\n",
    "\n",
    "        optimizer_D.step()\n",
    "        with torch.no_grad():\n",
    "            mi_est = infonce_loss(discriminator, X, Y, writer, i)\n",
    "        mi_list.append(mi_est.item())\n",
    "        writer.add_scalar('mi_list', mi_est.item(), i)\n",
    "        writer.add_scalar('loss', loss, i)\n",
    "\n",
    "        if i%1000==0:\n",
    "            print(\"Iternation: %d, loss: %f, mi_est: %f\"%(i, loss.item(), mi_est))\n",
    "            fig = plot_fig(discriminator, X, Y, d= opt.d if opt.d<6 else 6 )\n",
    "            writer.add_figure('heatmap', fig, i)\n",
    "            writer.add_histogram('first layer', discriminator.fc[0].weight.data, i)\n",
    "            writer.add_histogram('second layer', discriminator.fc[1].weight.data, i)\n",
    "            writer.add_histogram('third layer', discriminator.fc[2].weight.data, i)\n",
    "\n",
    "            writer.add_histogram('first layer (grad)', discriminator.fc[0].weight.grad.data, i)\n",
    "            writer.add_histogram('second layer (grad)', discriminator.fc[1].weight.grad.data, i)\n",
    "            writer.add_histogram('third layer (grad)', discriminator.fc[2].weight.grad.data, i)\n",
    "\n",
    "\n",
    "# writer.add_graph(discriminator, (XY,))\n",
    "writer.close()"
   ]
  },
  {
   "cell_type": "code",
   "execution_count": 12,
   "metadata": {},
   "outputs": [
    {
     "name": "stdout",
     "output_type": "stream",
     "text": [
      "Current results saved.\n"
     ]
    }
   ],
   "source": [
    "overwrite = True  # set to True to overwrite previously stored results\n",
    "if overwrite or not os.path.exists(chkpt_name):\n",
    "    model_state = discriminator.state_dict()\n",
    "    torch.save({\n",
    "        'mi_list': mi_list,\n",
    "        'model_state': model_state\n",
    "    }, chkpt_name)\n",
    "    writer.close()\n",
    "    print('Current results saved.')"
   ]
  },
  {
   "cell_type": "markdown",
   "metadata": {},
   "source": [
    "## MI estimates"
   ]
  },
  {
   "cell_type": "markdown",
   "metadata": {
    "tags": []
   },
   "source": [
    "Use moving average to smooth the estimated MI in each training iteration."
   ]
  },
  {
   "cell_type": "code",
   "execution_count": 13,
   "metadata": {},
   "outputs": [],
   "source": [
    "mi_copy = mi_list.copy()\n",
    "for k in range(1,len(mi_list)):\n",
    "    mi_copy[k] = (1-ma_rate) * mi_copy[k-1] + ma_rate * mi_copy[k]"
   ]
  },
  {
   "cell_type": "markdown",
   "metadata": {},
   "source": [
    "Plot the MI estimation curve against the training iteration, together with the ground truth."
   ]
  },
  {
   "cell_type": "code",
   "execution_count": 14,
   "metadata": {},
   "outputs": [
    {
     "data": {
      "text/plain": [
       "<matplotlib.legend.Legend at 0x7f85fb1eb490>"
      ]
     },
     "execution_count": 14,
     "metadata": {},
     "output_type": "execute_result"
    },
    {
     "data": {
      "image/png": "[encoded data removed]",
      "text/plain": [
       "<Figure size 432x288 with 1 Axes>"
      ]
     },
     "metadata": {
      "needs_background": "light"
     },
     "output_type": "display_data"
    }
   ],
   "source": [
    "plt.plot(mi_copy, label='MI estimate')\n",
    "plt.axhline(Ground_truth,label='ground truth',linestyle='--',color='red')\n",
    "# for t in range(len(mi_copy)):\n",
    "#     if (mi_copy[t]>.8*Ground_truth):\n",
    "#         plt.axvline(t,label='80% reached',linestyle=':',color='green')\n",
    "#         break\n",
    "plt.xlabel('number of iterations')\n",
    "plt.ylabel('MI estimation')\n",
    "plt.legend()"
   ]
  },
  {
   "cell_type": "markdown",
   "metadata": {},
   "source": [
    "## InfoNCE w\\o datasamples"
   ]
  },
  {
   "cell_type": "code",
   "execution_count": 6,
   "metadata": {},
   "outputs": [],
   "source": [
    "name = f'./results/InfoNCE_exc_dim{opt.d}_reg{opt.reg}'   # filename\n",
    "chkpt_name = name+'.pt'      # checkpoint\n",
    "opt.reg = 1\n",
    "from datetime import datetime\n",
    "TIMESTAMP = \"{0:%Y-%m-%dT%H-%M-%S/}\".format(datetime.now())\n",
    "writer = SummaryWriter(f'./results/log/InfoNCE_exc_dim{opt.d}_reg{opt.reg}/{TIMESTAMP}')\n",
    "discriminator2 = Net(input_size=opt.d*2, hidden_layers=opt.hidden_layer, hidden_size=opt.hidden_dim)\n",
    "\n",
    "# move NN model to GPU if GPU is available\n",
    "if cuda:\n",
    "    discriminator2.cuda()\n",
    "\n",
    "# Adam optimizer\n",
    "optimizer_D = torch.optim.Adam(discriminator2.parameters(), lr=opt.lr, betas=(opt.b1, opt.b2))"
   ]
  },
  {
   "cell_type": "code",
   "execution_count": 7,
   "metadata": {},
   "outputs": [
    {
     "name": "stdout",
     "output_type": "stream",
     "text": [
      "Previous results loaded.\n"
     ]
    }
   ],
   "source": [
    "# load_available = True # set to False to prevent loading previous results\n",
    "if load_available and os.path.exists(chkpt_name):\n",
    "    checkpoint = torch.load(\n",
    "        chkpt_name, map_location='cuda' if torch.cuda.is_available() else 'cpu')\n",
    "    mi_list = checkpoint['mi_list']\n",
    "    model_state = checkpoint['model_state']\n",
    "    discriminator2.load_state_dict(model_state)\n",
    "    print('Previous results loaded.')\n",
    "else:\n",
    "    mi_list = [] # storing the mi estimation of each iteration"
   ]
  },
  {
   "cell_type": "code",
   "execution_count": 31,
   "metadata": {},
   "outputs": [
    {
     "name": "stdout",
     "output_type": "stream",
     "text": [
      "Iternation: 0, loss: 0.025959, mi_est: 0.000000\n",
      "Iternation: 1000, loss: -4.406321, mi_est: 4.253283\n",
      "Iternation: 2000, loss: -4.051922, mi_est: 3.840552\n",
      "Iternation: 3000, loss: -9.367400, mi_est: 4.951554\n",
      "Iternation: 4000, loss: -2.406297, mi_est: 3.978122\n",
      "Iternation: 5000, loss: -2.155282, mi_est: 3.694847\n",
      "Iternation: 6000, loss: -9.591160, mi_est: 3.849643\n",
      "Iternation: 7000, loss: -1.218609, mi_est: 0.212527\n",
      "Iternation: 8000, loss: -0.255599, mi_est: 0.115849\n",
      "Iternation: 9000, loss: 0.182922, mi_est: -0.055142\n"
     ]
    }
   ],
   "source": [
    "continue_train = True  # set to True to continue to train\n",
    "if continue_train:\n",
    "    for i in range(opt.n_epoch*opt.n_iters_1epoch):\n",
    "        data_joint = resample(XY, batch_size=opt.batch_size)\n",
    "        train_x = data_joint[:,0:opt.d]\n",
    "        train_y = data_joint[:,opt.d:]\n",
    "\n",
    "        optimizer_D.zero_grad()\n",
    "        loss = -infonce_exc_loss(discriminator2, train_x, train_y, reg=opt.reg) # negative infonce_bound as the loss\n",
    "        loss.backward()\n",
    "\n",
    "        optimizer_D.step()\n",
    "        with torch.no_grad():\n",
    "            mi_est = infonce_loss(discriminator2, X, Y, writer, i)\n",
    "        mi_list.append(mi_est.item())\n",
    "        writer.add_scalar('mi_list', mi_est.item(), i)\n",
    "        writer.add_scalar('loss', loss, i)\n",
    "\n",
    "        if i%1000==0:\n",
    "            print(\"Iternation: %d, loss: %f, mi_est: %f\"%(i, loss.item(), mi_est))\n",
    "            fig = plot_fig(discriminator2, X, Y, d=opt.d if opt.d<6 else 6)\n",
    "            writer.add_figure('heatmap', fig, i)\n",
    "            writer.add_histogram('first layer', discriminator.fc[0].weight.data, i)\n",
    "            writer.add_histogram('second layer', discriminator.fc[1].weight.data, i)\n",
    "            writer.add_histogram('third layer', discriminator.fc[2].weight.data, i)\n",
    "\n",
    "            writer.add_histogram('first layer (grad)', discriminator.fc[0].weight.grad.data, i)\n",
    "            writer.add_histogram('second layer (grad)', discriminator.fc[1].weight.grad.data, i)\n",
    "            writer.add_histogram('third layer (grad)', discriminator.fc[2].weight.grad.data, i)\n",
    "\n",
    "# writer.add_graph(discriminator, (XY,))\n",
    "writer.close()"
   ]
  },
  {
   "cell_type": "code",
   "execution_count": 32,
   "metadata": {},
   "outputs": [],
   "source": [
    "mi_copy2 = mi_list.copy()\n",
    "for k in range(1,len(mi_list)):\n",
    "    mi_copy2[k] = (1-ma_rate) * mi_copy2[k-1] + ma_rate * mi_copy2[k]"
   ]
  },
  {
   "cell_type": "code",
   "execution_count": 21,
   "metadata": {},
   "outputs": [
    {
     "name": "stdout",
     "output_type": "stream",
     "text": [
      "Current results saved.\n"
     ]
    }
   ],
   "source": [
    "overwrite = True  # set to True to overwrite previously stored results\n",
    "if overwrite or not os.path.exists(chkpt_name):\n",
    "    model_state = discriminator2.state_dict()\n",
    "    torch.save({\n",
    "        'mi_list': mi_list,\n",
    "        'model_state': model_state\n",
    "    }, chkpt_name)\n",
    "    writer.close()\n",
    "    print('Current results saved.')"
   ]
  },
  {
   "cell_type": "code",
   "execution_count": 33,
   "metadata": {},
   "outputs": [
    {
     "data": {
      "text/plain": [
       "<matplotlib.legend.Legend at 0x7f864413f5d0>"
      ]
     },
     "execution_count": 33,
     "metadata": {},
     "output_type": "execute_result"
    },
    {
     "data": {
      "image/png": "[encoded data removed]",
      "text/plain": [
       "<Figure size 432x288 with 1 Axes>"
      ]
     },
     "metadata": {
      "needs_background": "light"
     },
     "output_type": "display_data"
    }
   ],
   "source": [
    "plt.plot(mi_copy2, label='MI estimate')\n",
    "plt.axhline(Ground_truth,label='ground truth',linestyle='--',color='red')\n",
    "# for t in range(len(mi_copy)):\n",
    "#     if (mi_copy[t]>.8*Ground_truth):\n",
    "#         plt.axvline(t,label='80% reached',linestyle=':',color='green')\n",
    "#         break\n",
    "plt.xlabel('number of iterations')\n",
    "plt.ylabel('MI estimation')\n",
    "plt.legend()"
   ]
  },
  {
   "cell_type": "markdown",
   "metadata": {},
   "source": [
    "## InfoNCE with GT reference distribution"
   ]
  },
  {
   "cell_type": "code",
   "execution_count": 108,
   "metadata": {},
   "outputs": [],
   "source": [
    "discriminator3 = Net(input_size=opt.d*2, hidden_size=100)\n",
    "\n",
    "# move NN model to GPU if GPU is available\n",
    "if cuda:\n",
    "    discriminator3.cuda()\n",
    "\n",
    "# Adam optimizer\n",
    "optimizer_D = torch.optim.Adam(discriminator3.parameters(), lr=opt.lr, betas=(opt.b1, opt.b2))"
   ]
  },
  {
   "cell_type": "code",
   "execution_count": 109,
   "metadata": {},
   "outputs": [
    {
     "name": "stdout",
     "output_type": "stream",
     "text": [
      "Previous results loaded.\n"
     ]
    }
   ],
   "source": [
    "name = f'./results/InfoNCE_knownref_dim{opt.d}'   # filename\n",
    "chkpt_name = name+'.pt'      # checkpoint\n",
    "writer = SummaryWriter(f'./results/log/InfoNCE_knownref_dim{opt.d}')\n",
    "\n",
    "\n",
    "# load_available = True # set to False to prevent loading previous results\n",
    "if load_available and os.path.exists(chkpt_name):\n",
    "    checkpoint = torch.load(\n",
    "        chkpt_name, map_location='cuda' if torch.cuda.is_available() else 'cpu')\n",
    "    mi_list = checkpoint['mi_list']\n",
    "    model_state = checkpoint['model_state']\n",
    "    discriminator3.load_state_dict(model_state)\n",
    "    print('Previous results loaded.')\n",
    "else:\n",
    "    mi_list = [] # storing the mi estimation of each iteration"
   ]
  },
  {
   "cell_type": "code",
   "execution_count": 110,
   "metadata": {},
   "outputs": [],
   "source": [
    "def estimate_withGT(Net, jointdata, marginaldata):\n",
    "    L = Net(jointdata).mean()\n",
    "    L_ = discriminator3(marginaldata).reshape((jointdata.shape[0], jointdata.shape[0], -1)).logsumexp(1) - np.log(jointdata.shape[0])\n",
    "    return L - L_.mean()"
   ]
  },
  {
   "cell_type": "code",
   "execution_count": 111,
   "metadata": {},
   "outputs": [],
   "source": [
    "idx = torch.randperm(opt.sample_size)\n",
    "data = GaussianData(opt.sample_size**2, d=opt.d, rho=opt.rho)\n",
    "data2 = GaussianData(opt.sample_size*opt.batch_size, d=opt.d, rho=opt.rho)\n",
    "ref_Y = data.Y\n",
    "ref_X = X.repeat(opt.sample_size, 1)\n",
    "ref_data = torch.cat((ref_X, ref_Y), dim=1)\n",
    "\n",
    "# continue_train = True  # set to True to continue to train\n",
    "_iter = 0\n",
    "if continue_train:\n",
    "    for i in range(opt.n_epoch):\n",
    "        idx = torch.randperm(opt.sample_size)\n",
    "\n",
    "        for j in range(opt.n_iters_1epoch):\n",
    "            optimizer_D.zero_grad()\n",
    "            batch_idx = idx[j::opt.n_iters_1epoch]\n",
    "            batch_X = X[batch_idx]\n",
    "            batch_Y = Y[batch_idx]\n",
    "\n",
    "            batch_X_ref = X[batch_idx.unsqueeze(0).repeat(\n",
    "                opt.sample_size, 1)]\n",
    "            batch_Y_ref = data2.Y\n",
    "            batch_Y_ref = batch_Y_ref.reshape((-1,) + batch_X_ref.shape[1:])\n",
    "            # define the loss\n",
    "            L = -discriminator3(torch.cat((batch_X, batch_Y),dim=1)).mean()\n",
    "            L_ = discriminator3(torch.cat((batch_X_ref, batch_Y_ref), dim=-1)).reshape(\n",
    "                    (opt.sample_size, batch_idx.shape[0],\n",
    "                        -1)).logsumexp(1) - np.log(batch_Y_ref.shape[0])\n",
    "            loss = L + L_.mean()\n",
    "            loss.backward()\n",
    "\n",
    "            optimizer_D.step()\n",
    "            writer.add_scalar(\"Loss/train\",\n",
    "                                    loss.item(),\n",
    "                                    global_step=_iter)\n",
    "            writer.add_scalar(\"L\", L.item(), global_step=_iter)\n",
    "            writer.add_scalar(\"L_.mean()\",\n",
    "                                    L_.mean().item(),\n",
    "                                    global_step=_iter)\n",
    "            _iter += 1\n",
    "\n",
    "            with torch.no_grad():\n",
    "                mi_est = estimate_withGT(discriminator3, XY, ref_data)\n",
    "\n",
    "            mi_list.append(mi_est.item())\n",
    "            writer.add_scalar('mi_list', mi_est, _iter)\n",
    "            writer.add_scalar('loss', loss, _iter)\n",
    "            if _iter%500==0:\n",
    "                print(\"Iternation: %d, loss: %f, mi_est: %f\"%(_iter, loss.item(), mi_est))\n",
    "\n",
    "writer.add_graph(discriminator3, (XY,))"
   ]
  },
  {
   "cell_type": "code",
   "execution_count": 112,
   "metadata": {},
   "outputs": [
    {
     "name": "stdout",
     "output_type": "stream",
     "text": [
      "Current results saved.\n"
     ]
    }
   ],
   "source": [
    "overwrite = True  # set to True to overwrite previously stored results\n",
    "if overwrite or not os.path.exists(chkpt_name):\n",
    "    model_state = discriminator3.state_dict()\n",
    "    torch.save({\n",
    "        'mi_list': mi_list,\n",
    "        'model_state': model_state\n",
    "    }, chkpt_name)\n",
    "    writer.close()\n",
    "    print('Current results saved.')"
   ]
  },
  {
   "cell_type": "code",
   "execution_count": 113,
   "metadata": {},
   "outputs": [],
   "source": [
    "mi_copy3 = mi_list.copy()\n",
    "for k in range(1,len(mi_list)):\n",
    "    mi_copy3[k] = (1-ma_rate) * mi_copy3[k-1] + ma_rate * mi_copy3[k]"
   ]
  },
  {
   "cell_type": "code",
   "execution_count": 114,
   "metadata": {},
   "outputs": [
    {
     "data": {
      "image/png": "[encoded data removed]",
      "text/plain": [
       "<Figure size 432x288 with 1 Axes>"
      ]
     },
     "metadata": {
      "needs_background": "light"
     },
     "output_type": "display_data"
    }
   ],
   "source": [
    "std = 0.183\n",
    "plt.plot(mi_copy3, label='MI estimate with reference distribution')\n",
    "plt.plot(mi_copy2, label='MI estimate with exclusion')\n",
    "plt.plot(mi_copy, label='MI estimate w/o exclusion')\n",
    "\n",
    "plt.axhline(Ground_truth+2*std,label='ground truth + 2 std',linestyle='--',color='lightblue')\n",
    "plt.axhline(Ground_truth-2*std,label='ground truth - 2 std',linestyle='--',color='lightblue')\n",
    "plt.axhline(Ground_truth,label='ground truth',linestyle='--',color='red')\n",
    "plt.axhline(np.log(opt.sample_size),label='log $n$',linestyle='--',color='grey')\n",
    "\n",
    "plt.xlabel('number of iterations')\n",
    "plt.ylabel('MI estimation')\n",
    "plt.title('Mi estimation with InfoNCE')\n",
    "plt.legend()\n",
    "# plt.savefig(f'results/InfoNCE_wo_datapoints_dim{opt.d}_ma{ma_rate}.pdf')"
   ]
  }
 ],
 "metadata": {
  "interpreter": {
   "hash": "bf1c2c84a0114d8bd094e4ab7df101a23bc9c1c89692267d72e7fbb9a26d536b"
  },
  "kernelspec": {
   "display_name": "Python 3.7.5 64-bit ('torch': conda)",
   "name": "python3"
  },
  "language_info": {
   "codemirror_mode": {
    "name": "ipython",
    "version": 3
   },
   "file_extension": ".py",
   "mimetype": "text/x-python",
   "name": "python",
   "nbconvert_exporter": "python",
   "pygments_lexer": "ipython3",
   "version": "3.7.7"
  },
  "toc": {
   "base_numbering": 1,
   "nav_menu": {},
   "number_sections": true,
   "sideBar": true,
   "skip_h1_title": false,
   "title_cell": "Table of Contents",
   "title_sidebar": "Contents",
   "toc_cell": false,
   "toc_position": {},
   "toc_section_display": true,
   "toc_window_display": false
  }
 },
 "nbformat": 4,
 "nbformat_minor": 4
}
