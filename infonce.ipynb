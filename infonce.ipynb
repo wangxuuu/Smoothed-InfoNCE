{
 "cells": [
  {
   "cell_type": "markdown",
   "metadata": {},
   "source": [
    "# Estimating MI by noise contrastive method (InfoNCE)"
   ]
  },
  {
   "cell_type": "markdown",
   "metadata": {},
   "source": [
    "## Setup"
   ]
  },
  {
   "cell_type": "markdown",
   "metadata": {},
   "source": [
    "The following cell imports the necessary packages:"
   ]
  },
  {
   "cell_type": "code",
   "execution_count": 1,
   "metadata": {},
   "outputs": [],
   "source": [
    "import torch\n",
    "import torch.nn as nn\n",
    "import os\n",
    "import torch.nn.functional as F\n",
    "import torch.optim as optim\n",
    "import numpy as np\n",
    "import matplotlib.pyplot as plt\n",
    "import argparse\n",
    "from torch.autograd import Variable\n",
    "import itertools\n",
    "from tqdm import tqdm\n",
    "from src.gaussian import Gaussian\n",
    "from src.mi_estimators import *\n",
    "from src.mix_gaussian import MixedGaussian\n",
    "from src.mi_estimators_derangement import *\n",
    "from torch.utils.tensorboard import SummaryWriter\n",
    "import datetime"
   ]
  },
  {
   "cell_type": "markdown",
   "metadata": {},
   "source": [
    "Use GPU if GPU is available."
   ]
  },
  {
   "cell_type": "code",
   "execution_count": 2,
   "metadata": {},
   "outputs": [],
   "source": [
    "cuda = True if torch.cuda.is_available() else False\n",
    "FloatTensor = torch.cuda.FloatTensor if cuda else torch.FloatTensor\n",
    "LongTensor = torch.cuda.LongTensor if cuda else torch.LongTensor\n",
    "torch.set_default_tensor_type(FloatTensor)"
   ]
  },
  {
   "cell_type": "markdown",
   "metadata": {},
   "source": [
    "Set random seed for reproducibility."
   ]
  },
  {
   "cell_type": "code",
   "execution_count": 3,
   "metadata": {},
   "outputs": [],
   "source": [
    "SEED = 0\n",
    "torch.manual_seed(SEED)\n",
    "torch.cuda.manual_seed(SEED)\n",
    "np.random.seed(SEED)"
   ]
  },
  {
   "cell_type": "markdown",
   "metadata": {},
   "source": [
    "Specify the hyper-parameters:"
   ]
  },
  {
   "cell_type": "code",
   "execution_count": 4,
   "metadata": {},
   "outputs": [],
   "source": [
    "# arguments\n",
    "parser = argparse.ArgumentParser()\n",
    "parser.add_argument(\"--rho\", type=float, default=0.9, help=\"coefficient of Gaussian\")\n",
    "parser.add_argument(\"--d\", type=int, default=2, help=\"dimension of X & Y\")\n",
    "parser.add_argument(\"--sample_size\", type=int, default=100, help=\"sample size\")\n",
    "parser.add_argument(\"--gamma\", type=float, default=0, help=\"clipping parameter\")\n",
    "parser.add_argument(\"--b1\", type=float, default=0.5, help=\"adam: decay of first order momentum of gradient\")\n",
    "parser.add_argument(\"--b2\", type=float, default=0.999, help=\"adam: decay of first order momentum of gradient\")\n",
    "# parser.add_argument(\"--n_iters\", type=int, default=3000, help=\"number of epochs of training\")\n",
    "parser.add_argument(\"--batch_size\", type=int, default=20, help=\"size of the batches\")\n",
    "parser.add_argument(\"--lr\", type=float, default=1e-4, help=\"adam: learning rate\")\n",
    "parser.add_argument(\"--hidden_dim\", type=int, default=100, help=\"Hidden dimension\")\n",
    "parser.add_argument(\"--c_0_1_ratio\", type=float, default=1, help=\"Ratio of samples with label 0 and samples with label 1 \")\n",
    "parser.add_argument(\"--ma_rate\", type=float, default=0.1, help=\"move average rate\")\n",
    "parser.add_argument(\"--ma_ef\", type=float, default=1, help=\"move average ef\")\n",
    "\n",
    "parser.add_argument(\"--n_epoch\", type=int, default=6000, help=\"number of epochs of training\")\n",
    "parser.add_argument(\"--n_iters_1epoch\", type=int, default=10, help=\"number of epochs of training\")\n",
    "\n",
    "ma_rate = 0.5  # moving average rate\n",
    "\n",
    "opt, unknown = parser.parse_known_args()"
   ]
  },
  {
   "cell_type": "markdown",
   "metadata": {},
   "source": [
    "Specify the distribution to generate the data samples:"
   ]
  },
  {
   "cell_type": "code",
   "execution_count": 5,
   "metadata": {},
   "outputs": [],
   "source": [
    "# Two choices here: 'Gaussian' and 'MixedGaussian'\n",
    "density = 'Gaussian'\n",
    "\n",
    "continue_train = True  # set to True to continue to train\n",
    "load_available = False # set to False to prevent loading previous results"
   ]
  },
  {
   "cell_type": "markdown",
   "metadata": {},
   "source": [
    "## Model"
   ]
  },
  {
   "cell_type": "code",
   "execution_count": 6,
   "metadata": {},
   "outputs": [],
   "source": [
    "def generate_data(distribution='Gaussian', sample_size=400, rho=0.9):\n",
    "    # rho is the covariance for generating distributions\n",
    "    # mu1 and mu2 are means for generating Mixed Gaussian distribution \n",
    "    mu1 = 0\n",
    "    mu2 = 0\n",
    "\n",
    "    # mg is an object of Class Gaussian or MixedGaussian\n",
    "    if distribution=='Gaussian':\n",
    "        mg = Gaussian(sample_size=sample_size,rho=rho)\n",
    "    else:\n",
    "        mg = MixedGaussian(sample_size=sample_size, mean1=mu1, mean2=mu2,rho1=rho, rho2=-rho)\n",
    "\n",
    "    # Calculate the ground truth MI between X and Y for (X, Y) from mg\n",
    "    mi = mg.ground_truth * opt.d\n",
    "\n",
    "    # Create X, Y for storing generated samples\n",
    "    X = np.zeros((sample_size,opt.d))\n",
    "    Y = np.zeros((sample_size,opt.d))\n",
    "\n",
    "    # Generate samples of random variable X,Y and XY\n",
    "    for j in range(opt.d):\n",
    "        # In each iteration, mg.data will generate samples of two dimensions where one dimension for X and another for Y respectively \n",
    "        data = mg.data\n",
    "        X[:,j] = data[:,0]\n",
    "        Y[:,j] = data[:,1]        \n",
    "    X = torch.Tensor(X)\n",
    "    Y = torch.Tensor(Y)\n",
    "    XY = torch.cat((X, Y), dim=1)\n",
    "\n",
    "    return XY, X, Y, mi"
   ]
  },
  {
   "cell_type": "code",
   "execution_count": 8,
   "metadata": {},
   "outputs": [],
   "source": [
    "XY, X, Y, Ground_truth = generate_data(distribution=density, sample_size=opt.sample_size, rho=opt.rho)"
   ]
  },
  {
   "cell_type": "markdown",
   "metadata": {},
   "source": [
    "Define the neural network."
   ]
  },
  {
   "cell_type": "code",
   "execution_count": 9,
   "metadata": {},
   "outputs": [],
   "source": [
    "class Net(nn.Module):\n",
    "    # Inner class that defines the neural network architecture\n",
    "    def __init__(self, input_size=2, hidden_size=100, sigma=0.02):\n",
    "        super().__init__()\n",
    "        self.fc1 = nn.Linear(input_size, hidden_size)\n",
    "        self.fc2 = nn.Linear(hidden_size, hidden_size)\n",
    "        self.fc3 = nn.Linear(hidden_size, 1)\n",
    "        nn.init.normal_(self.fc1.weight, std=sigma)\n",
    "        nn.init.constant_(self.fc1.bias, 0)\n",
    "        nn.init.normal_(self.fc2.weight, std=sigma)\n",
    "        nn.init.constant_(self.fc2.bias, 0)\n",
    "        nn.init.normal_(self.fc3.weight, std=sigma)\n",
    "        nn.init.constant_(self.fc3.bias, 0)\n",
    "\n",
    "    def forward(self, input):\n",
    "        output = F.elu(self.fc1(input))\n",
    "        output = F.elu(self.fc2(output))\n",
    "        output = self.fc3(output)\n",
    "\n",
    "        return output"
   ]
  },
  {
   "cell_type": "markdown",
   "metadata": {},
   "source": [
    "The function `_resample` below is for resampling the given data samples for training the neural network."
   ]
  },
  {
   "cell_type": "code",
   "execution_count": 10,
   "metadata": {},
   "outputs": [],
   "source": [
    "def _resample(data, batch_size, replace=False):\n",
    "    # Resample the given data sample.\n",
    "    index = np.random.choice(\n",
    "        range(data.shape[0]), size=batch_size, replace=replace)\n",
    "    batch = data[index]\n",
    "    return batch"
   ]
  },
  {
   "cell_type": "markdown",
   "metadata": {},
   "source": [
    "The function `infonce_loss` below returns the empirical estimate of the following infoNCE lower bound on the mutual information $I(X\\wedge Y)$:\n",
    "\n",
    "\\begin{align}\n",
    "I_{\\text{infoNCE}}(f) := E\\left[\\log \\frac{e^{f(X, Y)}}{E \\left[\\left. e^{f( X, Y')} \\right| X \\right]} \\right] \\leq I(X\\wedge Y) \n",
    "\\end{align}\n",
    "\n",
    "where $f: \\mathcal{X}\\times \\mathcal{Y}\\to \\mathbb{R}$ is a function to be implemented by a neural network, and $p_{Y'|X,Y}(y'|x,y)=p_{Y}(y)$, i.e., $Y'$ is identically distributed as $Y$ and independent of $(X,Y)$.\n"
   ]
  },
  {
   "cell_type": "code",
   "execution_count": 11,
   "metadata": {},
   "outputs": [],
   "source": [
    "def infonce_loss(net, x_samples, y_samples):\n",
    "    sample_size = x_samples.shape[0]\n",
    "    x_tile = x_samples.unsqueeze(0).repeat((sample_size, 1, 1))\n",
    "    y_tile = y_samples.unsqueeze(1).repeat((1, sample_size, 1))\n",
    "\n",
    "    T0 = net(torch.cat([x_samples,y_samples], dim = -1))\n",
    "    T1 = net(torch.cat([x_tile, y_tile], dim = -1))\n",
    "\n",
    "    lower_bound = T0.mean() - (T1.logsumexp(dim = 1).mean() - np.log(sample_size))\n",
    "    return lower_bound"
   ]
  },
  {
   "cell_type": "markdown",
   "metadata": {},
   "source": [
    "The neural network `discriminator` below implements $f$:"
   ]
  },
  {
   "cell_type": "code",
   "execution_count": 95,
   "metadata": {},
   "outputs": [],
   "source": [
    "name = f'./results/InfoNCE_dim{opt.d}'   # filename\n",
    "chkpt_name = name+'.pt'      # checkpoint\n",
    "writer = SummaryWriter(f'./results/log/InfoNCE_dim{opt.d}')\n",
    "\n",
    "discriminator = Net(input_size=opt.d*2, hidden_size=100)\n",
    "\n",
    "# move NN model to GPU if GPU is available\n",
    "if cuda:\n",
    "    discriminator.cuda()\n",
    "\n",
    "# Adam optimizer\n",
    "optimizer_D = torch.optim.Adam(discriminator.parameters(), lr=opt.lr, betas=(opt.b1, opt.b2))"
   ]
  },
  {
   "cell_type": "markdown",
   "metadata": {},
   "source": [
    "Load previous results."
   ]
  },
  {
   "cell_type": "code",
   "execution_count": 96,
   "metadata": {},
   "outputs": [
    {
     "name": "stdout",
     "output_type": "stream",
     "text": [
      "Previous results loaded.\n"
     ]
    }
   ],
   "source": [
    "# load_available = True # set to False to prevent loading previous results\n",
    "if load_available and os.path.exists(chkpt_name):\n",
    "    checkpoint = torch.load(\n",
    "        chkpt_name, map_location='cuda' if torch.cuda.is_available() else 'cpu')\n",
    "    mi_list = checkpoint['mi_list']\n",
    "    model_state = checkpoint['model_state']\n",
    "    discriminator.load_state_dict(model_state)\n",
    "    print('Previous results loaded.')\n",
    "else:\n",
    "    mi_list = [] # storing the mi estimation of each iteration"
   ]
  },
  {
   "cell_type": "markdown",
   "metadata": {},
   "source": [
    "## Training"
   ]
  },
  {
   "cell_type": "markdown",
   "metadata": {},
   "source": [
    "Since maximizing the infoNCE bound over $f$ attains the mutual information\n",
    "\n",
    "\\begin{align}\n",
    "I(X\\wedge Y) = \\sup_{f} I_{\\text{infoNCE}}(f),\n",
    "\\end{align}\n",
    "\n",
    "we train the neural network to minimize the loss $-I_{\\text{infoNCE}}(f)$. The optimal solution $f$ satisfies\n",
    "\n",
    "\\begin{align}\n",
    "f(x,y)=\\log \\frac{p_{Y|X}(y|x)}{p_{Y}(y)} + c \\quad \\forall x\\in \\mathcal{X}, y \\in \\mathcal{Y}\n",
    "\\end{align}\n",
    "\n",
    "for any constant $c$."
   ]
  },
  {
   "cell_type": "markdown",
   "metadata": {},
   "source": [
    "The following cell train the neural network using the data samples."
   ]
  },
  {
   "cell_type": "code",
   "execution_count": 97,
   "metadata": {},
   "outputs": [],
   "source": [
    "# continue_train = False  # set to True to continue to train\n",
    "if continue_train:\n",
    "    for i in range(opt.n_epoch*opt.n_iters_1epoch):\n",
    "        data_joint = _resample(XY, batch_size=opt.batch_size)\n",
    "        train_x = data_joint[:,0:opt.d]\n",
    "        train_y = data_joint[:,opt.d:]\n",
    "\n",
    "        optimizer_D.zero_grad()\n",
    "        loss = - infonce_loss(discriminator, train_x, train_y) # negative infonce_bound as the loss\n",
    "        loss.backward()\n",
    "\n",
    "        optimizer_D.step()\n",
    "        with torch.no_grad():\n",
    "            mi_est = infonce_loss(discriminator, X, Y)\n",
    "        mi_list.append(mi_est.item())\n",
    "        writer.add_scalar('mi_list', mi_est.item(), i)\n",
    "        writer.add_scalar('loss', loss, i)\n",
    "        if i%500==0:\n",
    "            print(\"Iternation: %d, loss: %f, mi_est: %f\"%(i, loss.item(), mi_est))\n",
    "\n",
    "writer.add_graph(discriminator, (XY,))"
   ]
  },
  {
   "cell_type": "code",
   "execution_count": 98,
   "metadata": {},
   "outputs": [
    {
     "name": "stdout",
     "output_type": "stream",
     "text": [
      "Current results saved.\n"
     ]
    }
   ],
   "source": [
    "overwrite = True  # set to True to overwrite previously stored results\n",
    "if overwrite or not os.path.exists(chkpt_name):\n",
    "    model_state = discriminator.state_dict()\n",
    "    torch.save({\n",
    "        'mi_list': mi_list,\n",
    "        'model_state': model_state\n",
    "    }, chkpt_name)\n",
    "    writer.close()\n",
    "    print('Current results saved.')"
   ]
  },
  {
   "cell_type": "markdown",
   "metadata": {},
   "source": [
    "## MI estimates"
   ]
  },
  {
   "cell_type": "markdown",
   "metadata": {
    "tags": []
   },
   "source": [
    "Use moving average to smooth the estimated MI in each training iteration."
   ]
  },
  {
   "cell_type": "code",
   "execution_count": 99,
   "metadata": {},
   "outputs": [],
   "source": [
    "mi_copy = mi_list.copy()\n",
    "for k in range(1,len(mi_list)):\n",
    "    mi_copy[k] = (1-ma_rate) * mi_copy[k-1] + ma_rate * mi_copy[k]"
   ]
  },
  {
   "cell_type": "markdown",
   "metadata": {},
   "source": [
    "Plot the MI estimation curve against the training iteration, together with the ground truth."
   ]
  },
  {
   "cell_type": "code",
   "execution_count": 100,
   "metadata": {},
   "outputs": [
    {
     "data": {
      "text/plain": [
       "<matplotlib.legend.Legend at 0x16f260fde88>"
      ]
     },
     "execution_count": 100,
     "metadata": {},
     "output_type": "execute_result"
    },
    {
     "data": {
      "image/png": "[encoded data removed]",
      "text/plain": [
       "<Figure size 432x288 with 1 Axes>"
      ]
     },
     "metadata": {
      "needs_background": "light"
     },
     "output_type": "display_data"
    }
   ],
   "source": [
    "plt.plot(mi_copy, label='MI estimate')\n",
    "plt.axhline(Ground_truth,label='ground truth',linestyle='--',color='red')\n",
    "# for t in range(len(mi_copy)):\n",
    "#     if (mi_copy[t]>.8*Ground_truth):\n",
    "#         plt.axvline(t,label='80% reached',linestyle=':',color='green')\n",
    "#         break\n",
    "plt.xlabel('number of iterations')\n",
    "plt.ylabel('MI estimation')\n",
    "plt.legend()"
   ]
  },
  {
   "cell_type": "markdown",
   "metadata": {},
   "source": [
    "Save the model."
   ]
  },
  {
   "cell_type": "code",
   "execution_count": 101,
   "metadata": {},
   "outputs": [
    {
     "name": "stdout",
     "output_type": "stream",
     "text": [
      "Current results saved.\n"
     ]
    }
   ],
   "source": [
    "overwrite = True  # set to True to overwrite previously stored results\n",
    "if overwrite or not os.path.exists(chkpt_name):\n",
    "    model_state = discriminator.state_dict()\n",
    "    torch.save({\n",
    "        'mi_list': mi_list,\n",
    "        'mi_copy': mi_copy,\n",
    "        'model_state': model_state\n",
    "    }, chkpt_name)\n",
    "    writer.close()\n",
    "    print('Current results saved.')"
   ]
  },
  {
   "cell_type": "markdown",
   "metadata": {},
   "source": [
    "## InfoNCE w\\o datasamples"
   ]
  },
  {
   "cell_type": "code",
   "execution_count": 12,
   "metadata": {},
   "outputs": [],
   "source": [
    "discriminator2 = Net(input_size=opt.d*2, hidden_size=100)\n",
    "\n",
    "# move NN model to GPU if GPU is available\n",
    "if cuda:\n",
    "    discriminator2.cuda()\n",
    "\n",
    "# Adam optimizer\n",
    "optimizer_D = torch.optim.Adam(discriminator2.parameters(), lr=opt.lr, betas=(opt.b1, opt.b2))"
   ]
  },
  {
   "cell_type": "code",
   "execution_count": 13,
   "metadata": {},
   "outputs": [],
   "source": [
    "def estimate(Net, X, Y):\n",
    "    n = X.shape[0]\n",
    "    idx = torch.arange(n)\n",
    "    MI_estimate = (Net(torch.cat((X, Y),dim=1)).mean() - sum([Net(torch.cat((X[[i]].repeat_interleave(n - 1, dim=0), Y[idx != i]),dim=1)).logsumexp(0) for i in range(n)\n",
    "            ]) / n + np.log(n - 1)).item()\n",
    "    return MI_estimate"
   ]
  },
  {
   "cell_type": "code",
   "execution_count": 14,
   "metadata": {},
   "outputs": [],
   "source": [
    "name = f'./results/InfoNCE_derangement_dim{opt.d}'   # filename\n",
    "chkpt_name = name+'.pt'      # checkpoint\n",
    "writer = SummaryWriter(f'./results/log/InfoNCE_derangement_dim{opt.d}')\n",
    "\n",
    "\n",
    "# load_available = True # set to False to prevent loading previous results\n",
    "if load_available and os.path.exists(chkpt_name):\n",
    "    checkpoint = torch.load(\n",
    "        chkpt_name, map_location='cuda' if torch.cuda.is_available() else 'cpu')\n",
    "    mi_list = checkpoint['mi_list']\n",
    "    model_state = checkpoint['model_state']\n",
    "    discriminator2.load_state_dict(model_state)\n",
    "    print('Previous results loaded.')\n",
    "else:\n",
    "    mi_list = [] # storing the mi estimation of each iteration"
   ]
  },
  {
   "cell_type": "code",
   "execution_count": 15,
   "metadata": {},
   "outputs": [
    {
     "name": "stdout",
     "output_type": "stream",
     "text": [
      "Iternation: 500, loss: -12.386161, mi_est: -2.415459\n",
      "Iternation: 1000, loss: -93.435318, mi_est: -49.025822\n",
      "Iternation: 1500, loss: -238.683655, mi_est: -154.904816\n",
      "Iternation: 2000, loss: -541.035522, mi_est: -343.210449\n",
      "Iternation: 2500, loss: -1015.704407, mi_est: -639.354004\n",
      "Iternation: 3000, loss: -1455.180054, mi_est: -1067.091064\n",
      "Iternation: 3500, loss: -1464.354736, mi_est: -1614.104858\n",
      "Iternation: 4000, loss: -3175.569580, mi_est: -2221.520020\n",
      "Iternation: 4500, loss: -3339.726562, mi_est: -2986.965088\n",
      "Iternation: 5000, loss: -5341.647949, mi_est: -3919.909424\n",
      "Iternation: 5500, loss: -6871.852051, mi_est: -5001.102051\n",
      "Iternation: 6000, loss: -8350.160156, mi_est: -6266.578613\n",
      "Iternation: 6500, loss: -7571.367188, mi_est: -7675.131836\n",
      "Iternation: 7000, loss: -13230.638672, mi_est: -9250.400391\n",
      "Iternation: 7500, loss: -15153.259766, mi_est: -10995.807617\n",
      "Iternation: 8000, loss: -18651.566406, mi_est: -12900.179688\n",
      "Iternation: 8500, loss: -20287.218750, mi_est: -14999.442383\n",
      "Iternation: 9000, loss: -19999.703125, mi_est: -17315.687500\n",
      "Iternation: 9500, loss: -22722.193359, mi_est: -19801.462891\n",
      "Iternation: 10000, loss: -25561.580078, mi_est: -22471.039062\n",
      "Iternation: 10500, loss: -34440.195312, mi_est: -25378.275391\n",
      "Iternation: 11000, loss: -29081.689453, mi_est: -28466.312500\n",
      "Iternation: 11500, loss: -40697.539062, mi_est: -31794.757812\n",
      "Iternation: 12000, loss: -36783.914062, mi_est: -35303.277344\n",
      "Iternation: 12500, loss: -50993.992188, mi_est: -39072.996094\n",
      "Iternation: 13000, loss: -45444.632812, mi_est: -43103.050781\n",
      "Iternation: 13500, loss: -64999.691406, mi_est: -47379.324219\n",
      "Iternation: 14000, loss: -64249.277344, mi_est: -51902.546875\n",
      "Iternation: 14500, loss: -67187.773438, mi_est: -56636.527344\n",
      "Iternation: 15000, loss: -77697.820312, mi_est: -61703.386719\n",
      "Iternation: 15500, loss: -88420.492188, mi_est: -67004.945312\n",
      "Iternation: 16000, loss: -98971.953125, mi_est: -72547.929688\n",
      "Iternation: 16500, loss: -89843.820312, mi_est: -78342.335938\n",
      "Iternation: 17000, loss: -87545.906250, mi_est: -84517.664062\n",
      "Iternation: 17500, loss: -115600.812500, mi_est: -90784.859375\n",
      "Iternation: 18000, loss: -127351.742188, mi_est: -97528.695312\n",
      "Iternation: 18500, loss: -138659.640625, mi_est: -104563.929688\n",
      "Iternation: 19000, loss: -131163.687500, mi_est: -111954.648438\n",
      "Iternation: 19500, loss: -123450.968750, mi_est: -119532.210938\n",
      "Iternation: 20000, loss: -157732.343750, mi_est: -127371.039062\n"
     ]
    }
   ],
   "source": [
    "# continue_train = True  # set to True to continue to train\n",
    "_iter = 0\n",
    "if continue_train:\n",
    "    for i in range(opt.n_epoch):\n",
    "        idx = torch.randperm(opt.sample_size)\n",
    "\n",
    "        for j in range(opt.n_iters_1epoch):\n",
    "            optimizer_D.zero_grad()\n",
    "            batch_idx = idx[j::opt.n_iters_1epoch]\n",
    "            batch_X = X[batch_idx]\n",
    "            batch_Y = Y[batch_idx]\n",
    "            batch_ref_idx = torch.cat([\n",
    "                idx[(j + k) % opt.n_iters_1epoch::opt.n_iters_1epoch]\n",
    "                for k in range(1, opt.n_iters_1epoch)\n",
    "            ])\n",
    "            batch_X_ref = X[batch_idx.unsqueeze(0).repeat(\n",
    "                batch_ref_idx.shape[0], 1)]\n",
    "            batch_Y_ref = Y[batch_ref_idx.unsqueeze(1).repeat(\n",
    "                1, batch_idx.shape[0])]\n",
    "\n",
    "            # define the loss\n",
    "            L = -discriminator2(torch.cat((batch_X, batch_Y),dim=1)).mean()\n",
    "            L_ = discriminator2(torch.cat\n",
    "                ((batch_X_ref.reshape((-1,) + batch_X_ref.shape[2:]),\n",
    "                batch_Y_ref.reshape((-1,) + batch_Y_ref.shape[2:])), dim=1)).reshape(\n",
    "                    (batch_ref_idx.shape[0], batch_idx.shape[0],\n",
    "                        -1)).logsumexp(1) - np.log(batch_ref_idx.shape[0])\n",
    "            loss = L + L_.mean()\n",
    "            loss.backward()\n",
    "\n",
    "            optimizer_D.step()\n",
    "            writer.add_scalar(\"Loss/train\",\n",
    "                                    loss.item(),\n",
    "                                    global_step=_iter)\n",
    "            writer.add_scalar(\"L\", L.item(), global_step=_iter)\n",
    "            writer.add_scalar(\"L_.mean()\",\n",
    "                                    L_.mean().item(),\n",
    "                                    global_step=_iter)\n",
    "            _iter += 1\n",
    "\n",
    "            with torch.no_grad():\n",
    "                mi_est = estimate(discriminator2, X, Y)\n",
    "            \n",
    "            mi_list.append(mi_est)\n",
    "            writer.add_scalar('mi_list', mi_est, _iter)\n",
    "            writer.add_scalar('loss', loss, _iter)\n",
    "            if _iter%500==0:\n",
    "                print(\"Iternation: %d, loss: %f, mi_est: %f\"%(_iter, loss.item(), mi_est))\n",
    "                \n",
    "writer.add_graph(discriminator2, (XY,))"
   ]
  },
  {
   "cell_type": "code",
   "execution_count": 106,
   "metadata": {},
   "outputs": [],
   "source": [
    "mi_copy2 = mi_list.copy()\n",
    "for k in range(1,len(mi_list)):\n",
    "    mi_copy2[k] = (1-ma_rate) * mi_copy2[k-1] + ma_rate * mi_copy2[k]"
   ]
  },
  {
   "cell_type": "code",
   "execution_count": 107,
   "metadata": {},
   "outputs": [
    {
     "name": "stdout",
     "output_type": "stream",
     "text": [
      "Current results saved.\n"
     ]
    }
   ],
   "source": [
    "overwrite = True  # set to True to overwrite previously stored results\n",
    "if overwrite or not os.path.exists(chkpt_name):\n",
    "    model_state = discriminator2.state_dict()\n",
    "    torch.save({\n",
    "        'mi_list': mi_list,\n",
    "        'model_state': model_state\n",
    "    }, chkpt_name)\n",
    "    writer.close()\n",
    "    print('Current results saved.')"
   ]
  },
  {
   "cell_type": "markdown",
   "metadata": {},
   "source": [
    "## InfoNCE with GT reference distribution"
   ]
  },
  {
   "cell_type": "code",
   "execution_count": 108,
   "metadata": {},
   "outputs": [],
   "source": [
    "discriminator3 = Net(input_size=opt.d*2, hidden_size=100)\n",
    "\n",
    "# move NN model to GPU if GPU is available\n",
    "if cuda:\n",
    "    discriminator3.cuda()\n",
    "\n",
    "# Adam optimizer\n",
    "optimizer_D = torch.optim.Adam(discriminator3.parameters(), lr=opt.lr, betas=(opt.b1, opt.b2))"
   ]
  },
  {
   "cell_type": "code",
   "execution_count": 109,
   "metadata": {},
   "outputs": [
    {
     "name": "stdout",
     "output_type": "stream",
     "text": [
      "Previous results loaded.\n"
     ]
    }
   ],
   "source": [
    "name = f'./results/InfoNCE_knownref_dim{opt.d}'   # filename\n",
    "chkpt_name = name+'.pt'      # checkpoint\n",
    "writer = SummaryWriter(f'./results/log/InfoNCE_knownref_dim{opt.d}')\n",
    "\n",
    "\n",
    "# load_available = True # set to False to prevent loading previous results\n",
    "if load_available and os.path.exists(chkpt_name):\n",
    "    checkpoint = torch.load(\n",
    "        chkpt_name, map_location='cuda' if torch.cuda.is_available() else 'cpu')\n",
    "    mi_list = checkpoint['mi_list']\n",
    "    model_state = checkpoint['model_state']\n",
    "    discriminator3.load_state_dict(model_state)\n",
    "    print('Previous results loaded.')\n",
    "else:\n",
    "    mi_list = [] # storing the mi estimation of each iteration"
   ]
  },
  {
   "cell_type": "code",
   "execution_count": 110,
   "metadata": {},
   "outputs": [],
   "source": [
    "def estimate_withGT(Net, jointdata, marginaldata):\n",
    "    L = Net(jointdata).mean()\n",
    "    L_ = discriminator3(marginaldata).reshape((jointdata.shape[0], jointdata.shape[0], -1)).logsumexp(1) - np.log(jointdata.shape[0])\n",
    "    return L - L_.mean()"
   ]
  },
  {
   "cell_type": "code",
   "execution_count": 111,
   "metadata": {},
   "outputs": [],
   "source": [
    "idx = torch.randperm(opt.sample_size)\n",
    "_, _, ref_Y, _ = generate_data(distribution=density, sample_size=opt.sample_size**2, rho=opt.rho)\n",
    "ref_X = X.repeat(opt.sample_size, 1)\n",
    "ref_data = torch.cat((ref_X, ref_Y), dim=1)\n",
    "\n",
    "# continue_train = True  # set to True to continue to train\n",
    "_iter = 0\n",
    "if continue_train:\n",
    "    for i in range(opt.n_epoch):\n",
    "        idx = torch.randperm(opt.sample_size)\n",
    "\n",
    "        for j in range(opt.n_iters_1epoch):\n",
    "            optimizer_D.zero_grad()\n",
    "            batch_idx = idx[j::opt.n_iters_1epoch]\n",
    "            batch_X = X[batch_idx]\n",
    "            batch_Y = Y[batch_idx]\n",
    "\n",
    "            batch_X_ref = X[batch_idx.unsqueeze(0).repeat(\n",
    "                opt.sample_size, 1)]\n",
    "            _, _, batch_Y_ref, _ = generate_data(distribution=density, sample_size=opt.sample_size*batch_idx.shape[0], rho=opt.rho)\n",
    "            batch_Y_ref = batch_Y_ref.reshape((-1,) + batch_X_ref.shape[1:])\n",
    "            # define the loss\n",
    "            L = -discriminator3(torch.cat((batch_X, batch_Y),dim=1)).mean()\n",
    "            L_ = discriminator3(torch.cat((batch_X_ref, batch_Y_ref), dim=-1)).reshape(\n",
    "                    (opt.sample_size, batch_idx.shape[0],\n",
    "                        -1)).logsumexp(1) - np.log(batch_Y_ref.shape[0])\n",
    "            loss = L + L_.mean()\n",
    "            loss.backward()\n",
    "\n",
    "            optimizer_D.step()\n",
    "            writer.add_scalar(\"Loss/train\",\n",
    "                                    loss.item(),\n",
    "                                    global_step=_iter)\n",
    "            writer.add_scalar(\"L\", L.item(), global_step=_iter)\n",
    "            writer.add_scalar(\"L_.mean()\",\n",
    "                                    L_.mean().item(),\n",
    "                                    global_step=_iter)\n",
    "            _iter += 1\n",
    "\n",
    "            with torch.no_grad():\n",
    "                mi_est = estimate_withGT(discriminator3, XY, ref_data)\n",
    "            \n",
    "            mi_list.append(mi_est.item())\n",
    "            writer.add_scalar('mi_list', mi_est, _iter)\n",
    "            writer.add_scalar('loss', loss, _iter)\n",
    "            if _iter%500==0:\n",
    "                print(\"Iternation: %d, loss: %f, mi_est: %f\"%(_iter, loss.item(), mi_est))\n",
    "                \n",
    "writer.add_graph(discriminator3, (XY,))"
   ]
  },
  {
   "cell_type": "code",
   "execution_count": 112,
   "metadata": {},
   "outputs": [
    {
     "name": "stdout",
     "output_type": "stream",
     "text": [
      "Current results saved.\n"
     ]
    }
   ],
   "source": [
    "overwrite = True  # set to True to overwrite previously stored results\n",
    "if overwrite or not os.path.exists(chkpt_name):\n",
    "    model_state = discriminator3.state_dict()\n",
    "    torch.save({\n",
    "        'mi_list': mi_list,\n",
    "        'model_state': model_state\n",
    "    }, chkpt_name)\n",
    "    writer.close()\n",
    "    print('Current results saved.')"
   ]
  },
  {
   "cell_type": "code",
   "execution_count": 113,
   "metadata": {},
   "outputs": [],
   "source": [
    "\n",
    "mi_copy3 = mi_list.copy()\n",
    "for k in range(1,len(mi_list)):\n",
    "    mi_copy3[k] = (1-ma_rate) * mi_copy3[k-1] + ma_rate * mi_copy3[k]"
   ]
  },
  {
   "cell_type": "code",
   "execution_count": 114,
   "metadata": {},
   "outputs": [
    {
     "data": {
      "image/png": "[encoded data removed]",
      "text/plain": [
       "<Figure size 432x288 with 1 Axes>"
      ]
     },
     "metadata": {
      "needs_background": "light"
     },
     "output_type": "display_data"
    }
   ],
   "source": [
    "std = 0.183\n",
    "plt.plot(mi_copy3, label='MI estimate with reference distribution')\n",
    "plt.plot(mi_copy2, label='MI estimate with exclusion')\n",
    "plt.plot(mi_copy, label='MI estimate w/o exclusion')\n",
    "\n",
    "plt.axhline(Ground_truth+2*std,label='ground truth + 2 std',linestyle='--',color='lightblue')\n",
    "plt.axhline(Ground_truth-2*std,label='ground truth - 2 std',linestyle='--',color='lightblue')\n",
    "plt.axhline(Ground_truth,label='ground truth',linestyle='--',color='red')\n",
    "plt.axhline(np.log(opt.sample_size),label='log $n$',linestyle='--',color='grey')\n",
    "# for t in range(len(mi_copy)):\n",
    "#     if (mi_copy[t]>.8*Ground_truth):\n",
    "#         plt.axvline(t,label='80% reached',linestyle=':',color='green')\n",
    "#         break\n",
    "plt.xlabel('number of iterations')\n",
    "plt.ylabel('MI estimation')\n",
    "plt.title('Mi estimation with InfoNCE')\n",
    "plt.legend()\n",
    "plt.savefig(f'results/InfoNCE_wo_datapoints_dim{opt.d}_ma{ma_rate}.pdf')"
   ]
  },
  {
   "cell_type": "code",
   "execution_count": 32,
   "metadata": {},
   "outputs": [
    {
     "data": {
      "text/plain": [
       "0.5"
      ]
     },
     "execution_count": 32,
     "metadata": {},
     "output_type": "execute_result"
    }
   ],
   "source": [
    "ma_rate"
   ]
  },
  {
   "cell_type": "code",
   "execution_count": 130,
   "metadata": {},
   "outputs": [],
   "source": [
    "def plot_subfigure(net, X, Y, dimX, dimY, x0=None, y0=None, xmin=-5, xmax=5, ymin=-5, ymax=5, xgrids=50, ygrids=50, ax=None, show_details=True):\n",
    "    \"\"\"\n",
    "    The inputs should be X and Y, which are the coordinates of the points.\n",
    "\n",
    "    net should be a neural network with Tensor inputs.\n",
    "    \"\"\"\n",
    "\n",
    "    if  x0 == None:\n",
    "        x0 = np.zeros((1, X.shape[1]))\n",
    "    if y0 == None:\n",
    "        y0 = np.zeros((1, Y.shape[1]))\n",
    "        \n",
    "    x, y = np.mgrid[xmin:xmax:xgrids * 1j, ymin:ymax:ygrids * 1j]\n",
    "    with torch.no_grad():\n",
    "        z = (net(\n",
    "            torch.cat((torch.Tensor((np.arange(X.shape[-1]) == dimX).reshape(1, -1) *\n",
    "                    x.reshape(-1, 1) + x0).to(DEVICE),\n",
    "            torch.Tensor((np.arange(X.shape[-1]) == dimY).reshape(1, -1) *\n",
    "                    y.reshape(-1, 1) + y0).to(DEVICE),\n",
    "        ),dim=-1)).reshape(x.shape).cpu())\n",
    "    if ax is None:\n",
    "        ax = plt.gca()\n",
    "    # im = ax.pcolormesh(x, y, z, cmap=\"RdBu_r\", shading=\"auto\")\n",
    "    im = ax.pcolormesh(x, y, z, cmap=\"RdBu_r\", shading=\"auto\", vmin=-12, vmax=-3)\n",
    "    # ax.figure.colorbar(im)\n",
    "    if show_details:\n",
    "        ax.figure.colorbar(im) \n",
    "        ax.set(xlabel=\"$x^{{({0})}}-x_0^{{({0})}}$\",\n",
    "                ylabel=\"$x^{{({0})}}-x_0^{{({0})}}$\",\n",
    "                title=r\"Heatmap of $t(x,y)$\")\n",
    "    return im"
   ]
  },
  {
   "cell_type": "code",
   "execution_count": 131,
   "metadata": {},
   "outputs": [
    {
     "data": {
      "image/png": "[encoded data removed]",
      "text/plain": [
       "<Figure size 432x288 with 37 Axes>"
      ]
     },
     "metadata": {
      "needs_background": "light"
     },
     "output_type": "display_data"
    }
   ],
   "source": [
    "d = 6\n",
    "# DEVICE = \"cuda\"\n",
    "f, axs = plt.subplots(nrows=d,ncols=d, sharex=True, sharey=True)\n",
    "for i in range(d):\n",
    "    for j in range(d):\n",
    "        im = plot_subfigure(discriminator, X, Y, dimX=i, dimY=j, x0=None, y0=None, xmin=-5, xmax=5, ymin=-5, ymax=5, xgrids=10, ygrids=10, ax=axs[i, j], show_details=False)\n",
    "\n",
    "f.colorbar(im, ax=axs.ravel().tolist())\n",
    "plt.savefig(f'results/InfoNCE_heatmap_dim{opt.d}.pdf')\n",
    "# plt.tight_layout()\n",
    "plt.show()"
   ]
  },
  {
   "cell_type": "code",
   "execution_count": 129,
   "metadata": {},
   "outputs": [
    {
     "data": {
      "image/png": "[encoded data removed]",
      "text/plain": [
       "<Figure size 432x288 with 37 Axes>"
      ]
     },
     "metadata": {
      "needs_background": "light"
     },
     "output_type": "display_data"
    }
   ],
   "source": [
    "d = 6\n",
    "DEVICE = \"cuda\"\n",
    "f, axs = plt.subplots(nrows=d,ncols=d, sharex=True, sharey=True)\n",
    "for i in range(d):\n",
    "    for j in range(d):\n",
    "        im = plot_subfigure(discriminator2, X, Y, dimX=i, dimY=j, x0=None, y0=None, xmin=-5, xmax=5, ymin=-5, ymax=5, xgrids=10, ygrids=10, ax=axs[i, j], show_details=False)\n",
    "f.colorbar(im, ax=axs.ravel().tolist())\n",
    "plt.savefig(f'results/InfoNCE_nodatapoint_heatmap_dim{opt.d}.pdf')\n",
    "plt.show()"
   ]
  },
  {
   "cell_type": "code",
   "execution_count": 54,
   "metadata": {},
   "outputs": [
    {
     "data": {
      "image/png": "[encoded data removed]",
      "text/plain": [
       "<Figure size 432x288 with 37 Axes>"
      ]
     },
     "metadata": {
      "needs_background": "light"
     },
     "output_type": "display_data"
    }
   ],
   "source": [
    "d = 6\n",
    "DEVICE = \"cuda\"\n",
    "f, axs = plt.subplots(nrows=d,ncols=d)\n",
    "for i in range(d):\n",
    "    for j in range(d):\n",
    "        im = plot_subfigure(discriminator3, X, Y, dimX=i, dimY=j, x0=None, y0=None, xmin=-5, xmax=5, ymin=-5, ymax=5, xgrids=50, ygrids=50, ax=axs[i, j], show_details=False)\n",
    "f.colorbar(im, ax=axs.ravel().tolist())\n",
    "plt.savefig(f'results/InfoNCE_trueref_heatmap_dim{opt.d}.pdf')\n",
    "plt.show()"
   ]
  },
  {
   "cell_type": "code",
   "execution_count": 125,
   "metadata": {},
   "outputs": [],
   "source": [
    "def plot_subfigure_GT(net, X, Y, dimX, dimY, x0=None, y0=None, xmin=-5, xmax=5, ymin=-5, ymax=5, xgrids=50, ygrids=50, ax=None, show_details=True):\n",
    "    \"\"\"\n",
    "    net: GT_logratio\n",
    "    \"\"\"\n",
    "    if  x0 == None:\n",
    "        x0 = np.zeros((1, X.shape[1]))\n",
    "    if y0 == None:\n",
    "        y0 = np.zeros((1, Y.shape[1]))\n",
    "        \n",
    "    x, y = np.mgrid[xmin:xmax:xgrids * 1j, ymin:ymax:ygrids * 1j]\n",
    "    with torch.no_grad():\n",
    "        z = (net(\n",
    "            torch.Tensor((np.arange(X.shape[-1]) == dimX).reshape(1, -1) *\n",
    "                    x.reshape(-1, 1) + x0).to(DEVICE),\n",
    "            torch.Tensor((np.arange(X.shape[-1]) == dimY).reshape(1, -1) *\n",
    "                    y.reshape(-1, 1) + y0).to(DEVICE),\n",
    "        ).reshape(x.shape).cpu())\n",
    "    if ax is None:\n",
    "        ax = plt.gca()\n",
    "    im = ax.pcolormesh(x, y, z, cmap=\"RdBu_r\", shading=\"auto\", vmax=150, vmin=-100)\n",
    "    if show_details:\n",
    "        ax.figure.colorbar(im) \n",
    "        ax.set(xlabel=\"$x^{{({0})}}-x_0^{{({0})}}$\",\n",
    "                ylabel=\"$x^{{({0})}}-x_0^{{({0})}}$\",\n",
    "                title=r\"Heatmap of $t(x,y)$\")\n",
    "\n",
    "    return im"
   ]
  },
  {
   "cell_type": "code",
   "execution_count": 132,
   "metadata": {},
   "outputs": [
    {
     "data": {
      "image/png": "[encoded data removed]",
      "text/plain": [
       "<Figure size 432x288 with 37 Axes>"
      ]
     },
     "metadata": {
      "needs_background": "light"
     },
     "output_type": "display_data"
    }
   ],
   "source": [
    "d = 6\n",
    "DEVICE = \"cuda\"\n",
    "f, axs = plt.subplots(nrows=d,ncols=d,sharex=True, sharey=True)\n",
    "for i in range(d):\n",
    "    for j in range(d):\n",
    "        im = plot_subfigure_GT(GT_logratio, X, Y, dimX=i, dimY=j, x0=None, y0=None, xmin=-5, xmax=5, ymin=-5, ymax=5, xgrids=10, ygrids=10, ax=axs[i, j], show_details=False)\n",
    "\n",
    "# plt.savefig(f'results/InfoNCE_trueref_heatmap_dim{opt.d}.pdf')\n",
    "# im = plot_subfigure_GT(GT_logratio, X, Y, dimX=4, dimY=5, x0=None, y0=None, xmin=-5, xmax=5, ymin=-5, ymax=5, xgrids=50, ygrids=50, ax=axs[i, j], show_details=False)\n",
    "f.colorbar(im, ax=axs.ravel().tolist())\n",
    "plt.savefig(f'results/GT_heatmap_dim{opt.d}.pdf')\n",
    "plt.show()"
   ]
  },
  {
   "cell_type": "code",
   "execution_count": null,
   "metadata": {},
   "outputs": [],
   "source": [
    "# add gt reference\n",
    "# add sigma  2std\n",
    "# PCM + exclusion\n",
    "# add regularization\n",
    "# check the gradient, why exponential function\n",
    "# smoothing factor"
   ]
  },
  {
   "cell_type": "markdown",
   "metadata": {},
   "source": [
    "## Calculate the MI estimation with Ground Truth"
   ]
  },
  {
   "cell_type": "code",
   "execution_count": 58,
   "metadata": {},
   "outputs": [],
   "source": [
    "from scipy.stats import multivariate_normal\n",
    "\n",
    "rv1 = multivariate_normal([0,0], [[1, opt.rho], [opt.rho, 1]])\n",
    "rv2 = multivariate_normal([0,0], [[1, 0], [0, 1]])\n",
    "\n",
    "def GT_logratio(x, y):\n",
    "    logprobratio = np.zeros(x.shape[0])\n",
    "    for j in range(x.shape[1]):\n",
    "        sub_XY = torch.cat((x[:,j].reshape(x.shape[0],1),y[:,j].reshape(y.shape[0],1)), dim=1).cpu().numpy()\n",
    "        logprobratio += np.log((rv1.pdf(sub_XY)/rv2.pdf(sub_XY)))\n",
    "    return torch.Tensor(logprobratio)"
   ]
  },
  {
   "cell_type": "code",
   "execution_count": null,
   "metadata": {},
   "outputs": [],
   "source": [
    "opt.sample_size = 400\n",
    "opt.d = 20\n",
    "XY, X, Y, Ground_truth = generate_data(distribution=density, rho=opt.rho)"
   ]
  },
  {
   "cell_type": "code",
   "execution_count": 75,
   "metadata": {},
   "outputs": [],
   "source": [
    "def GT(rho, d, x, y):\n",
    "    mi = -0.5 * np.log(1 - rho**2) * d\n",
    "    c = rho / (2 * (1 - rho**2))\n",
    "    return mi + c * (2 * x * y - rho *(x**2 + y**2)).sum(dim=1)\n"
   ]
  },
  {
   "cell_type": "code",
   "execution_count": null,
   "metadata": {},
   "outputs": [
    {
     "data": {
      "text/plain": [
       "0.21665217447681628"
      ]
     },
     "execution_count": 274,
     "metadata": {},
     "output_type": "execute_result"
    }
   ],
   "source": [
    "mi_ = []\n",
    "for i in range(100):\n",
    "    XY, X, Y, Ground_truth = generate_data(distribution=density, rho=opt.rho)\n",
    "    mi_.append(GT_logratio(X, Y).mean().item())\n",
    "\n",
    "np.std(mi_)"
   ]
  },
  {
   "cell_type": "markdown",
   "metadata": {},
   "source": [
    "## InfoNCE"
   ]
  },
  {
   "cell_type": "code",
   "execution_count": null,
   "metadata": {},
   "outputs": [
    {
     "data": {
      "text/plain": [
       "31.482677459716797"
      ]
     },
     "execution_count": 275,
     "metadata": {},
     "output_type": "execute_result"
    }
   ],
   "source": [
    "# Compute the MI with Ground truth (with exclusion)) ; InfoNCE\n",
    "idx = torch.arange(opt.sample_size)\n",
    "(GT_logratio(X, Y).mean() - sum([GT_logratio(X[[i]].repeat_interleave(opt.sample_size - 1, dim=0),Y[idx != i]).logsumexp(0) for i in range(opt.sample_size)]) / opt.sample_size + np.log(opt.sample_size - 1)).item()"
   ]
  },
  {
   "cell_type": "code",
   "execution_count": null,
   "metadata": {},
   "outputs": [
    {
     "data": {
      "text/plain": [
       "5.991168975830078"
      ]
     },
     "execution_count": 276,
     "metadata": {},
     "output_type": "execute_result"
    }
   ],
   "source": [
    "# Compute the MI with Ground truth (without exclusion)) ; InfoNCE\n",
    "idx = torch.arange(opt.sample_size)\n",
    "(GT_logratio(X, Y).mean() - sum([GT_logratio(X[[i]].repeat_interleave(opt.sample_size, dim=0),Y[idx]).logsumexp(0) for i in range(opt.sample_size)]) / opt.sample_size + np.log(opt.sample_size)).item()"
   ]
  },
  {
   "cell_type": "code",
   "execution_count": null,
   "metadata": {},
   "outputs": [],
   "source": [
    "opt.sample_size = 400\n",
    "opt.d = 20\n",
    "XY, X, Y, Ground_truth = generate_data(distribution=density, rho=opt.rho)"
   ]
  },
  {
   "cell_type": "code",
   "execution_count": null,
   "metadata": {},
   "outputs": [
    {
     "data": {
      "text/plain": [
       "16.607312068216512"
      ]
     },
     "execution_count": 278,
     "metadata": {},
     "output_type": "execute_result"
    }
   ],
   "source": [
    "Ground_truth"
   ]
  },
  {
   "cell_type": "markdown",
   "metadata": {},
   "source": [
    "## MINE"
   ]
  },
  {
   "cell_type": "code",
   "execution_count": null,
   "metadata": {},
   "outputs": [
    {
     "data": {
      "text/plain": [
       "-2.376943588256836"
      ]
     },
     "execution_count": 279,
     "metadata": {},
     "output_type": "execute_result"
    }
   ],
   "source": [
    "# Compute the MI with Ground truth (without exclusion)) ; MINE\n",
    "idx = torch.arange(opt.sample_size)\n",
    "marginal_X = torch.Tensor()\n",
    "marginal_Y = torch.Tensor()\n",
    "for i in range(opt.sample_size):\n",
    "    marginal_X = torch.cat((marginal_X, X[[i]].repeat_interleave(opt.sample_size, dim=0)), dim=0)\n",
    "    marginal_Y = torch.cat((marginal_Y, Y[idx]), dim=0)\n",
    "\n",
    "(GT_logratio(X, Y).mean() - torch.logsumexp(GT_logratio(marginal_X, marginal_Y), dim=0) + 2*np.log(opt.sample_size)).item()"
   ]
  },
  {
   "cell_type": "code",
   "execution_count": null,
   "metadata": {},
   "outputs": [
    {
     "data": {
      "text/plain": [
       "19.132158279418945"
      ]
     },
     "execution_count": 280,
     "metadata": {},
     "output_type": "execute_result"
    }
   ],
   "source": [
    "# Compute the MI with Ground truth (with exclusion)) ; MINE\n",
    "idx = torch.arange(opt.sample_size)\n",
    "marginal_X = torch.Tensor()\n",
    "marginal_Y = torch.Tensor()\n",
    "for i in range(opt.sample_size):\n",
    "    marginal_X = torch.cat((marginal_X, X[[i]].repeat_interleave(opt.sample_size-1, dim=0)), dim=0)\n",
    "    marginal_Y = torch.cat((marginal_Y, Y[idx!=i]), dim=0)\n",
    "\n",
    "(GT_logratio(X, Y).mean() - torch.logsumexp(GT_logratio(marginal_X, marginal_Y), dim=0) + np.log(opt.sample_size*(opt.sample_size-1))).item()"
   ]
  },
  {
   "cell_type": "markdown",
   "metadata": {},
   "source": [
    "## NWJ"
   ]
  },
  {
   "cell_type": "code",
   "execution_count": null,
   "metadata": {},
   "outputs": [
    {
     "data": {
      "text/plain": [
       "tensor(-49464216.)"
      ]
     },
     "execution_count": 281,
     "metadata": {},
     "output_type": "execute_result"
    }
   ],
   "source": [
    "# Compute the MI with Ground truth (without exclusion)) ; NWJ\n",
    "idx = torch.arange(opt.sample_size)\n",
    "marginal_X = torch.Tensor()\n",
    "marginal_Y = torch.Tensor()\n",
    "for i in range(opt.sample_size):\n",
    "    marginal_X = torch.cat((marginal_X, X[[i]].repeat_interleave(opt.sample_size, dim=0)), dim=0)\n",
    "    marginal_Y = torch.cat((marginal_Y, Y[idx]), dim=0)\n",
    "\n",
    "\n",
    "GT_logratio(X, Y).mean() - torch.exp(GT_logratio(marginal_X, marginal_Y)-1).mean()"
   ]
  },
  {
   "cell_type": "code",
   "execution_count": null,
   "metadata": {},
   "outputs": [
    {
     "data": {
      "text/plain": [
       "tensor(16.3173)"
      ]
     },
     "execution_count": 282,
     "metadata": {},
     "output_type": "execute_result"
    }
   ],
   "source": [
    "# Compute the MI with Ground truth (with exclusion)) ; MINE\n",
    "idx = torch.arange(opt.sample_size)\n",
    "marginal_X = torch.Tensor()\n",
    "marginal_Y = torch.Tensor()\n",
    "for i in range(opt.sample_size):\n",
    "    marginal_X = torch.cat((marginal_X, X[[i]].repeat_interleave(opt.sample_size-1, dim=0)), dim=0)\n",
    "    marginal_Y = torch.cat((marginal_Y, Y[idx!=i]), dim=0)\n",
    "\n",
    "GT_logratio(X, Y).mean() - torch.exp(GT_logratio(marginal_X, marginal_Y)-1).mean()"
   ]
  },
  {
   "cell_type": "code",
   "execution_count": 16,
   "metadata": {},
   "outputs": [],
   "source": [
    "a = torch.Tensor([[1,2],[3,4]])"
   ]
  },
  {
   "cell_type": "code",
   "execution_count": 17,
   "metadata": {},
   "outputs": [],
   "source": [
    "b = torch.Tensor([[5,5],[6,6]])"
   ]
  },
  {
   "cell_type": "code",
   "execution_count": 18,
   "metadata": {},
   "outputs": [],
   "source": [
    "x_tile = a.unsqueeze(0).repeat((a.shape[0], 1, 1))\n",
    "y_tile = b.unsqueeze(1).repeat((1, b.shape[0], 1))\n",
    "train_data = torch.cat([x_tile, y_tile], dim = -1).reshape(-1, b.shape[1]+b.shape[1])"
   ]
  },
  {
   "cell_type": "code",
   "execution_count": 19,
   "metadata": {},
   "outputs": [
    {
     "data": {
      "text/plain": [
       "tensor([[1., 2., 5., 5.],\n",
       "        [3., 4., 5., 5.],\n",
       "        [1., 2., 6., 6.],\n",
       "        [3., 4., 6., 6.]])"
      ]
     },
     "execution_count": 19,
     "metadata": {},
     "output_type": "execute_result"
    }
   ],
   "source": [
    "train_data"
   ]
  },
  {
   "cell_type": "code",
   "execution_count": 22,
   "metadata": {},
   "outputs": [
    {
     "data": {
      "text/plain": [
       "torch.Size([2, 2, 1])"
      ]
     },
     "execution_count": 22,
     "metadata": {},
     "output_type": "execute_result"
    }
   ],
   "source": [
    "diag_mask =  torch.ones([2]).diag().unsqueeze(-1).cuda()\n",
    "diag_mask.shape"
   ]
  },
  {
   "cell_type": "code",
   "execution_count": 24,
   "metadata": {},
   "outputs": [
    {
     "data": {
      "text/plain": [
       "tensor([[[1., 2., 5., 5.],\n",
       "         [3., 4., 5., 5.]],\n",
       "\n",
       "        [[1., 2., 6., 6.],\n",
       "         [3., 4., 6., 6.]]])"
      ]
     },
     "execution_count": 24,
     "metadata": {},
     "output_type": "execute_result"
    }
   ],
   "source": [
    "torch.cat([x_tile, y_tile], dim = -1)"
   ]
  },
  {
   "cell_type": "code",
   "execution_count": 25,
   "metadata": {},
   "outputs": [
    {
     "data": {
      "text/plain": [
       "tensor([[[1.],\n",
       "         [0.]],\n",
       "\n",
       "        [[0.],\n",
       "         [1.]]])"
      ]
     },
     "execution_count": 25,
     "metadata": {},
     "output_type": "execute_result"
    }
   ],
   "source": [
    "diag_mask"
   ]
  },
  {
   "cell_type": "code",
   "execution_count": 26,
   "metadata": {},
   "outputs": [],
   "source": [
    "model = Net(input_size=4, hidden_size=4)"
   ]
  },
  {
   "cell_type": "code",
   "execution_count": 28,
   "metadata": {},
   "outputs": [],
   "source": [
    "output = model(torch.cat([x_tile, y_tile], dim = -1))"
   ]
  },
  {
   "cell_type": "code",
   "execution_count": 45,
   "metadata": {},
   "outputs": [],
   "source": [
    "diag_mask =  (torch.ones([2])*(-np.inf)).diag().unsqueeze(-1).cuda()"
   ]
  },
  {
   "cell_type": "code",
   "execution_count": 47,
   "metadata": {},
   "outputs": [
    {
     "data": {
      "text/plain": [
       "tensor([[8.6994e-06],\n",
       "        [3.3343e-05]], grad_fn=<LogsumexpBackward>)"
      ]
     },
     "execution_count": 47,
     "metadata": {},
     "output_type": "execute_result"
    }
   ],
   "source": [
    "torch.logsumexp(output+diag_mask, dim=1)"
   ]
  },
  {
   "cell_type": "code",
   "execution_count": 48,
   "metadata": {},
   "outputs": [
    {
     "data": {
      "text/plain": [
       "tensor([[[2.5705e-05],\n",
       "         [8.6994e-06]],\n",
       "\n",
       "        [[3.3343e-05],\n",
       "         [1.6346e-05]]], grad_fn=<AddBackward0>)"
      ]
     },
     "execution_count": 48,
     "metadata": {},
     "output_type": "execute_result"
    }
   ],
   "source": [
    "output"
   ]
  },
  {
   "cell_type": "code",
   "execution_count": 44,
   "metadata": {},
   "outputs": [
    {
     "data": {
      "text/plain": [
       "tensor([0.])"
      ]
     },
     "execution_count": 44,
     "metadata": {},
     "output_type": "execute_result"
    }
   ],
   "source": [
    "torch.exp(torch.Tensor([-np.inf]))"
   ]
  },
  {
   "cell_type": "code",
   "execution_count": 164,
   "metadata": {},
   "outputs": [],
   "source": [
    "from src.utils import *\n",
    "\n",
    "setup_seed(3)"
   ]
  },
  {
   "cell_type": "code",
   "execution_count": 12,
   "metadata": {},
   "outputs": [],
   "source": [
    "discriminator = Net(input_size=opt.d*2, hidden_size=100)\n",
    "\n",
    "# move NN model to GPU if GPU is available\n",
    "if cuda:\n",
    "    discriminator.cuda()\n",
    "\n",
    "# Adam optimizer\n",
    "optimizer_D = torch.optim.Adam(discriminator.parameters(), lr=opt.lr, betas=(opt.b1, opt.b2))\n",
    "from datetime import datetime\n",
    "TIMESTAMP = \"{0:%Y-%m-%dT%H-%M-%S/}\".format(datetime.now())\n",
    "\n",
    "writer = SummaryWriter(f'./results/log/InfoNCE_dim{opt.d}_reg/{TIMESTAMP}')\n",
    "\n",
    "mi_list = []"
   ]
  },
  {
   "cell_type": "code",
   "execution_count": 13,
   "metadata": {},
   "outputs": [],
   "source": [
    "def plot_fig(net, d=6):\n",
    "    DEVICE = \"cuda\"\n",
    "    f, axs = plt.subplots(nrows=d,ncols=d,sharex=True, sharey=True)\n",
    "    for i in range(d):\n",
    "        for j in range(d):\n",
    "            im = plot_subfigure(net, X, Y, dimX=i, dimY=j, x0=None, y0=None, xmin=-5, xmax=5, ymin=-5, ymax=5, xgrids=50, ygrids=50, ax=axs[i, j], show_details=False)\n",
    "    f.colorbar(im, ax=axs.ravel().tolist())\n",
    "    return f"
   ]
  },
  {
   "cell_type": "code",
   "execution_count": 14,
   "metadata": {},
   "outputs": [],
   "source": [
    "def infonce_exc_loss(net, x_samples, y_samples, writer=None, epoch=None):\n",
    "    sample_size = x_samples.shape[0]\n",
    "    x_tile = x_samples.unsqueeze(0).repeat((sample_size, 1, 1))\n",
    "    y_tile = y_samples.unsqueeze(1).repeat((1, sample_size, 1))\n",
    "    mask =  torch.ones([sample_size]).diag().unsqueeze(-1).bool().cuda()\n",
    "    T0 = net(torch.cat([x_samples,y_samples], dim = -1))\n",
    "    T1 = net(torch.cat([x_tile, y_tile], dim = -1))\n",
    "    a = T0.mean()\n",
    "    b = T1[~mask].reshape(-1, sample_size-1, 1).logsumexp(dim = 0).mean() - np.log(sample_size-1)\n",
    "    lower_bound = a - b\n",
    "\n",
    "    if writer is not None:\n",
    "        writer.add_scalar('a', a, epoch)\n",
    "        writer.add_scalar('b', b, epoch)\n",
    "    return lower_bound"
   ]
  },
  {
   "cell_type": "code",
   "execution_count": 15,
   "metadata": {},
   "outputs": [],
   "source": [
    "def infonce_loss(net, x_samples, y_samples, writer=None, epoch=None, reg=False):\n",
    "    sample_size = x_samples.shape[0]\n",
    "    x_tile = x_samples.unsqueeze(0).repeat((sample_size, 1, 1))\n",
    "    y_tile = y_samples.unsqueeze(1).repeat((1, sample_size, 1))\n",
    "\n",
    "    T0 = net(torch.cat([x_samples,y_samples], dim = -1))\n",
    "    T1 = net(torch.cat([x_tile, y_tile], dim = -1))\n",
    "    a = T0.mean()\n",
    "    b = T1.logsumexp(dim = 1).mean() - np.log(sample_size)\n",
    "    if reg:\n",
    "        lower_bound = a - b - b**2\n",
    "    else:\n",
    "        lower_bound = a - b\n",
    "\n",
    "    if writer is not None:\n",
    "        writer.add_scalar('a', a, epoch)\n",
    "        writer.add_scalar('b', b, epoch)\n",
    "        writer.add_scalar('log ratio', a-b-np.log(sample_size), epoch)\n",
    "    return lower_bound"
   ]
  },
  {
   "cell_type": "code",
   "execution_count": 16,
   "metadata": {},
   "outputs": [
    {
     "name": "stdout",
     "output_type": "stream",
     "text": [
      "Iternation: 0, loss: -0.000010, mi_est: 0.000017\n",
      "Iternation: 1000, loss: -1.250903, mi_est: 1.175481\n",
      "Iternation: 2000, loss: -1.059675, mi_est: 1.453201\n",
      "Iternation: 3000, loss: -1.572331, mi_est: 1.536332\n",
      "Iternation: 4000, loss: -1.612228, mi_est: 1.567252\n",
      "Iternation: 5000, loss: -1.638312, mi_est: 1.581312\n",
      "Iternation: 6000, loss: -1.111477, mi_est: 1.588802\n",
      "Iternation: 7000, loss: -1.575832, mi_est: 1.594765\n",
      "Iternation: 8000, loss: -1.250986, mi_est: 1.597780\n",
      "Iternation: 9000, loss: -1.508125, mi_est: 1.597975\n",
      "Iternation: 10000, loss: -1.475155, mi_est: 1.603611\n",
      "Iternation: 11000, loss: -1.546365, mi_est: 1.604009\n",
      "Iternation: 12000, loss: -1.161943, mi_est: 1.606556\n",
      "Iternation: 13000, loss: -1.361894, mi_est: 1.611566\n",
      "Iternation: 14000, loss: -1.360408, mi_est: 1.614517\n",
      "Iternation: 15000, loss: -1.276582, mi_est: 1.616445\n",
      "Iternation: 16000, loss: -1.007362, mi_est: 1.618675\n",
      "Iternation: 17000, loss: -1.627444, mi_est: 1.618839\n",
      "Iternation: 18000, loss: -1.708349, mi_est: 1.621518\n",
      "Iternation: 19000, loss: -1.166903, mi_est: 1.623386\n",
      "Iternation: 20000, loss: -1.733045, mi_est: 1.627176\n",
      "Iternation: 21000, loss: -1.369425, mi_est: 1.629136\n",
      "Iternation: 22000, loss: -1.200112, mi_est: 1.631165\n",
      "Iternation: 23000, loss: -1.095025, mi_est: 1.633650\n",
      "Iternation: 24000, loss: -1.453015, mi_est: 1.635161\n",
      "Iternation: 25000, loss: -1.237883, mi_est: 1.637688\n",
      "Iternation: 26000, loss: -1.673618, mi_est: 1.641153\n",
      "Iternation: 27000, loss: -2.048098, mi_est: 1.641835\n",
      "Iternation: 28000, loss: -1.748963, mi_est: 1.644468\n",
      "Iternation: 29000, loss: -1.631187, mi_est: 1.646466\n",
      "Iternation: 30000, loss: -1.728227, mi_est: 1.649779\n",
      "Iternation: 31000, loss: -1.538619, mi_est: 1.649189\n",
      "Iternation: 32000, loss: -1.464475, mi_est: 1.651110\n",
      "Iternation: 33000, loss: -1.626309, mi_est: 1.652084\n",
      "Iternation: 34000, loss: -1.017530, mi_est: 1.657177\n",
      "Iternation: 35000, loss: -1.137512, mi_est: 1.659798\n",
      "Iternation: 36000, loss: -1.606686, mi_est: 1.660818\n",
      "Iternation: 37000, loss: -1.695156, mi_est: 1.662210\n",
      "Iternation: 38000, loss: -1.502785, mi_est: 1.665632\n",
      "Iternation: 39000, loss: -1.549442, mi_est: 1.669442\n",
      "Iternation: 40000, loss: -1.046528, mi_est: 1.669736\n",
      "Iternation: 41000, loss: -0.845641, mi_est: 1.674355\n",
      "Iternation: 42000, loss: -1.389215, mi_est: 1.675892\n",
      "Iternation: 43000, loss: -1.783683, mi_est: 1.676741\n",
      "Iternation: 44000, loss: -1.671928, mi_est: 1.680195\n",
      "Iternation: 45000, loss: -1.383835, mi_est: 1.681405\n",
      "Iternation: 46000, loss: -1.766656, mi_est: 1.684760\n",
      "Iternation: 47000, loss: -1.169956, mi_est: 1.684865\n",
      "Iternation: 48000, loss: -1.465904, mi_est: 1.690094\n",
      "Iternation: 49000, loss: -1.506668, mi_est: 1.692460\n",
      "Iternation: 50000, loss: -1.706223, mi_est: 1.692377\n",
      "Iternation: 51000, loss: -1.540351, mi_est: 1.694791\n",
      "Iternation: 52000, loss: -1.689818, mi_est: 1.698483\n",
      "Iternation: 53000, loss: -1.517914, mi_est: 1.702304\n",
      "Iternation: 54000, loss: -1.795882, mi_est: 1.702618\n",
      "Iternation: 55000, loss: -1.473453, mi_est: 1.706927\n",
      "Iternation: 56000, loss: -1.235039, mi_est: 1.706844\n",
      "Iternation: 57000, loss: -1.226321, mi_est: 1.712029\n",
      "Iternation: 58000, loss: -1.283238, mi_est: 1.712684\n",
      "Iternation: 59000, loss: -1.711346, mi_est: 1.715595\n"
     ]
    }
   ],
   "source": [
    "continue_train = True  # set to True to continue to train\n",
    "if continue_train:\n",
    "    for i in range(opt.n_epoch*opt.n_iters_1epoch):\n",
    "        data_joint = _resample(XY, batch_size=opt.batch_size)\n",
    "        train_x = data_joint[:,0:opt.d]\n",
    "        train_y = data_joint[:,opt.d:]\n",
    "\n",
    "        optimizer_D.zero_grad()\n",
    "        loss = -infonce_loss(discriminator, train_x, train_y, reg=True) # negative infonce_bound as the loss\n",
    "        loss.backward()\n",
    "\n",
    "        optimizer_D.step()\n",
    "        with torch.no_grad():\n",
    "            mi_est = infonce_loss(discriminator, X, Y, writer, i)\n",
    "        mi_list.append(mi_est.item())\n",
    "        writer.add_scalar('mi_list', mi_est.item(), i)\n",
    "        writer.add_scalar('loss', loss, i)\n",
    "\n",
    "        if i%1000==0:\n",
    "            print(\"Iternation: %d, loss: %f, mi_est: %f\"%(i, loss.item(), mi_est))\n",
    "            fig = plot_fig(discriminator, d=opt.d)\n",
    "            writer.add_histogram('first layer', discriminator.fc1.weight.data, i)\n",
    "            writer.add_histogram('second layer', discriminator.fc2.weight.data, i)\n",
    "            writer.add_histogram('third layer', discriminator.fc3.weight.data, i)\n",
    "\n",
    "\n",
    "            writer.add_histogram('first layer (grad)', discriminator.fc1.weight.grad.data, i)\n",
    "            writer.add_histogram('second layer (grad)', discriminator.fc2.weight.grad.data, i)\n",
    "            writer.add_histogram('third layer (grad)', discriminator.fc3.weight.grad.data, i)\n",
    "            writer.add_figure('heatmap', fig, i)\n",
    "\n",
    "# writer.add_graph(discriminator, (XY,))\n",
    "writer.close()"
   ]
  },
  {
   "cell_type": "code",
   "execution_count": 21,
   "metadata": {},
   "outputs": [],
   "source": [
    "def plot_subfigure(net, X, Y, dimX, dimY, x0=None, y0=None, xmin=-5, xmax=5, ymin=-5, ymax=5, xgrids=50, ygrids=50, ax=None, show_details=True):\n",
    "    \"\"\"\n",
    "    The inputs should be X and Y, which are the coordinates of the points.\n",
    "\n",
    "    net should be a neural network with Tensor inputs.\n",
    "    \"\"\"\n",
    "\n",
    "    if  x0 == None:\n",
    "        x0 = np.zeros((1, X.shape[1]))\n",
    "    if y0 == None:\n",
    "        y0 = np.zeros((1, Y.shape[1]))\n",
    "        \n",
    "    x, y = np.mgrid[xmin:xmax:xgrids * 1j, ymin:ymax:ygrids * 1j]\n",
    "    with torch.no_grad():\n",
    "        z = (net(\n",
    "            torch.cat((torch.Tensor((np.arange(X.shape[-1]) == dimX).reshape(1, -1) *\n",
    "                    x.reshape(-1, 1) + x0).to(DEVICE),\n",
    "            torch.Tensor((np.arange(X.shape[-1]) == dimY).reshape(1, -1) *\n",
    "                    y.reshape(-1, 1) + y0).to(DEVICE),\n",
    "        ),dim=-1)).reshape(x.shape).cpu())\n",
    "    if ax is None:\n",
    "        ax = plt.gca()\n",
    "    # im = ax.pcolormesh(x, y, z, cmap=\"RdBu_r\", shading=\"auto\")\n",
    "    im = ax.pcolormesh(x, y, z, cmap=\"RdBu_r\", shading=\"auto\")\n",
    "    # ax.figure.colorbar(im)\n",
    "    if show_details:\n",
    "        ax.figure.colorbar(im) \n",
    "        ax.set(xlabel=\"$x^{{({0})}}-x_0^{{({0})}}$\",\n",
    "                ylabel=\"$x^{{({0})}}-x_0^{{({0})}}$\",\n",
    "                title=r\"Heatmap of $t(x,y)$\")\n",
    "    return im"
   ]
  },
  {
   "cell_type": "code",
   "execution_count": 62,
   "metadata": {},
   "outputs": [
    {
     "data": {
      "image/png": "[encoded data removed]",
      "text/plain": [
       "<Figure size 432x288 with 5 Axes>"
      ]
     },
     "metadata": {
      "needs_background": "light"
     },
     "output_type": "display_data"
    }
   ],
   "source": [
    "d = 2\n",
    "DEVICE = \"cuda\"\n",
    "f, axs = plt.subplots(nrows=d,ncols=d,sharex=True, sharey=True)\n",
    "for i in range(d):\n",
    "    for j in range(d):\n",
    "        im = plot_subfigure(discriminator, X, Y, dimX=i, dimY=j, x0=None, y0=None, xmin=-5, xmax=5, ymin=-5, ymax=5, xgrids=50, ygrids=50, ax=axs[i, j], show_details=False)\n",
    "f.colorbar(im, ax=axs.ravel().tolist())\n",
    "# plt.savefig(f'results/newresults/NCE_trueref_heatmap_dim{opt.d}_iter{opt.n_epoch}.pdf')\n",
    "plt.show()"
   ]
  },
  {
   "cell_type": "code",
   "execution_count": 248,
   "metadata": {},
   "outputs": [
    {
     "data": {
      "text/plain": [
       "matplotlib.figure.Figure"
      ]
     },
     "execution_count": 248,
     "metadata": {},
     "output_type": "execute_result"
    }
   ],
   "source": [
    "type(f)"
   ]
  },
  {
   "cell_type": "code",
   "execution_count": 170,
   "metadata": {},
   "outputs": [
    {
     "data": {
      "text/plain": [
       "<matplotlib.legend.Legend at 0x7f0bde204d50>"
      ]
     },
     "execution_count": 170,
     "metadata": {},
     "output_type": "execute_result"
    },
    {
     "data": {
      "image/png": "[encoded data removed]",
      "text/plain": [
       "<Figure size 432x288 with 1 Axes>"
      ]
     },
     "metadata": {
      "needs_background": "light"
     },
     "output_type": "display_data"
    }
   ],
   "source": [
    "plt.plot(mi_list, label='MI estimate')\n",
    "plt.axhline(Ground_truth,label='ground truth',linestyle='--',color='red')\n",
    "# for t in range(len(mi_copy)):\n",
    "#     if (mi_copy[t]>.8*Ground_truth):\n",
    "#         plt.axvline(t,label='80% reached',linestyle=':',color='green')\n",
    "#         break\n",
    "plt.xlabel('number of iterations')\n",
    "plt.ylabel('MI estimation')\n",
    "plt.legend()\n",
    "# plt.savefig(f'./results/newresults/NCE+NCE_dim{opt.d}')"
   ]
  },
  {
   "cell_type": "code",
   "execution_count": 54,
   "metadata": {},
   "outputs": [
    {
     "data": {
      "text/plain": [
       "40.0"
      ]
     },
     "execution_count": 54,
     "metadata": {},
     "output_type": "execute_result"
    }
   ],
   "source": [
    "np.log(np.exp(40)+np.exp(-40))"
   ]
  },
  {
   "cell_type": "code",
   "execution_count": 149,
   "metadata": {},
   "outputs": [],
   "source": [
    "mask = torch.ones([3]).diag().unsqueeze(-1).cuda().bool()"
   ]
  },
  {
   "cell_type": "code",
   "execution_count": 234,
   "metadata": {},
   "outputs": [
    {
     "data": {
      "text/plain": [
       "tensor(-1040.1290, grad_fn=<MeanBackward0>)"
      ]
     },
     "execution_count": 234,
     "metadata": {},
     "output_type": "execute_result"
    }
   ],
   "source": [
    "x_tile = X.unsqueeze(0).repeat((opt.sample_size, 1, 1))\n",
    "y_tile = Y.unsqueeze(1).repeat((1, opt.sample_size, 1))\n",
    "\n",
    "discriminator(XY).mean()"
   ]
  },
  {
   "cell_type": "code",
   "execution_count": 157,
   "metadata": {},
   "outputs": [
    {
     "data": {
      "text/plain": [
       "tensor([[[0.5481],\n",
       "         [0.3228]],\n",
       "\n",
       "        [[0.4408],\n",
       "         [0.5289]],\n",
       "\n",
       "        [[0.3595],\n",
       "         [0.0747]]])"
      ]
     },
     "execution_count": 157,
     "metadata": {},
     "output_type": "execute_result"
    }
   ],
   "source": [
    "t[~mask].reshape(-1,2,1)"
   ]
  },
  {
   "cell_type": "code",
   "execution_count": 139,
   "metadata": {},
   "outputs": [],
   "source": [
    "labels = torch.cat([torch.arange(3) for i in range(1)], dim=0)\n",
    "labels = (labels.unsqueeze(0) == labels.unsqueeze(1)).float()"
   ]
  },
  {
   "cell_type": "code",
   "execution_count": 143,
   "metadata": {},
   "outputs": [
    {
     "data": {
      "text/plain": [
       "torch.Size([3, 3])"
      ]
     },
     "execution_count": 143,
     "metadata": {},
     "output_type": "execute_result"
    }
   ],
   "source": [
    "labels.shape"
   ]
  },
  {
   "cell_type": "code",
   "execution_count": 136,
   "metadata": {},
   "outputs": [],
   "source": [
    "mask = torch.eye(labels.shape[0], dtype=torch.bool)"
   ]
  },
  {
   "cell_type": "code",
   "execution_count": 137,
   "metadata": {},
   "outputs": [
    {
     "data": {
      "text/plain": [
       "tensor([[ True, False],\n",
       "        [False,  True]])"
      ]
     },
     "execution_count": 137,
     "metadata": {},
     "output_type": "execute_result"
    }
   ],
   "source": [
    "mask"
   ]
  },
  {
   "cell_type": "code",
   "execution_count": 138,
   "metadata": {},
   "outputs": [
    {
     "data": {
      "text/plain": [
       "tensor([[0.],\n",
       "        [0.]])"
      ]
     },
     "execution_count": 138,
     "metadata": {},
     "output_type": "execute_result"
    }
   ],
   "source": [
    "labels[~mask].view(labels.shape[0], -1)"
   ]
  },
  {
   "cell_type": "code",
   "execution_count": 94,
   "metadata": {},
   "outputs": [
    {
     "data": {
      "text/plain": [
       "3"
      ]
     },
     "execution_count": 94,
     "metadata": {},
     "output_type": "execute_result"
    }
   ],
   "source": [
    "int(str(math.pi)[-1])"
   ]
  },
  {
   "cell_type": "code",
   "execution_count": null,
   "metadata": {},
   "outputs": [],
   "source": []
  }
 ],
 "metadata": {
  "interpreter": {
   "hash": "bf1c2c84a0114d8bd094e4ab7df101a23bc9c1c89692267d72e7fbb9a26d536b"
  },
  "kernelspec": {
   "display_name": "Python 3.7.5 64-bit ('torch': conda)",
   "name": "python3"
  },
  "language_info": {
   "codemirror_mode": {
    "name": "ipython",
    "version": 3
   },
   "file_extension": ".py",
   "mimetype": "text/x-python",
   "name": "python",
   "nbconvert_exporter": "python",
   "pygments_lexer": "ipython3",
   "version": "3.7.7"
  },
  "toc": {
   "base_numbering": 1,
   "nav_menu": {},
   "number_sections": true,
   "sideBar": true,
   "skip_h1_title": false,
   "title_cell": "Table of Contents",
   "title_sidebar": "Contents",
   "toc_cell": false,
   "toc_position": {},
   "toc_section_display": true,
   "toc_window_display": false
  }
 },
 "nbformat": 4,
 "nbformat_minor": 4
}
