{
 "cells": [
  {
   "cell_type": "markdown",
   "metadata": {},
   "source": [
    "# Estimating MI by noise contrastive method (InfoNCE)"
   ]
  },
  {
   "cell_type": "markdown",
   "metadata": {},
   "source": [
    "## Setup"
   ]
  },
  {
   "cell_type": "markdown",
   "metadata": {},
   "source": [
    "The following cell imports the necessary packages:"
   ]
  },
  {
   "cell_type": "code",
   "execution_count": 1,
   "metadata": {},
   "outputs": [],
   "source": [
    "import torch\n",
    "import torch.nn.functional as F\n",
    "import os\n",
    "import numpy as np\n",
    "import matplotlib.pyplot as plt\n",
    "import argparse\n",
    "from src.utils import *\n",
    "from src.mi_estimators import *\n",
    "from torch.utils.tensorboard import SummaryWriter"
   ]
  },
  {
   "cell_type": "markdown",
   "metadata": {},
   "source": [
    "Set random seed for reproducibility."
   ]
  },
  {
   "cell_type": "code",
   "execution_count": 2,
   "metadata": {},
   "outputs": [],
   "source": [
    "SEED = 0\n",
    "torch.manual_seed(SEED)\n",
    "torch.cuda.manual_seed(SEED)\n",
    "np.random.seed(SEED)\n",
    "\n",
    "cuda = True if torch.cuda.is_available() else False\n",
    "FloatTensor = torch.cuda.FloatTensor if cuda else torch.FloatTensor\n",
    "LongTensor = torch.cuda.LongTensor if cuda else torch.LongTensor\n",
    "torch.set_default_tensor_type(FloatTensor)"
   ]
  },
  {
   "cell_type": "markdown",
   "metadata": {},
   "source": [
    "Specify the hyper-parameters:"
   ]
  },
  {
   "cell_type": "code",
   "execution_count": 3,
   "metadata": {},
   "outputs": [],
   "source": [
    "parser = argparse.ArgumentParser()\n",
    "parser.add_argument(\"--rho\", type=float, default=0.9, help=\"coefficient of Gaussian\")\n",
    "parser.add_argument(\"--d\", type=int, default=20, help=\"dimension of X & Y\")\n",
    "parser.add_argument(\"--sample_size\", type=int, default=400, help=\"sample size\")\n",
    "parser.add_argument(\"--gamma\", type=float, default=1e-10, help=\"clipping parameter\")\n",
    "parser.add_argument(\"--b1\", type=float, default=0.5, help=\"adam: decay of first order momentum of gradient\")\n",
    "parser.add_argument(\"--b2\", type=float, default=0.999, help=\"adam: decay of first order momentum of gradient\")\n",
    "parser.add_argument(\"--batch_size\", type=int, default=40, help=\"size of the batches\")\n",
    "parser.add_argument(\"--lr\", type=float, default=1e-4, help=\"adam: learning rate\")\n",
    "parser.add_argument(\"--hidden_dim\", type=int, default=100, help=\"Hidden dimension\")\n",
    "parser.add_argument(\"--hidden_layer\", type=int, default=2, help=\"the number of hidden layers\")\n",
    "parser.add_argument(\"--ma_rate\", type=float, default=0.1, help=\"move average rate\")\n",
    "parser.add_argument(\"--ma_ef\", type=float, default=1, help=\"move average ef\")\n",
    "parser.add_argument(\"--exc\", type=int, default=1, help=\"whether exclude the data sample from the reference samples\")\n",
    "parser.add_argument(\"--reg\", type=int, default=0, help=\"if apply regularization\")\n",
    "parser.add_argument(\"--n_epoch\", type=int, default=2000, help=\"number of epochs of training\")\n",
    "parser.add_argument(\"--n_iters_1epoch\", type=int, default=10, help=\"number of epochs of training\")\n",
    "\n",
    "opt, unknown = parser.parse_known_args()\n",
    "opt.n_iters = opt.n_epoch * opt.n_iters_1epoch\n",
    "ma_rate = 0.01  # moving average rate"
   ]
  },
  {
   "cell_type": "code",
   "execution_count": 4,
   "metadata": {},
   "outputs": [],
   "source": [
    "continue_train = True  # set to True to continue to train\n",
    "load_available = False # set to False to prevent loading previous results\n",
    "overwrite = False  # set to True to overwrite previously stored results"
   ]
  },
  {
   "cell_type": "code",
   "execution_count": 5,
   "metadata": {},
   "outputs": [],
   "source": [
    "data = GaussianData(opt.sample_size, d=opt.d, rho=opt.rho)\n",
    "X, Y, XY, Ground_truth = data.X, data.Y, torch.cat((data.X, data.Y), dim=1), data.mutual_information()"
   ]
  },
  {
   "cell_type": "markdown",
   "metadata": {},
   "source": [
    "## Model"
   ]
  },
  {
   "cell_type": "code",
   "execution_count": 14,
   "metadata": {},
   "outputs": [],
   "source": [
    "name = f'./results/InfoNCE_dim{opt.d}_reg{opt.reg}'   # filename\n",
    "chkpt_name = name+'.pt'      # checkpoint\n",
    "\n",
    "from datetime import datetime\n",
    "TIMESTAMP = \"{0:%Y-%m-%dT%H-%M-%S/}\".format(datetime.now())\n",
    "writer = SummaryWriter(f'./results/log/InfoNCE_dim{opt.d}_reg{opt.reg}/{TIMESTAMP}')\n",
    "discriminator = Net(input_size=opt.d*2, hidden_layers=opt.hidden_layer, hidden_size=opt.hidden_dim)\n",
    "\n",
    "# move NN model to GPU if GPU is available\n",
    "if cuda:\n",
    "    discriminator.cuda()\n",
    "\n",
    "# Adam optimizer\n",
    "optimizer_D = torch.optim.Adam(discriminator.parameters(), lr=opt.lr, betas=(opt.b1, opt.b2))"
   ]
  },
  {
   "cell_type": "code",
   "execution_count": 7,
   "metadata": {},
   "outputs": [],
   "source": [
    "def infonce_loss(net, x_samples, y_samples, writer=None, epoch=None, reg=False):\n",
    "    sample_size = x_samples.shape[0]\n",
    "    x_tile = x_samples.unsqueeze(0).repeat((sample_size, 1, 1))\n",
    "    y_tile = y_samples.unsqueeze(1).repeat((1, sample_size, 1))\n",
    "\n",
    "    T0 = net(torch.cat([x_samples,y_samples], dim = -1))\n",
    "    T1 = net(torch.cat([x_tile, y_tile], dim = -1))\n",
    "    a = T0.mean()\n",
    "    b = T1.logsumexp(dim = 1).mean() - np.log(sample_size)\n",
    "    if reg:\n",
    "        lower_bound = a - b - b**2\n",
    "    else:\n",
    "        lower_bound = a - b\n",
    "\n",
    "    if writer is not None:\n",
    "        writer.add_scalar('a', a, epoch)\n",
    "        writer.add_scalar('b', b, epoch)\n",
    "        writer.add_scalar('log ratio', a-b-np.log(sample_size), epoch)\n",
    "    return lower_bound"
   ]
  },
  {
   "cell_type": "code",
   "execution_count": 8,
   "metadata": {},
   "outputs": [],
   "source": [
    "def infonce_exc_loss(net, x_samples, y_samples, writer=None, epoch=None, reg=False):\n",
    "    sample_size = x_samples.shape[0]\n",
    "    x_tile = x_samples.unsqueeze(0).repeat((sample_size, 1, 1))\n",
    "    y_tile = y_samples.unsqueeze(1).repeat((1, sample_size, 1))\n",
    "    mask =  torch.ones([sample_size]).diag().unsqueeze(-1).bool().cuda()\n",
    "    T0 = net(torch.cat([x_samples,y_samples], dim = -1))\n",
    "    T1 = net(torch.cat([x_tile, y_tile], dim = -1))\n",
    "    a = T0.mean()\n",
    "    b = T1[~mask].reshape(-1, sample_size-1, 1).logsumexp(dim = 0).mean() - np.log(sample_size-1)\n",
    "\n",
    "    if reg:\n",
    "        lower_bound = a - b - b**2\n",
    "    else:\n",
    "        lower_bound = a - b\n",
    "\n",
    "    if writer is not None:\n",
    "        writer.add_scalar('a', a, epoch)\n",
    "        writer.add_scalar('b', b, epoch)\n",
    "    return lower_bound"
   ]
  },
  {
   "cell_type": "markdown",
   "metadata": {},
   "source": [
    "Load previous results."
   ]
  },
  {
   "cell_type": "code",
   "execution_count": 15,
   "metadata": {},
   "outputs": [],
   "source": [
    "# load_available = True # set to False to prevent loading previous results\n",
    "if load_available and os.path.exists(chkpt_name):\n",
    "    checkpoint = torch.load(\n",
    "        chkpt_name, map_location='cuda' if torch.cuda.is_available() else 'cpu')\n",
    "    mi_list = checkpoint['mi_list']\n",
    "    model_state = checkpoint['model_state']\n",
    "    discriminator.load_state_dict(model_state)\n",
    "    print('Previous results loaded.')\n",
    "else:\n",
    "    mi_list = [] # storing the mi estimation of each iteration"
   ]
  },
  {
   "cell_type": "markdown",
   "metadata": {},
   "source": [
    "## Training"
   ]
  },
  {
   "cell_type": "markdown",
   "metadata": {},
   "source": [
    "Since maximizing the infoNCE bound over $f$ attains the mutual information\n",
    "\n",
    "\\begin{align}\n",
    "I(X\\wedge Y) = \\sup_{f} I_{\\text{infoNCE}}(f),\n",
    "\\end{align}\n",
    "\n",
    "we train the neural network to minimize the loss $-I_{\\text{infoNCE}}(f)$. The optimal solution $f$ satisfies\n",
    "\n",
    "\\begin{align}\n",
    "f(x,y)=\\log \\frac{p_{Y|X}(y|x)}{p_{Y}(y)} + c \\quad \\forall x\\in \\mathcal{X}, y \\in \\mathcal{Y}\n",
    "\\end{align}\n",
    "\n",
    "for any constant $c$."
   ]
  },
  {
   "cell_type": "markdown",
   "metadata": {},
   "source": [
    "The following cell train the neural network using the data samples."
   ]
  },
  {
   "cell_type": "code",
   "execution_count": 16,
   "metadata": {},
   "outputs": [
    {
     "name": "stdout",
     "output_type": "stream",
     "text": [
      "Iternation: 1, loss: -0.000000, mi_est: 0.000000\n",
      "Iternation: 1001, loss: -3.677499, mi_est: 5.818792\n",
      "Iternation: 2001, loss: -3.678376, mi_est: 5.930674\n",
      "Iternation: 3001, loss: -3.688437, mi_est: 5.988447\n",
      "Iternation: 4001, loss: -3.688659, mi_est: 5.988868\n",
      "Iternation: 5001, loss: -3.688870, mi_est: 5.990931\n",
      "Iternation: 6001, loss: -3.688858, mi_est: 5.990933\n",
      "Iternation: 7001, loss: -3.688852, mi_est: 5.991249\n",
      "Iternation: 8001, loss: -3.676992, mi_est: 5.868973\n",
      "Iternation: 9001, loss: -3.686611, mi_est: 5.958904\n",
      "Iternation: 10001, loss: -3.685568, mi_est: 5.978132\n",
      "Iternation: 11001, loss: -3.688399, mi_est: 5.985785\n",
      "Iternation: 12001, loss: -3.688414, mi_est: 5.988993\n",
      "Iternation: 13001, loss: -3.688776, mi_est: 5.990522\n",
      "Iternation: 14001, loss: -3.688803, mi_est: 5.991110\n",
      "Iternation: 15001, loss: -3.688868, mi_est: 5.991343\n",
      "Iternation: 16001, loss: -3.688871, mi_est: 5.991426\n",
      "Iternation: 17001, loss: -3.688881, mi_est: 5.991449\n",
      "Iternation: 18001, loss: -3.688879, mi_est: 5.991461\n",
      "Iternation: 19001, loss: -3.688879, mi_est: 5.991459\n"
     ]
    }
   ],
   "source": [
    "continue_train = True  # set to True to continue to train\n",
    "if continue_train:\n",
    "    iter_ = 0\n",
    "    # for i in range(opt.n_epoch):\n",
    "    #     # idx = torch.randperm(opt.sample_size)\n",
    "    #     idx = np.random.permutation(opt.sample_size)\n",
    "    #     # idx_X, idx_Y = randerange(opt.sample_size)\n",
    "    #     for j in range(opt.n_iters_1epoch):\n",
    "    #         batch_idx = idx[j::opt.n_iters_1epoch]\n",
    "    for i in range(opt.n_epoch*opt.n_iters_1epoch):\n",
    "        data_joint = resample(XY, batch_size=opt.batch_size)\n",
    "            # train_x = X[batch_idx]\n",
    "            # train_y = Y[batch_idx]\n",
    "        train_x = data_joint[:,0:opt.d]\n",
    "        train_y = data_joint[:,opt.d:]\n",
    "\n",
    "        optimizer_D.zero_grad()\n",
    "        loss = -infonce_loss(discriminator, train_x, train_y) # negative infonce_bound as the loss\n",
    "        loss.backward()\n",
    "\n",
    "        optimizer_D.step()\n",
    "        with torch.no_grad():\n",
    "            # mi_est = infonce_loss(discriminator, X, Y, writer, i)\n",
    "            mi_est = infonce_loss(discriminator, X, Y)\n",
    "        mi_list.append(mi_est.item())\n",
    "        writer.add_scalar('mi_list', mi_est.item(), i)\n",
    "        writer.add_scalar('loss', loss, i)\n",
    "        iter_ += 1\n",
    "\n",
    "        if i%1000==0:\n",
    "            print(\"Iternation: %d, loss: %f, mi_est: %f\"%(iter_, loss.item(), mi_est))\n",
    "            fig = plot_fig(discriminator, X, Y, d= opt.d if opt.d<6 else 6 )\n",
    "            writer.add_figure('heatmap', fig, i)\n",
    "            writer.add_histogram('first layer', discriminator.fc[0].weight.data, i)\n",
    "            writer.add_histogram('second layer', discriminator.fc[1].weight.data, i)\n",
    "            writer.add_histogram('third layer', discriminator.fc[2].weight.data, i)\n",
    "\n",
    "            writer.add_histogram('first layer (grad)', discriminator.fc[0].weight.grad.data, i)\n",
    "            writer.add_histogram('second layer (grad)', discriminator.fc[1].weight.grad.data, i)\n",
    "            writer.add_histogram('third layer (grad)', discriminator.fc[2].weight.grad.data, i)\n",
    "\n",
    "\n",
    "# writer.add_graph(discriminator, (XY,))\n",
    "writer.close()"
   ]
  },
  {
   "cell_type": "code",
   "execution_count": 17,
   "metadata": {},
   "outputs": [
    {
     "name": "stdout",
     "output_type": "stream",
     "text": [
      "Current results saved.\n"
     ]
    }
   ],
   "source": [
    "overwrite = True  # set to True to overwrite previously stored results\n",
    "if overwrite or not os.path.exists(chkpt_name):\n",
    "    model_state = discriminator.state_dict()\n",
    "    torch.save({\n",
    "        'mi_list': mi_list,\n",
    "        'model_state': model_state\n",
    "    }, chkpt_name)\n",
    "    writer.close()\n",
    "    print('Current results saved.')"
   ]
  },
  {
   "cell_type": "markdown",
   "metadata": {},
   "source": [
    "## MI estimates"
   ]
  },
  {
   "cell_type": "markdown",
   "metadata": {
    "tags": []
   },
   "source": [
    "Use moving average to smooth the estimated MI in each training iteration."
   ]
  },
  {
   "cell_type": "code",
   "execution_count": 18,
   "metadata": {},
   "outputs": [],
   "source": [
    "mi_copy = mi_list.copy()\n",
    "for k in range(1,len(mi_list)):\n",
    "    mi_copy[k] = (1-ma_rate) * mi_copy[k-1] + ma_rate * mi_copy[k]"
   ]
  },
  {
   "cell_type": "markdown",
   "metadata": {},
   "source": [
    "Plot the MI estimation curve against the training iteration, together with the ground truth."
   ]
  },
  {
   "cell_type": "code",
   "execution_count": 19,
   "metadata": {},
   "outputs": [
    {
     "data": {
      "text/plain": [
       "<matplotlib.legend.Legend at 0x7f512f081f90>"
      ]
     },
     "execution_count": 19,
     "metadata": {},
     "output_type": "execute_result"
    },
    {
     "data": {
      "image/png": "[encoded data removed]",
      "text/plain": [
       "<Figure size 432x288 with 1 Axes>"
      ]
     },
     "metadata": {
      "needs_background": "light"
     },
     "output_type": "display_data"
    }
   ],
   "source": [
    "plt.plot(mi_copy, label='MI estimate')\n",
    "plt.axhline(Ground_truth,label='ground truth',linestyle='--',color='red')\n",
    "plt.axhline(np.log(opt.sample_size),label='log $n$',linestyle='--',color='grey')\n",
    "# for t in range(len(mi_copy)):\n",
    "#     if (mi_copy[t]>.8*Ground_truth):\n",
    "#         plt.axvline(t,label='80% reached',linestyle=':',color='green')\n",
    "#         break\n",
    "plt.xlabel('number of iterations')\n",
    "plt.ylabel('MI estimation')\n",
    "plt.legend()"
   ]
  },
  {
   "cell_type": "markdown",
   "metadata": {},
   "source": [
    "## InfoNCE w\\o datasamples"
   ]
  },
  {
   "cell_type": "code",
   "execution_count": 40,
   "metadata": {},
   "outputs": [],
   "source": [
    "name = f'./results/InfoNCE_exc_dim{opt.d}_reg{opt.reg}'   # filename\n",
    "chkpt_name = name+'.pt'      # checkpoint\n",
    "opt.reg = 0\n",
    "from datetime import datetime\n",
    "TIMESTAMP = \"{0:%Y-%m-%dT%H-%M-%S/}\".format(datetime.now())\n",
    "writer = SummaryWriter(f'./results/log/InfoNCE_exc_dim{opt.d}_reg{opt.reg}/{TIMESTAMP}')\n",
    "discriminator2 = Net(input_size=opt.d*2, hidden_layers=opt.hidden_layer, hidden_size=opt.hidden_dim)\n",
    "\n",
    "# move NN model to GPU if GPU is available\n",
    "if cuda:\n",
    "    discriminator2.cuda()\n",
    "\n",
    "# Adam optimizer\n",
    "optimizer_D = torch.optim.Adam(discriminator2.parameters(), lr=opt.lr, betas=(opt.b1, opt.b2))"
   ]
  },
  {
   "cell_type": "code",
   "execution_count": 41,
   "metadata": {},
   "outputs": [],
   "source": [
    "# load_available = True # set to False to prevent loading previous results\n",
    "if load_available and os.path.exists(chkpt_name):\n",
    "    checkpoint = torch.load(\n",
    "        chkpt_name, map_location='cuda' if torch.cuda.is_available() else 'cpu')\n",
    "    mi_list = checkpoint['mi_list']\n",
    "    model_state = checkpoint['model_state']\n",
    "    discriminator2.load_state_dict(model_state)\n",
    "    print('Previous results loaded.')\n",
    "else:\n",
    "    mi_list = [] # storing the mi estimation of each iteration"
   ]
  },
  {
   "cell_type": "code",
   "execution_count": 42,
   "metadata": {},
   "outputs": [
    {
     "name": "stdout",
     "output_type": "stream",
     "text": [
      "Iternation: 0, loss: 0.025318, mi_est: -0.002503\n",
      "Iternation: 1000, loss: -25070.099609, mi_est: 13770.888672\n",
      "Iternation: 2000, loss: -5607841.000000, mi_est: 4072216.000000\n",
      "Iternation: 3000, loss: -125840320.000000, mi_est: 92370984.000000\n",
      "Iternation: 4000, loss: -1122661248.000000, mi_est: 793003648.000000\n",
      "Iternation: 5000, loss: -5301468672.000000, mi_est: 3943582208.000000\n",
      "Iternation: 6000, loss: -19592353792.000000, mi_est: 13604892672.000000\n",
      "Iternation: 7000, loss: -48945446912.000000, mi_est: 37101543424.000000\n",
      "Iternation: 8000, loss: -111976390656.000000, mi_est: 85326577664.000000\n",
      "Iternation: 9000, loss: -227546857472.000000, mi_est: 172953763840.000000\n",
      "Iternation: 10000, loss: -429842235392.000000, mi_est: 319309709312.000000\n",
      "Iternation: 11000, loss: -715124178944.000000, mi_est: 548289282048.000000\n",
      "Iternation: 12000, loss: -1077441331200.000000, mi_est: 890735165440.000000\n",
      "Iternation: 13000, loss: -1817805062144.000000, mi_est: 1379622584320.000000\n"
     ]
    },
    {
     "ename": "KeyboardInterrupt",
     "evalue": "",
     "output_type": "error",
     "traceback": [
      "\u001b[0;31m---------------------------------------------------------------------------\u001b[0m",
      "\u001b[0;31mKeyboardInterrupt\u001b[0m                         Traceback (most recent call last)",
      "\u001b[0;32m/tmp/ipykernel_2151518/4021819961.py\u001b[0m in \u001b[0;36m<module>\u001b[0;34m\u001b[0m\n\u001b[1;32m     10\u001b[0m         \u001b[0mloss\u001b[0m\u001b[0;34m.\u001b[0m\u001b[0mbackward\u001b[0m\u001b[0;34m(\u001b[0m\u001b[0;34m)\u001b[0m\u001b[0;34m\u001b[0m\u001b[0;34m\u001b[0m\u001b[0m\n\u001b[1;32m     11\u001b[0m \u001b[0;34m\u001b[0m\u001b[0m\n\u001b[0;32m---> 12\u001b[0;31m         \u001b[0moptimizer_D\u001b[0m\u001b[0;34m.\u001b[0m\u001b[0mstep\u001b[0m\u001b[0;34m(\u001b[0m\u001b[0;34m)\u001b[0m\u001b[0;34m\u001b[0m\u001b[0;34m\u001b[0m\u001b[0m\n\u001b[0m\u001b[1;32m     13\u001b[0m         \u001b[0;32mwith\u001b[0m \u001b[0mtorch\u001b[0m\u001b[0;34m.\u001b[0m\u001b[0mno_grad\u001b[0m\u001b[0;34m(\u001b[0m\u001b[0;34m)\u001b[0m\u001b[0;34m:\u001b[0m\u001b[0;34m\u001b[0m\u001b[0;34m\u001b[0m\u001b[0m\n\u001b[1;32m     14\u001b[0m             \u001b[0mmi_est\u001b[0m \u001b[0;34m=\u001b[0m \u001b[0minfonce_exc_loss\u001b[0m\u001b[0;34m(\u001b[0m\u001b[0mdiscriminator2\u001b[0m\u001b[0;34m,\u001b[0m \u001b[0mX\u001b[0m\u001b[0;34m,\u001b[0m \u001b[0mY\u001b[0m\u001b[0;34m,\u001b[0m \u001b[0mwriter\u001b[0m\u001b[0;34m,\u001b[0m \u001b[0mi\u001b[0m\u001b[0;34m)\u001b[0m\u001b[0;34m\u001b[0m\u001b[0;34m\u001b[0m\u001b[0m\n",
      "\u001b[0;32m~/anaconda3/envs/torch/lib/python3.7/site-packages/torch/optim/optimizer.py\u001b[0m in \u001b[0;36mwrapper\u001b[0;34m(*args, **kwargs)\u001b[0m\n\u001b[1;32m     87\u001b[0m                 \u001b[0mprofile_name\u001b[0m \u001b[0;34m=\u001b[0m \u001b[0;34m\"Optimizer.step#{}.step\"\u001b[0m\u001b[0;34m.\u001b[0m\u001b[0mformat\u001b[0m\u001b[0;34m(\u001b[0m\u001b[0mobj\u001b[0m\u001b[0;34m.\u001b[0m\u001b[0m__class__\u001b[0m\u001b[0;34m.\u001b[0m\u001b[0m__name__\u001b[0m\u001b[0;34m)\u001b[0m\u001b[0;34m\u001b[0m\u001b[0;34m\u001b[0m\u001b[0m\n\u001b[1;32m     88\u001b[0m                 \u001b[0;32mwith\u001b[0m \u001b[0mtorch\u001b[0m\u001b[0;34m.\u001b[0m\u001b[0mautograd\u001b[0m\u001b[0;34m.\u001b[0m\u001b[0mprofiler\u001b[0m\u001b[0;34m.\u001b[0m\u001b[0mrecord_function\u001b[0m\u001b[0;34m(\u001b[0m\u001b[0mprofile_name\u001b[0m\u001b[0;34m)\u001b[0m\u001b[0;34m:\u001b[0m\u001b[0;34m\u001b[0m\u001b[0;34m\u001b[0m\u001b[0m\n\u001b[0;32m---> 89\u001b[0;31m                     \u001b[0;32mreturn\u001b[0m \u001b[0mfunc\u001b[0m\u001b[0;34m(\u001b[0m\u001b[0;34m*\u001b[0m\u001b[0margs\u001b[0m\u001b[0;34m,\u001b[0m \u001b[0;34m**\u001b[0m\u001b[0mkwargs\u001b[0m\u001b[0;34m)\u001b[0m\u001b[0;34m\u001b[0m\u001b[0;34m\u001b[0m\u001b[0m\n\u001b[0m\u001b[1;32m     90\u001b[0m             \u001b[0;32mreturn\u001b[0m \u001b[0mwrapper\u001b[0m\u001b[0;34m\u001b[0m\u001b[0;34m\u001b[0m\u001b[0m\n\u001b[1;32m     91\u001b[0m \u001b[0;34m\u001b[0m\u001b[0m\n",
      "\u001b[0;32m~/anaconda3/envs/torch/lib/python3.7/site-packages/torch/autograd/grad_mode.py\u001b[0m in \u001b[0;36mdecorate_context\u001b[0;34m(*args, **kwargs)\u001b[0m\n\u001b[1;32m     25\u001b[0m         \u001b[0;32mdef\u001b[0m \u001b[0mdecorate_context\u001b[0m\u001b[0;34m(\u001b[0m\u001b[0;34m*\u001b[0m\u001b[0margs\u001b[0m\u001b[0;34m,\u001b[0m \u001b[0;34m**\u001b[0m\u001b[0mkwargs\u001b[0m\u001b[0;34m)\u001b[0m\u001b[0;34m:\u001b[0m\u001b[0;34m\u001b[0m\u001b[0;34m\u001b[0m\u001b[0m\n\u001b[1;32m     26\u001b[0m             \u001b[0;32mwith\u001b[0m \u001b[0mself\u001b[0m\u001b[0;34m.\u001b[0m\u001b[0m__class__\u001b[0m\u001b[0;34m(\u001b[0m\u001b[0;34m)\u001b[0m\u001b[0;34m:\u001b[0m\u001b[0;34m\u001b[0m\u001b[0;34m\u001b[0m\u001b[0m\n\u001b[0;32m---> 27\u001b[0;31m                 \u001b[0;32mreturn\u001b[0m \u001b[0mfunc\u001b[0m\u001b[0;34m(\u001b[0m\u001b[0;34m*\u001b[0m\u001b[0margs\u001b[0m\u001b[0;34m,\u001b[0m \u001b[0;34m**\u001b[0m\u001b[0mkwargs\u001b[0m\u001b[0;34m)\u001b[0m\u001b[0;34m\u001b[0m\u001b[0;34m\u001b[0m\u001b[0m\n\u001b[0m\u001b[1;32m     28\u001b[0m         \u001b[0;32mreturn\u001b[0m \u001b[0mcast\u001b[0m\u001b[0;34m(\u001b[0m\u001b[0mF\u001b[0m\u001b[0;34m,\u001b[0m \u001b[0mdecorate_context\u001b[0m\u001b[0;34m)\u001b[0m\u001b[0;34m\u001b[0m\u001b[0;34m\u001b[0m\u001b[0m\n\u001b[1;32m     29\u001b[0m \u001b[0;34m\u001b[0m\u001b[0m\n",
      "\u001b[0;32m~/anaconda3/envs/torch/lib/python3.7/site-packages/torch/autograd/grad_mode.py\u001b[0m in \u001b[0;36m__exit__\u001b[0;34m(self, exc_type, exc_value, traceback)\u001b[0m\n\u001b[1;32m    122\u001b[0m \u001b[0;34m\u001b[0m\u001b[0m\n\u001b[1;32m    123\u001b[0m     \u001b[0;32mdef\u001b[0m \u001b[0m__exit__\u001b[0m\u001b[0;34m(\u001b[0m\u001b[0mself\u001b[0m\u001b[0;34m,\u001b[0m \u001b[0mexc_type\u001b[0m\u001b[0;34m:\u001b[0m \u001b[0mAny\u001b[0m\u001b[0;34m,\u001b[0m \u001b[0mexc_value\u001b[0m\u001b[0;34m:\u001b[0m \u001b[0mAny\u001b[0m\u001b[0;34m,\u001b[0m \u001b[0mtraceback\u001b[0m\u001b[0;34m:\u001b[0m \u001b[0mAny\u001b[0m\u001b[0;34m)\u001b[0m \u001b[0;34m->\u001b[0m \u001b[0;32mNone\u001b[0m\u001b[0;34m:\u001b[0m\u001b[0;34m\u001b[0m\u001b[0;34m\u001b[0m\u001b[0m\n\u001b[0;32m--> 124\u001b[0;31m         \u001b[0mtorch\u001b[0m\u001b[0;34m.\u001b[0m\u001b[0mset_grad_enabled\u001b[0m\u001b[0;34m(\u001b[0m\u001b[0mself\u001b[0m\u001b[0;34m.\u001b[0m\u001b[0mprev\u001b[0m\u001b[0;34m)\u001b[0m\u001b[0;34m\u001b[0m\u001b[0;34m\u001b[0m\u001b[0m\n\u001b[0m\u001b[1;32m    125\u001b[0m \u001b[0;34m\u001b[0m\u001b[0m\n\u001b[1;32m    126\u001b[0m \u001b[0;34m\u001b[0m\u001b[0m\n",
      "\u001b[0;31mKeyboardInterrupt\u001b[0m: "
     ]
    }
   ],
   "source": [
    "continue_train = True  # set to True to continue to train\n",
    "if continue_train:\n",
    "    for i in range(opt.n_epoch*opt.n_iters_1epoch):\n",
    "        data_joint = resample(XY, batch_size=opt.batch_size)\n",
    "        train_x = data_joint[:,0:opt.d]\n",
    "        train_y = data_joint[:,opt.d:]\n",
    "\n",
    "        optimizer_D.zero_grad()\n",
    "        loss = -infonce_exc_loss(discriminator2, train_x, train_y, reg=opt.reg) # negative infonce_bound as the loss\n",
    "        loss.backward()\n",
    "\n",
    "        optimizer_D.step()\n",
    "        with torch.no_grad():\n",
    "            mi_est = infonce_exc_loss(discriminator2, X, Y, writer, i)\n",
    "        mi_list.append(mi_est.item())\n",
    "        writer.add_scalar('mi_list', mi_est.item(), i)\n",
    "        writer.add_scalar('loss', loss, i)\n",
    "\n",
    "        if i%1000==0:\n",
    "            print(\"Iternation: %d, loss: %f, mi_est: %f\"%(i, loss.item(), mi_est))\n",
    "            fig = plot_fig(discriminator2, X, Y, d=opt.d if opt.d<6 else 6)\n",
    "            writer.add_figure('heatmap', fig, i)\n",
    "            writer.add_histogram('first layer', discriminator.fc[0].weight.data, i)\n",
    "            writer.add_histogram('second layer', discriminator.fc[1].weight.data, i)\n",
    "            writer.add_histogram('third layer', discriminator.fc[2].weight.data, i)\n",
    "\n",
    "            writer.add_histogram('first layer (grad)', discriminator.fc[0].weight.grad.data, i)\n",
    "            writer.add_histogram('second layer (grad)', discriminator.fc[1].weight.grad.data, i)\n",
    "            writer.add_histogram('third layer (grad)', discriminator.fc[2].weight.grad.data, i)\n",
    "\n",
    "# writer.add_graph(discriminator, (XY,))\n",
    "writer.close()"
   ]
  },
  {
   "cell_type": "code",
   "execution_count": null,
   "metadata": {},
   "outputs": [],
   "source": [
    "mi_copy2 = mi_list.copy()\n",
    "for k in range(1,len(mi_list)):\n",
    "    mi_copy2[k] = (1-ma_rate) * mi_copy2[k-1] + ma_rate * mi_copy2[k]"
   ]
  },
  {
   "cell_type": "code",
   "execution_count": null,
   "metadata": {},
   "outputs": [
    {
     "name": "stdout",
     "output_type": "stream",
     "text": [
      "Current results saved.\n"
     ]
    }
   ],
   "source": [
    "overwrite = True  # set to True to overwrite previously stored results\n",
    "if overwrite or not os.path.exists(chkpt_name):\n",
    "    model_state = discriminator2.state_dict()\n",
    "    torch.save({\n",
    "        'mi_list': mi_list,\n",
    "        'model_state': model_state\n",
    "    }, chkpt_name)\n",
    "    writer.close()\n",
    "    print('Current results saved.')"
   ]
  },
  {
   "cell_type": "code",
   "execution_count": null,
   "metadata": {},
   "outputs": [
    {
     "data": {
      "text/plain": [
       "<matplotlib.legend.Legend at 0x7f36a941fb10>"
      ]
     },
     "execution_count": 19,
     "metadata": {},
     "output_type": "execute_result"
    },
    {
     "data": {
      "image/png": "[encoded data removed]",
      "text/plain": [
       "<Figure size 432x288 with 1 Axes>"
      ]
     },
     "metadata": {
      "needs_background": "light"
     },
     "output_type": "display_data"
    }
   ],
   "source": [
    "plt.plot(mi_copy2, label='MI estimate')\n",
    "plt.axhline(Ground_truth,label='ground truth',linestyle='--',color='red')\n",
    "plt.axhline(np.log(opt.sample_size),label='log $n$',linestyle='--',color='grey')\n",
    "# for t in range(len(mi_copy)):\n",
    "#     if (mi_copy[t]>.8*Ground_truth):\n",
    "#         plt.axvline(t,label='80% reached',linestyle=':',color='green')\n",
    "#         break\n",
    "plt.xlabel('number of iterations')\n",
    "plt.ylabel('MI estimation')\n",
    "plt.legend()"
   ]
  },
  {
   "cell_type": "markdown",
   "metadata": {},
   "source": [
    "## InfoNCE with GT reference distribution"
   ]
  },
  {
   "cell_type": "code",
   "execution_count": null,
   "metadata": {},
   "outputs": [],
   "source": [
    "discriminator3 = Net(input_size=opt.d*2, hidden_size=100)\n",
    "\n",
    "# move NN model to GPU if GPU is available\n",
    "if cuda:\n",
    "    discriminator3.cuda()\n",
    "\n",
    "# Adam optimizer\n",
    "optimizer_D = torch.optim.Adam(discriminator3.parameters(), lr=opt.lr, betas=(opt.b1, opt.b2))"
   ]
  },
  {
   "cell_type": "code",
   "execution_count": null,
   "metadata": {},
   "outputs": [],
   "source": [
    "name = f'./results/InfoNCE_knownref_dim{opt.d}'   # filename\n",
    "chkpt_name = name+'.pt'      # checkpoint\n",
    "writer = SummaryWriter(f'./results/log/InfoNCE_knownref_dim{opt.d}')\n",
    "\n",
    "\n",
    "# load_available = True # set to False to prevent loading previous results\n",
    "if load_available and os.path.exists(chkpt_name):\n",
    "    checkpoint = torch.load(\n",
    "        chkpt_name, map_location='cuda' if torch.cuda.is_available() else 'cpu')\n",
    "    mi_list = checkpoint['mi_list']\n",
    "    model_state = checkpoint['model_state']\n",
    "    discriminator3.load_state_dict(model_state)\n",
    "    print('Previous results loaded.')\n",
    "else:\n",
    "    mi_list = [] # storing the mi estimation of each iteration"
   ]
  },
  {
   "cell_type": "code",
   "execution_count": null,
   "metadata": {},
   "outputs": [],
   "source": [
    "def estimate_withGT(Net, jointdata, marginaldata):\n",
    "    L = Net(jointdata).mean()\n",
    "    L_ = discriminator3(marginaldata).reshape((jointdata.shape[0], jointdata.shape[0], -1)).logsumexp(1) - np.log(jointdata.shape[0])\n",
    "    return L - L_.mean()"
   ]
  },
  {
   "cell_type": "code",
   "execution_count": null,
   "metadata": {},
   "outputs": [
    {
     "name": "stdout",
     "output_type": "stream",
     "text": [
      "Iternation: 500, loss: -2.478944, mi_est: 0.277574\n",
      "Iternation: 1000, loss: -7.242619, mi_est: 4.810267\n",
      "Iternation: 1500, loss: -15.693867, mi_est: 11.277091\n",
      "Iternation: 2000, loss: -33.151073, mi_est: 22.570881\n",
      "Iternation: 2500, loss: -63.042793, mi_est: 43.145878\n",
      "Iternation: 3000, loss: -105.889053, mi_est: 76.125870\n",
      "Iternation: 3500, loss: -187.325714, mi_est: 123.772263\n",
      "Iternation: 4000, loss: -263.125763, mi_est: 187.883469\n",
      "Iternation: 4500, loss: -390.116272, mi_est: 269.159241\n",
      "Iternation: 5000, loss: -528.202515, mi_est: 368.507782\n",
      "Iternation: 5500, loss: -714.330566, mi_est: 486.221558\n",
      "Iternation: 6000, loss: -862.020264, mi_est: 623.776123\n",
      "Iternation: 6500, loss: -1077.723389, mi_est: 781.229187\n",
      "Iternation: 7000, loss: -1329.505127, mi_est: 960.833252\n",
      "Iternation: 7500, loss: -1706.739746, mi_est: 1162.364624\n",
      "Iternation: 8000, loss: -1936.928589, mi_est: 1386.876221\n",
      "Iternation: 8500, loss: -2165.068604, mi_est: 1637.784912\n",
      "Iternation: 9000, loss: -2457.723145, mi_est: 1911.921387\n",
      "Iternation: 9500, loss: -2931.707520, mi_est: 2214.260498\n",
      "Iternation: 10000, loss: -3554.143066, mi_est: 2543.780029\n",
      "Iternation: 10500, loss: -3948.967041, mi_est: 2902.239990\n",
      "Iternation: 11000, loss: -4410.229980, mi_est: 3290.104004\n",
      "Iternation: 11500, loss: -5005.731445, mi_est: 3709.034668\n",
      "Iternation: 12000, loss: -5598.724609, mi_est: 4158.339844\n",
      "Iternation: 12500, loss: -6152.657227, mi_est: 4642.241211\n",
      "Iternation: 13000, loss: -6781.442383, mi_est: 5157.234375\n",
      "Iternation: 13500, loss: -8338.091797, mi_est: 5711.075195\n",
      "Iternation: 14000, loss: -8997.080078, mi_est: 6297.270508\n",
      "Iternation: 14500, loss: -9515.451172, mi_est: 6921.065430\n",
      "Iternation: 15000, loss: -10155.250977, mi_est: 7578.846680\n",
      "Iternation: 15500, loss: -11082.880859, mi_est: 8276.539062\n",
      "Iternation: 16000, loss: -11677.746094, mi_est: 9015.009766\n",
      "Iternation: 16500, loss: -13830.634766, mi_est: 9789.792969\n",
      "Iternation: 17000, loss: -14763.009766, mi_est: 10610.673828\n",
      "Iternation: 17500, loss: -15526.896484, mi_est: 11472.640625\n",
      "Iternation: 18000, loss: -16737.218750, mi_est: 12378.470703\n",
      "Iternation: 18500, loss: -17799.691406, mi_est: 13333.594727\n",
      "Iternation: 19000, loss: -19204.449219, mi_est: 14330.654297\n",
      "Iternation: 19500, loss: -21600.199219, mi_est: 15373.685547\n",
      "Iternation: 20000, loss: -22185.529297, mi_est: 16463.433594\n"
     ]
    }
   ],
   "source": [
    "idx = torch.randperm(opt.sample_size)\n",
    "data = GaussianData(opt.sample_size**2, d=opt.d, rho=opt.rho)\n",
    "data2 = GaussianData(opt.sample_size*opt.batch_size, d=opt.d, rho=opt.rho)\n",
    "ref_Y = data.Y\n",
    "ref_X = X.repeat(opt.sample_size, 1)\n",
    "ref_data = torch.cat((ref_X, ref_Y), dim=1)\n",
    "\n",
    "# continue_train = True  # set to True to continue to train\n",
    "_iter = 0\n",
    "if continue_train:\n",
    "    for i in range(opt.n_epoch):\n",
    "        idx = torch.randperm(opt.sample_size)\n",
    "\n",
    "        for j in range(opt.n_iters_1epoch):\n",
    "            optimizer_D.zero_grad()\n",
    "            batch_idx = idx[j::opt.n_iters_1epoch]\n",
    "            batch_X = X[batch_idx]\n",
    "            batch_Y = Y[batch_idx]\n",
    "\n",
    "            batch_X_ref = X[batch_idx.unsqueeze(0).repeat(\n",
    "                opt.sample_size, 1)]\n",
    "            batch_Y_ref = data2.Y\n",
    "            batch_Y_ref = batch_Y_ref.reshape((-1,) + batch_X_ref.shape[1:])\n",
    "            # define the loss\n",
    "            L = -discriminator3(torch.cat((batch_X, batch_Y),dim=1)).mean()\n",
    "            L_ = discriminator3(torch.cat((batch_X_ref, batch_Y_ref), dim=-1)).reshape(\n",
    "                    (opt.sample_size, batch_idx.shape[0],\n",
    "                        -1)).logsumexp(1) - np.log(batch_Y_ref.shape[0])\n",
    "            loss = L + L_.mean()\n",
    "            loss.backward()\n",
    "\n",
    "            optimizer_D.step()\n",
    "            writer.add_scalar(\"Loss/train\",\n",
    "                                    loss.item(),\n",
    "                                    global_step=_iter)\n",
    "            writer.add_scalar(\"L\", L.item(), global_step=_iter)\n",
    "            writer.add_scalar(\"L_.mean()\",\n",
    "                                    L_.mean().item(),\n",
    "                                    global_step=_iter)\n",
    "            _iter += 1\n",
    "\n",
    "            with torch.no_grad():\n",
    "                mi_est = estimate_withGT(discriminator3, XY, ref_data)\n",
    "\n",
    "            mi_list.append(mi_est.item())\n",
    "            writer.add_scalar('mi_list', mi_est, _iter)\n",
    "            writer.add_scalar('loss', loss, _iter)\n",
    "            if _iter%500==0:\n",
    "                print(\"Iternation: %d, loss: %f, mi_est: %f\"%(_iter, loss.item(), mi_est))\n",
    "\n",
    "writer.add_graph(discriminator3, (XY,))"
   ]
  },
  {
   "cell_type": "code",
   "execution_count": null,
   "metadata": {},
   "outputs": [
    {
     "name": "stdout",
     "output_type": "stream",
     "text": [
      "Current results saved.\n"
     ]
    }
   ],
   "source": [
    "overwrite = True  # set to True to overwrite previously stored results\n",
    "if overwrite or not os.path.exists(chkpt_name):\n",
    "    model_state = discriminator3.state_dict()\n",
    "    torch.save({\n",
    "        'mi_list': mi_list,\n",
    "        'model_state': model_state\n",
    "    }, chkpt_name)\n",
    "    writer.close()\n",
    "    print('Current results saved.')"
   ]
  },
  {
   "cell_type": "code",
   "execution_count": null,
   "metadata": {},
   "outputs": [],
   "source": [
    "mi_copy3 = mi_list.copy()\n",
    "for k in range(1,len(mi_list)):\n",
    "    mi_copy3[k] = (1-ma_rate) * mi_copy3[k-1] + ma_rate * mi_copy3[k]"
   ]
  },
  {
   "cell_type": "code",
   "execution_count": null,
   "metadata": {},
   "outputs": [
    {
     "data": {
      "text/plain": [
       "<matplotlib.legend.Legend at 0x7f36ab634dd0>"
      ]
     },
     "execution_count": 26,
     "metadata": {},
     "output_type": "execute_result"
    },
    {
     "data": {
      "image/png": "[encoded data removed]",
      "text/plain": [
       "<Figure size 432x288 with 1 Axes>"
      ]
     },
     "metadata": {
      "needs_background": "light"
     },
     "output_type": "display_data"
    }
   ],
   "source": [
    "std = 0.183\n",
    "plt.plot(mi_copy3, label='MI estimate with reference distribution')\n",
    "plt.plot(mi_copy2, label='MI estimate with exclusion')\n",
    "plt.plot(mi_copy, label='MI estimate w/o exclusion')\n",
    "\n",
    "plt.axhline(Ground_truth+2*std,label='ground truth + 2 std',linestyle='--',color='lightblue')\n",
    "plt.axhline(Ground_truth-2*std,label='ground truth - 2 std',linestyle='--',color='lightblue')\n",
    "plt.axhline(Ground_truth,label='ground truth',linestyle='--',color='red')\n",
    "plt.axhline(np.log(opt.sample_size),label='log $n$',linestyle='--',color='grey')\n",
    "\n",
    "plt.xlabel('number of iterations')\n",
    "plt.ylabel('MI estimation')\n",
    "plt.title('Mi estimation with InfoNCE')\n",
    "plt.legend()\n",
    "# plt.savefig(f'results/InfoNCE_wo_datapoints_dim{opt.d}_ma{ma_rate}.pdf')"
   ]
  }
 ],
 "metadata": {
  "interpreter": {
   "hash": "bf1c2c84a0114d8bd094e4ab7df101a23bc9c1c89692267d72e7fbb9a26d536b"
  },
  "kernelspec": {
   "display_name": "Python 3.7.5 64-bit ('torch': conda)",
   "name": "python3"
  },
  "language_info": {
   "codemirror_mode": {
    "name": "ipython",
    "version": 3
   },
   "file_extension": ".py",
   "mimetype": "text/x-python",
   "name": "python",
   "nbconvert_exporter": "python",
   "pygments_lexer": "ipython3",
   "version": "3.7.7"
  },
  "toc": {
   "base_numbering": 1,
   "nav_menu": {},
   "number_sections": true,
   "sideBar": true,
   "skip_h1_title": false,
   "title_cell": "Table of Contents",
   "title_sidebar": "Contents",
   "toc_cell": false,
   "toc_position": {},
   "toc_section_display": true,
   "toc_window_display": false
  }
 },
 "nbformat": 4,
 "nbformat_minor": 4
}
