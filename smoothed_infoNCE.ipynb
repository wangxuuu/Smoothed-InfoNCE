{
 "cells": [
  {
   "cell_type": "markdown",
   "metadata": {},
   "source": [
    "## Apply label smoothing to infoNCE"
   ]
  },
  {
   "cell_type": "code",
   "execution_count": 1,
   "metadata": {},
   "outputs": [],
   "source": [
    "import torch\n",
    "import torch.nn.functional as F\n",
    "import os\n",
    "import numpy as np\n",
    "import matplotlib.pyplot as plt\n",
    "import argparse\n",
    "from src.utils import *\n",
    "from src.mi_estimators import *\n",
    "from torch.utils.tensorboard import SummaryWriter"
   ]
  },
  {
   "cell_type": "code",
   "execution_count": 2,
   "metadata": {},
   "outputs": [],
   "source": [
    "SEED = 0\n",
    "torch.manual_seed(SEED)\n",
    "torch.cuda.manual_seed(SEED)\n",
    "np.random.seed(SEED)\n",
    "\n",
    "cuda = True if torch.cuda.is_available() else False\n",
    "FloatTensor = torch.cuda.FloatTensor if cuda else torch.FloatTensor\n",
    "LongTensor = torch.cuda.LongTensor if cuda else torch.LongTensor\n",
    "torch.set_default_tensor_type(FloatTensor)"
   ]
  },
  {
   "cell_type": "code",
   "execution_count": 19,
   "metadata": {},
   "outputs": [],
   "source": [
    "parser = argparse.ArgumentParser()\n",
    "parser.add_argument(\"--rho\", type=float, default=0.9, help=\"coefficient of Gaussian\")\n",
    "parser.add_argument(\"--d\", type=int, default=20, help=\"dimension of X & Y\")\n",
    "parser.add_argument(\"--sample_size\", type=int, default=400, help=\"sample size\")\n",
    "parser.add_argument(\"--gamma\", type=float, default=1e-10, help=\"clipping parameter\")\n",
    "parser.add_argument(\"--b1\", type=float, default=0.5, help=\"adam: decay of first order momentum of gradient\")\n",
    "parser.add_argument(\"--b2\", type=float, default=0.999, help=\"adam: decay of first order momentum of gradient\")\n",
    "parser.add_argument(\"--batch_size\", type=int, default=40, help=\"size of the batches\")\n",
    "parser.add_argument(\"--lr\", type=float, default=1e-4, help=\"adam: learning rate\")\n",
    "parser.add_argument(\"--hidden_dim\", type=int, default=100, help=\"Hidden dimension\")\n",
    "parser.add_argument(\"--ma_rate\", type=float, default=0.1, help=\"move average rate\")\n",
    "parser.add_argument(\"--ma_ef\", type=float, default=1, help=\"move average ef\")\n",
    "parser.add_argument(\"--alpha\", type=float, default=1e-6, help=\"smooth parameter\")\n",
    "parser.add_argument(\"--reg\", type=int, default=1, help=\"if apply regularization\")\n",
    "parser.add_argument(\"--n_epoch\", type=int, default=2000, help=\"number of epochs of training\")\n",
    "parser.add_argument(\"--n_iters_1epoch\", type=int, default=10, help=\"number of epochs of training\")\n",
    "\n",
    "opt, unknown = parser.parse_known_args()\n",
    "opt.n_iters = opt.n_epoch * opt.n_iters_1epoch\n",
    "ma_rate = 0.01  # moving average rate"
   ]
  },
  {
   "cell_type": "code",
   "execution_count": 20,
   "metadata": {},
   "outputs": [],
   "source": [
    "continue_train = False  # set to True to continue to train\n",
    "load_available = True # set to False to prevent loading previous results\n",
    "overwrite = False  # set to True to overwrite previously stored results"
   ]
  },
  {
   "cell_type": "code",
   "execution_count": 21,
   "metadata": {},
   "outputs": [],
   "source": [
    "data = GaussianData(opt.sample_size, d=opt.d, rho=opt.rho)\n",
    "X, Y, XY, Ground_truth = data.X, data.Y, torch.cat((data.X, data.Y), dim=1), data.mutual_information()"
   ]
  },
  {
   "cell_type": "code",
   "execution_count": 22,
   "metadata": {},
   "outputs": [],
   "source": [
    "# Use n*(n-1) samples to train DT\n",
    "# x_tile = X.unsqueeze(0).repeat((opt.sample_size, 1, 1))\n",
    "# y_tile = Y.unsqueeze(1).repeat((1, opt.sample_size, 1))\n",
    "# train_data = torch.cat([x_tile, y_tile], dim = -1).reshape(-1, opt.d*2)\n",
    "# train_label = torch.eye(x_data.shape[0]).reshape(-1,1)\n",
    "\n",
    "# choose n marginal samples to train DT\n",
    "ref_X, ref_Y = shuffle_data(X, Y, opt.sample_size)\n",
    "ref_XY = torch.cat([ref_X, ref_Y], dim = 1)\n",
    "train_data = torch.cat([XY, ref_XY], dim = 0)\n",
    "train_label = torch.cat([torch.ones([opt.sample_size,1]), torch.zeros([opt.sample_size, 1])], dim=0)"
   ]
  },
  {
   "cell_type": "markdown",
   "metadata": {},
   "source": [
    "## Train Decision Tree"
   ]
  },
  {
   "cell_type": "code",
   "execution_count": 23,
   "metadata": {},
   "outputs": [
    {
     "data": {
      "text/plain": [
       "DecisionTreeClassifier(max_depth=20, min_samples_leaf=20)"
      ]
     },
     "execution_count": 23,
     "metadata": {},
     "output_type": "execute_result"
    }
   ],
   "source": [
    "from sklearn.tree import DecisionTreeClassifier\n",
    "from sklearn.ensemble import RandomForestClassifier\n",
    "\n",
    "clf = DecisionTreeClassifier(min_samples_leaf=20, max_depth=20)\n",
    "# clf = DecisionTreeClassifier(min_samples_leaf=400, max_depth=10)\n",
    "# clf = RandomForestClassifier(n_estimators=10, min_samples_split=5)\n",
    "clf.fit(train_data.cpu().numpy(),  train_label.cpu().numpy())"
   ]
  },
  {
   "cell_type": "code",
   "execution_count": 24,
   "metadata": {},
   "outputs": [],
   "source": [
    "path = clf.cost_complexity_pruning_path(train_data.cpu().numpy(), train_label.cpu().numpy())\n",
    "ccp_alphas, impurities = path.ccp_alphas, path.impurities\n",
    "\n",
    "# fig, ax = plt.subplots()\n",
    "# ax.plot(ccp_alphas[:-1], impurities[:-1], marker='o', drawstyle=\"steps-post\")\n",
    "# ax.set_xlabel(\"effective alpha\")\n",
    "# ax.set_ylabel(\"total impurity of leaves\")\n",
    "# ax.set_title(\"Total Impurity vs effective alpha for training set\")"
   ]
  },
  {
   "cell_type": "code",
   "execution_count": 25,
   "metadata": {},
   "outputs": [
    {
     "data": {
      "text/plain": [
       "DecisionTreeClassifier(ccp_alpha=0.0034608214185590236, max_depth=20,\n",
       "                       min_samples_leaf=20)"
      ]
     },
     "execution_count": 25,
     "metadata": {},
     "output_type": "execute_result"
    }
   ],
   "source": [
    "ccp = ccp_alphas[round(len(ccp_alphas)/2)]\n",
    "\n",
    "# clf = DecisionTreeClassifier(min_samples_leaf=5, max_depth=8)\n",
    "clf = DecisionTreeClassifier(min_samples_leaf=20, max_depth=20, ccp_alpha=ccp)\n",
    "# clf = RandomForestClassifier(n_estimators=10, min_samples_split=5)\n",
    "clf.fit(train_data.cpu().numpy(),  train_label.cpu().numpy())"
   ]
  },
  {
   "cell_type": "code",
   "execution_count": 26,
   "metadata": {},
   "outputs": [
    {
     "data": {
      "text/plain": [
       "0.775"
      ]
     },
     "execution_count": 26,
     "metadata": {},
     "output_type": "execute_result"
    }
   ],
   "source": [
    "clf.score(train_data.cpu().numpy(),  train_label.cpu().numpy())"
   ]
  },
  {
   "cell_type": "code",
   "execution_count": 27,
   "metadata": {},
   "outputs": [],
   "source": [
    "# construct the data needs to train and predict the label\n",
    "x_tile = X.unsqueeze(0).repeat((opt.sample_size, 1, 1))\n",
    "y_tile = Y.unsqueeze(1).repeat((1, opt.sample_size, 1))\n",
    "data_matrix = torch.cat([x_tile, y_tile], dim = -1)\n",
    "DT_prob_matrix = torch.Tensor(clf.predict_proba(data_matrix.reshape(-1, opt.d*2).cpu().numpy())[:,1].reshape(opt.sample_size, opt.sample_size))"
   ]
  },
  {
   "cell_type": "code",
   "execution_count": 28,
   "metadata": {},
   "outputs": [
    {
     "data": {
      "text/plain": [
       "1.0705587350896364"
      ]
     },
     "execution_count": 28,
     "metadata": {},
     "output_type": "execute_result"
    }
   ],
   "source": [
    "gamma = 1e-30\n",
    "DT_prob = clf.predict_proba(XY.cpu().numpy())[:,1]\n",
    "\n",
    "MI_est = np.log(DT_prob / (1 - DT_prob).clip(min=gamma, max=1 - gamma)).mean()\n",
    "# MI_est = np.log(DT_prob / (1 - DT_prob)).mean()\n",
    "\n",
    "MI_est"
   ]
  },
  {
   "cell_type": "code",
   "execution_count": 29,
   "metadata": {},
   "outputs": [],
   "source": [
    "# N = 100\n",
    "# min_, max_ = XY.min().cpu().item(),XY.max().cpu().item()\n",
    "# xx = np.linspace(min_, max_, N)\n",
    "# x1, x2 = np.meshgrid(xx,xx)\n",
    "# pred_ce = model(torch.Tensor([x1.ravel(), x2.ravel()]).T).reshape(x1.shape).detach()"
   ]
  },
  {
   "cell_type": "code",
   "execution_count": 30,
   "metadata": {},
   "outputs": [],
   "source": [
    "# # predict the point\n",
    "# Z = clf.predict(np.c_[x1.ravel(), x2.ravel()])\n",
    "# Z = Z.reshape(x1.shape)\n",
    "\n",
    "\n",
    "# plt.figure()\n",
    "# # DRAW DECISION BOUNDARY\n",
    "# plt.contourf(x1, x2, Z)\n",
    "# plt.scatter(X[:,0].cpu().numpy(),Y[:,0].cpu().numpy(),label=\"data\",marker=\"+\",color=\"steelblue\")\n",
    "# plt.scatter(ref_X[:,0].cpu().numpy(),ref_Y[:,0].cpu().numpy(),label=\"ref data\",marker=\"+\",color=\"red\")\n",
    "# plt.xlabel('X')\n",
    "# plt.ylabel('Y')\n",
    "# plt.xlim(min_, max_)\n",
    "# plt.ylim(min_, max_)\n",
    "# plt.legend(loc='best')\n",
    "# plt.title('DT decision boundary')\n",
    "# # plt.savefig(f'./results/RF_decision_boundary_{arg.density}_dim{arg.d}_rho{arg.rho}.pdf')\n",
    "# plt.show()"
   ]
  },
  {
   "cell_type": "code",
   "execution_count": 31,
   "metadata": {},
   "outputs": [],
   "source": [
    "name = f'./results/Smoothed_InfoNCE_dim{opt.d}_reg{opt.reg}_alpha{opt.alpha}'   # filename\n",
    "chkpt_name = name+'.pt'      # checkpoint\n",
    "\n",
    "from datetime import datetime\n",
    "TIMESTAMP = \"{0:%Y-%m-%dT%H-%M-%S/}\".format(datetime.now())\n",
    "writer = SummaryWriter(f'./results/log/Smoothed_InfoNCE_dim{opt.d}_reg{opt.reg}_alpha{opt.alpha}/{TIMESTAMP}')\n",
    "discriminator = Net(input_size=opt.d*2, hidden_layers=2, hidden_size=100)\n",
    "\n",
    "# move NN model to GPU if GPU is available\n",
    "if cuda:\n",
    "    discriminator.cuda()\n",
    "\n",
    "# Adam optimizer\n",
    "optimizer_D = torch.optim.Adam(discriminator.parameters(), lr=opt.lr, betas=(opt.b1, opt.b2))"
   ]
  },
  {
   "cell_type": "code",
   "execution_count": 32,
   "metadata": {},
   "outputs": [
    {
     "name": "stdout",
     "output_type": "stream",
     "text": [
      "Previous results loaded.\n"
     ]
    }
   ],
   "source": [
    "# load_available = True # set to False to prevent loading previous results\n",
    "if load_available and os.path.exists(chkpt_name):\n",
    "    checkpoint = torch.load(\n",
    "        chkpt_name, map_location='cuda' if torch.cuda.is_available() else 'cpu')\n",
    "    mi_list = checkpoint['mi_list']\n",
    "    model_state = checkpoint['model_state']\n",
    "    discriminator.load_state_dict(model_state)\n",
    "    print('Previous results loaded.')\n",
    "else:\n",
    "    mi_list = [] # storing the mi estimation of each iteration"
   ]
  },
  {
   "cell_type": "code",
   "execution_count": 33,
   "metadata": {},
   "outputs": [],
   "source": [
    "# def smooth_loss(net, model, x_data, y_data, alpha, writer=None, epoch=None, reg=False):\n",
    "#     # alpha: smoothing factor\n",
    "#     # net: torch.nn.Module\n",
    "#     # model: sklearn.tree.DecisionTreeClassifier\n",
    "#     # return: loss of smoothed infoNCE\n",
    "\n",
    "#     # first term: \n",
    "#     # E[f(X,Y)*p(C=1|X,Y)] + E[f(X',Y')*p(C=1|X',Y')]\n",
    "#     joint_samples = torch.cat((x_data, y_data), dim=1)\n",
    "#     x_tile = x_data.unsqueeze(0).repeat((x_data.shape[0], 1, 1))\n",
    "#     y_tile = y_data.unsqueeze(1).repeat((1, x_data.shape[0], 1))\n",
    "#     train_data = torch.cat([x_tile, y_tile], dim = -1).reshape(-1, x_data.shape[1]+y_data.shape[1])\n",
    "#     train_label = torch.eye(x_data.shape[0]).reshape(-1,)\n",
    "#     # construct the marginal samples\n",
    "#     marginal_samples = train_data[train_label==0,:]\n",
    "#     prob_DT = model.predict_proba(train_data.cpu().numpy())[:,1].reshape(-1,1)\n",
    "#     # smooth the hard labels with the probability of DT\n",
    "#     hard_label = train_label.reshape(-1,1).cpu().numpy()\n",
    "#     prob_DT = alpha*prob_DT + hard_label*(1-alpha)\n",
    "#     pos_prob_DT = torch.Tensor(prob_DT)[train_label==1,:]\n",
    "#     neg_prob_DT = torch.Tensor(prob_DT)[train_label==0,:]\n",
    "\n",
    "#     a = (net(joint_samples)*pos_prob_DT).mean() + (net(marginal_samples)*neg_prob_DT).mean()\n",
    "\n",
    "#     # second term:\n",
    "#     # E[log (E[e^f(X,Y')*p(C=0|X,Y')*P(C=0)|X] + E[e^f(X,Y)*p(C=0|X,Y)*p(C=1)|X]) - log p(C=0|X) ] \n",
    "\n",
    "#     # b_list contains log (E[e^f(X,Y')*p(C=0|X,Y')*P(C=0)|X] + E[e^f(X,Y)*p(C=0|X,Y)*p(C=1)|X]) - log p(C=0|X) for each x\n",
    "#     b_list = []\n",
    "#     for i in range(x_data.shape[0]):\n",
    "#         x_i = x_data[i,:]\n",
    "#         batch_label = torch.zeros(x_data.shape[0])\n",
    "#         batch_label[i] = 1\n",
    "#         x_tile = x_i.unsqueeze(0).repeat((x_data.shape[0], 1))\n",
    "#         batch_xy = torch.cat([x_tile, y_data], dim = 1)\n",
    "#         # constuct X_tilde Y_tilde by repeating (x_i,y_i) n-1 times and concatenate with all cross samples,\n",
    "#         # therefore there are 2*(n-1) samples in total for a given x_i\n",
    "#         batch_xy_ = torch.cat((batch_xy[batch_label==1,:].repeat((batch_xy.shape[0]-1, 1)), batch_xy[batch_label==0,:]), dim=0)\n",
    "\n",
    "#         # P(C=0|x) = E[P(C=0|x,Y')]\n",
    "#         # pcx is the estimate of p(C=0|x)\n",
    "#         prob_ = model.predict_proba(batch_xy_.cpu().numpy())[:,0].reshape(-1,1)\n",
    "#         # hard_label_ here is the hard label of probability that p(C=0|X,Y)\n",
    "#         hard_label_ = np.concatenate((np.zeros(x_data.shape[0]-1), np.ones(x_data.shape[0]-1))).reshape(-1,1)\n",
    "#         # pcx = (alpha*prob_ + hard_label_*(1-alpha)).mean()\n",
    "#         pcx = 1\n",
    "\n",
    "#         prob_xy_ = alpha*prob_ + hard_label_*(1-alpha)\n",
    "#         b_list.append(torch.logsumexp(net(batch_xy_)+torch.log(torch.Tensor(prob_xy_)), dim=0) - np.log(batch_xy_.shape[0]) - np.log(pcx))\n",
    "\n",
    "#     if writer is not None:\n",
    "#         writer.add_scalar('a', a, epoch)\n",
    "#         writer.add_scalar('b', torch.mean(torch.stack(b_list)), epoch)\n",
    "        \n",
    "#     if reg:\n",
    "#         return a - sum(b_list)/len(b_list) - (sum(b_list)/len(b_list))**2\n",
    "#     else:\n",
    "#         return a - sum(b_list)/len(b_list)\n",
    "\n",
    "def smooth_loss(net, prob_matrix, x_data, y_data, alpha, writer=None, epoch=None, reg=False):\n",
    "    # alpha: smoothing factor\n",
    "    # net: torch.nn.Module\n",
    "    # prob_matrix: the probability estimate matrix of given batch data. size: batchsize * batchsize\n",
    "    # return: loss of smoothed infoNCE\n",
    "\n",
    "    # first term:\n",
    "    # E[f(X,Y)*p(C=1|X,Y)] + E[f(X',Y')*p(C=1|X',Y')]\n",
    "    joint_samples = torch.cat((x_data, y_data), dim=1)\n",
    "    x_tile = x_data.unsqueeze(0).repeat((x_data.shape[0], 1, 1))\n",
    "    y_tile = y_data.unsqueeze(1).repeat((1, x_data.shape[0], 1))\n",
    "    train_data = torch.cat([x_tile, y_tile], dim = -1).reshape(-1, x_data.shape[1]+y_data.shape[1])\n",
    "    train_label = torch.eye(x_data.shape[0]).reshape(-1,)\n",
    "    # construct the marginal samples\n",
    "    marginal_samples = train_data[train_label==0,:]\n",
    "    prob_DT = prob_matrix.reshape(-1, 1)\n",
    "    # smooth the hard labels with the probability of DT\n",
    "    hard_label = train_label.reshape(-1,1)\n",
    "    prob_DT = alpha*prob_DT + hard_label*(1-alpha)\n",
    "    pos_prob_DT = prob_DT[train_label==1,:]\n",
    "    neg_prob_DT = prob_DT[train_label==0,:]\n",
    "\n",
    "    a = (net(joint_samples)*pos_prob_DT).mean() + (net(marginal_samples)*neg_prob_DT).mean()\n",
    "\n",
    "    # second term:\n",
    "    # E[log (E[e^f(X,Y')*p(C=0|X,Y')*P(C=0)|X] + E[e^f(X,Y)*p(C=0|X,Y)*p(C=1)|X]) - log p(C=0|X) ]\n",
    "\n",
    "    # b_list contains log (E[e^f(X,Y')*p(C=0|X,Y')*P(C=0)|X] + E[e^f(X,Y)*p(C=0|X,Y)*p(C=1)|X]) - log p(C=0|X) for each x\n",
    "    b_list = []\n",
    "    mask = torch.eye(x_data.shape[0])\n",
    "    for i in range(x_data.shape[0]):\n",
    "        x_i = x_data[i,:]\n",
    "        batch_label = torch.zeros(x_data.shape[0])\n",
    "        batch_label[i] = 1\n",
    "        x_tile = x_i.unsqueeze(0).repeat((x_data.shape[0], 1))\n",
    "        batch_xy = torch.cat([x_tile, y_data], dim = 1)\n",
    "        # constuct X_tilde Y_tilde by repeating (x_i,y_i) n-1 times and concatenate with all cross samples,\n",
    "        # therefore there are 2*(n-1) samples in total for a given x_i\n",
    "        batch_xy_ = torch.cat((batch_xy[batch_label==1,:].repeat((batch_xy.shape[0]-1, 1)), batch_xy[mask[i]==0,:]), dim=0)\n",
    "\n",
    "        # P(C=0|x) = E[P(C=0|x,Y')]\n",
    "        # pcx is the estimate of p(C=0|x)\n",
    "        prob_ = torch.cat((prob_matrix[i, i].repeat(batch_xy.shape[0]-1), prob_matrix[i,mask[i]==0]), dim=0)\n",
    "        # hard_label_ here is the hard label of probability that p(C=0|X,Y)\n",
    "        hard_label_ = torch.cat((torch.zeros(x_data.shape[0]-1), torch.ones(x_data.shape[0]-1))).reshape(-1,1)\n",
    "        # pcx = (alpha*prob_.reshape(-1,1) + hard_label_*(1-alpha)).mean()\n",
    "        prob_xy_ = alpha*prob_.reshape(-1,1) + hard_label_*(1-alpha)\n",
    "        # b_list.append(torch.logsumexp(net(batch_xy_)+torch.log(prob_xy_), dim=0) - np.log(batch_xy_.shape[0]) - torch.log(pcx))\n",
    "        b_list.append(torch.logsumexp(net(batch_xy_)+torch.log(prob_xy_), dim=0) - np.log(batch_xy_.shape[0]))\n",
    "\n",
    "    if writer is not None:\n",
    "        writer.add_scalar('a', a, epoch)\n",
    "        writer.add_scalar('b', torch.mean(torch.stack(b_list)), epoch)\n",
    "\n",
    "    if reg:\n",
    "        return a - sum(b_list)/len(b_list) - (sum(b_list)/len(b_list))**2\n",
    "    else:\n",
    "        return a - sum(b_list)/len(b_list)"
   ]
  },
  {
   "cell_type": "code",
   "execution_count": 34,
   "metadata": {},
   "outputs": [],
   "source": [
    "# continue_train = False  # set to True to continue to train\n",
    "if continue_train:\n",
    "    _iter = 0\n",
    "    for i in range(opt.n_epoch):\n",
    "        # idx = torch.randperm(opt.sample_size)\n",
    "        idx = np.random.permutation(opt.sample_size)\n",
    "        # idx_X, idx_Y = randerange(opt.sample_size)\n",
    "        for j in range(opt.n_iters_1epoch):\n",
    "            batch_idx = idx[j::opt.n_iters_1epoch]\n",
    "            batch_X = X[batch_idx]\n",
    "            batch_Y = Y[batch_idx]\n",
    "\n",
    "            prob_batch = DT_prob_matrix[np.ix_(batch_idx, batch_idx)]\n",
    "\n",
    "            optimizer_D.zero_grad()\n",
    "            loss = - smooth_loss(discriminator, prob_batch, batch_X, batch_Y, alpha=opt.alpha, reg=opt.reg) # negative infonce_bound as the loss\n",
    "            loss.backward()\n",
    "\n",
    "            optimizer_D.step()\n",
    "            with torch.no_grad():\n",
    "                # mi_est = smooth_loss(discriminator, clf, X, Y, alpha=0.2)\n",
    "                mi_est = smooth_loss(discriminator, DT_prob_matrix, X, Y, alpha=opt.alpha)\n",
    "            mi_list.append(mi_est.item())\n",
    "\n",
    "            writer.add_scalar('mi_list', mi_est.item(), _iter)\n",
    "            writer.add_scalar('loss', loss, _iter)\n",
    "        _iter += 1\n",
    "        if _iter%200==0:\n",
    "            print(\"Iternation: %d, loss: %f, mi_est: %f\"%(_iter, loss.item(), mi_est))\n",
    "            fig = plot_fig(discriminator, X, Y, opt.d if opt.d<6 else 6)\n",
    "            writer.add_figure('heatmap', fig, _iter)\n",
    "            writer.add_histogram('first layer', discriminator.fc[0].weight.data, _iter)\n",
    "            writer.add_histogram('second layer', discriminator.fc[1].weight.data, _iter)\n",
    "            writer.add_histogram('third layer', discriminator.fc[2].weight.data, _iter)\n",
    "\n",
    "            writer.add_histogram('first layer (grad)', discriminator.fc[0].weight.grad.data, _iter)\n",
    "            writer.add_histogram('second layer (grad)', discriminator.fc[1].weight.grad.data, _iter)\n",
    "            writer.add_histogram('third layer (grad)', discriminator.fc[2].weight.grad.data, _iter)\n",
    "\n",
    "writer.add_graph(discriminator, (XY,))\n",
    "writer.close()"
   ]
  },
  {
   "cell_type": "code",
   "execution_count": 35,
   "metadata": {},
   "outputs": [
    {
     "name": "stdout",
     "output_type": "stream",
     "text": [
      "Current results saved.\n"
     ]
    }
   ],
   "source": [
    "overwrite = True\n",
    "if overwrite or not os.path.exists(chkpt_name):\n",
    "    model_state = discriminator.state_dict()\n",
    "    torch.save({\n",
    "        'mi_list': mi_list,\n",
    "        'model_state': model_state\n",
    "    }, chkpt_name)\n",
    "    writer.close()\n",
    "    print('Current results saved.')"
   ]
  },
  {
   "cell_type": "code",
   "execution_count": 36,
   "metadata": {},
   "outputs": [],
   "source": [
    "mi_copy = mi_list.copy()\n",
    "for k in range(1,len(mi_list)):\n",
    "    mi_copy[k] = (1-ma_rate) * mi_copy[k-1] + ma_rate * mi_copy[k]"
   ]
  },
  {
   "cell_type": "code",
   "execution_count": 37,
   "metadata": {},
   "outputs": [
    {
     "data": {
      "text/plain": [
       "<matplotlib.legend.Legend at 0x7f1db80be190>"
      ]
     },
     "execution_count": 37,
     "metadata": {},
     "output_type": "execute_result"
    },
    {
     "data": {
      "image/png": "[encoded data removed]",
      "text/plain": [
       "<Figure size 432x288 with 1 Axes>"
      ]
     },
     "metadata": {
      "needs_background": "light"
     },
     "output_type": "display_data"
    }
   ],
   "source": [
    "plt.plot(mi_copy, label='Smoothed InfoNCE')\n",
    "\n",
    "plt.axhline(Ground_truth,label='ground truth',linestyle='--',color='red')\n",
    "plt.axhline(np.log(opt.sample_size),label='log $n$',linestyle='--',color='grey')\n",
    "plt.xlabel('number of iterations')\n",
    "plt.ylabel('MI estimation')\n",
    "plt.title('MI estimation with Smoothed InfoNCE')\n",
    "plt.legend()\n",
    "# plt.savefig(f'results/InfoNCE_wo_datapoints_dim{opt.d}_ma{ma_rate}.pdf')"
   ]
  },
  {
   "cell_type": "code",
   "execution_count": null,
   "metadata": {},
   "outputs": [],
   "source": []
  }
 ],
 "metadata": {
  "interpreter": {
   "hash": "bf1c2c84a0114d8bd094e4ab7df101a23bc9c1c89692267d72e7fbb9a26d536b"
  },
  "kernelspec": {
   "display_name": "Python 3.7.5 64-bit ('torch': conda)",
   "name": "python3"
  },
  "language_info": {
   "codemirror_mode": {
    "name": "ipython",
    "version": 3
   },
   "file_extension": ".py",
   "mimetype": "text/x-python",
   "name": "python",
   "nbconvert_exporter": "python",
   "pygments_lexer": "ipython3",
   "version": "3.7.7"
  },
  "orig_nbformat": 4
 },
 "nbformat": 4,
 "nbformat_minor": 2
}
