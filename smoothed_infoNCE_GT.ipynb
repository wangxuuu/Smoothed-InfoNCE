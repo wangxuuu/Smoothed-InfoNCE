{
 "cells": [
  {
   "cell_type": "markdown",
   "metadata": {},
   "source": [
    "## Apply label smoothing (with Ground Truth) to infoNCE "
   ]
  },
  {
   "cell_type": "code",
   "execution_count": 1,
   "metadata": {},
   "outputs": [],
   "source": [
    "import torch\n",
    "import torch.nn.functional as F\n",
    "import os\n",
    "from src.utils import *\n",
    "import numpy as np\n",
    "import matplotlib.pyplot as plt\n",
    "import argparse\n",
    "# from src.gaussian import Gaussian\n",
    "# from src.mix_gaussian import MixedGaussian\n",
    "from src.mi_estimators import *\n",
    "from torch.utils.tensorboard import SummaryWriter\n",
    "\n",
    "cuda = True if torch.cuda.is_available() else False\n",
    "FloatTensor = torch.cuda.FloatTensor if cuda else torch.FloatTensor\n",
    "LongTensor = torch.cuda.LongTensor if cuda else torch.LongTensor"
   ]
  },
  {
   "cell_type": "code",
   "execution_count": 2,
   "metadata": {},
   "outputs": [],
   "source": [
    "SEED = 0\n",
    "torch.manual_seed(SEED)\n",
    "torch.cuda.manual_seed(SEED)\n",
    "np.random.seed(SEED)\n",
    "\n",
    "cuda = True if torch.cuda.is_available() else False\n",
    "FloatTensor = torch.cuda.FloatTensor if cuda else torch.FloatTensor\n",
    "LongTensor = torch.cuda.LongTensor if cuda else torch.LongTensor\n",
    "torch.set_default_tensor_type(FloatTensor)"
   ]
  },
  {
   "cell_type": "code",
   "execution_count": 3,
   "metadata": {},
   "outputs": [],
   "source": [
    "parser = argparse.ArgumentParser()\n",
    "parser.add_argument(\"--rho\", type=float, default=0.9, help=\"coefficient of Gaussian\")\n",
    "parser.add_argument(\"--d\", type=int, default=20, help=\"dimension of X & Y\")\n",
    "parser.add_argument(\"--sample_size\", type=int, default=400, help=\"sample size\")\n",
    "parser.add_argument(\"--gamma\", type=float, default=1e-20, help=\"clipping parameter\")\n",
    "parser.add_argument(\"--b1\", type=float, default=0.5, help=\"adam: decay of first order momentum of gradient\")\n",
    "parser.add_argument(\"--b2\", type=float, default=0.999, help=\"adam: decay of first order momentum of gradient\")\n",
    "parser.add_argument(\"--batch_size\", type=int, default=40, help=\"size of the batches\")\n",
    "parser.add_argument(\"--lr\", type=float, default=1e-4, help=\"adam: learning rate\")\n",
    "parser.add_argument(\"--hidden_dim\", type=int, default=100, help=\"Hidden dimension\")\n",
    "parser.add_argument(\"--ma_rate\", type=float, default=0.1, help=\"move average rate\")\n",
    "parser.add_argument(\"--ma_ef\", type=float, default=1, help=\"move average ef\")\n",
    "parser.add_argument(\"--alpha\", type=float, default=1e-6, help=\"smooth parameter\")\n",
    "\n",
    "parser.add_argument(\"--reg\", type=int, default=1, help=\"if apply regularization\")\n",
    "\n",
    "parser.add_argument(\"--n_epoch\", type=int, default=2000, help=\"number of epochs of training\")\n",
    "parser.add_argument(\"--n_iters_1epoch\", type=int, default=10, help=\"number of epochs of training\")\n",
    "\n",
    "opt, unknown = parser.parse_known_args()\n",
    "opt.n_iters = opt.n_epoch * opt.n_iters_1epoch\n",
    "ma_rate = 0.01  # moving average rate"
   ]
  },
  {
   "cell_type": "code",
   "execution_count": 4,
   "metadata": {},
   "outputs": [],
   "source": [
    "continue_train = True  # set to True to continue to train\n",
    "load_available = False # set to False to prevent loading previous results\n",
    "overwrite = True  # set to True to overwrite previously stored results"
   ]
  },
  {
   "cell_type": "code",
   "execution_count": 5,
   "metadata": {},
   "outputs": [],
   "source": [
    "data = GaussianData(opt.sample_size, d=opt.d, rho=opt.rho)\n",
    "X, Y, XY, Ground_truth = data.X, data.Y, torch.cat((data.X, data.Y), dim=1), data.mutual_information()"
   ]
  },
  {
   "cell_type": "code",
   "execution_count": 6,
   "metadata": {},
   "outputs": [],
   "source": [
    "def GT(x, y):\n",
    "    mi = -0.5 * np.log(1 - opt.rho**2) * opt.d\n",
    "    c = opt.rho / (2 * (1 - opt.rho**2))\n",
    "    return mi + c * (2 * x * y - opt.rho *(x**2 + y**2)).sum(dim=1)\n",
    "\n",
    "\n",
    "def GT_prob(x, y):\n",
    "    \"\"\"\n",
    "    return the probability P(1|X,Y)\n",
    "    \"\"\"\n",
    "    return GT(x, y).exp() / (1+ GT(x, y).exp())"
   ]
  },
  {
   "cell_type": "code",
   "execution_count": 7,
   "metadata": {},
   "outputs": [],
   "source": [
    "name = f'./results/Smoothed_InfoNCE_GT_dim{opt.d}_sample{opt.sample_size}'   # filename\n",
    "chkpt_name = name+'.pt'      # checkpoint\n",
    "\n",
    "from datetime import datetime\n",
    "TIMESTAMP = \"{0:%Y-%m-%dT%H-%M-%S/}\".format(datetime.now())\n",
    "writer = SummaryWriter(f'./results/log/Smoothed_InfoNCE_GT_dim{opt.d}_reg{opt.reg}_sample{opt.sample_size}/{TIMESTAMP}')\n",
    "\n",
    "discriminator = Net(input_size=opt.d*2, hidden_layers=6, hidden_size=100)"
   ]
  },
  {
   "cell_type": "code",
   "execution_count": 8,
   "metadata": {},
   "outputs": [],
   "source": [
    "if cuda:\n",
    "    discriminator.cuda()\n",
    "\n",
    "# Adam optimizer\n",
    "optimizer_D = torch.optim.Adam(discriminator.parameters(), lr=opt.lr, betas=(opt.b1, opt.b2))"
   ]
  },
  {
   "cell_type": "code",
   "execution_count": 9,
   "metadata": {},
   "outputs": [],
   "source": [
    "if load_available and os.path.exists(chkpt_name):\n",
    "    checkpoint = torch.load(\n",
    "        chkpt_name, map_location='cuda' if torch.cuda.is_available() else 'cpu')\n",
    "    mi_list = checkpoint['mi_list']\n",
    "    model_state = checkpoint['model_state']\n",
    "    discriminator.load_state_dict(model_state)\n",
    "    print('Previous results loaded.')\n",
    "else:\n",
    "    mi_list = [] # storing the mi estimation of each iteration"
   ]
  },
  {
   "cell_type": "code",
   "execution_count": 10,
   "metadata": {},
   "outputs": [],
   "source": [
    "def smooth_loss(net, model, x_data, y_data, writer=None, epoch=None, reg=False):\n",
    "    # alpha: float p(C=0)/p(C=1)\n",
    "    # net: torch.nn.Module\n",
    "    # model: sklearn.tree.DecisionTreeClassifier\n",
    "    # return: loss of smoothed infoNCE\n",
    "    # first term:\n",
    "    # E[f(X,Y)*p(C=1|X,Y)] + alpha*E[f(X',Y')*p(C=1|X',Y')]\n",
    "    joint_samples = torch.cat((x_data, y_data), dim=1)\n",
    "    x_tile = x_data.unsqueeze(0).repeat((x_data.shape[0], 1, 1))\n",
    "    y_tile = y_data.unsqueeze(1).repeat((1, x_data.shape[0], 1))\n",
    "    train_data = torch.cat([x_tile, y_tile], dim = -1).reshape(-1, x_data.shape[1]+y_data.shape[1])\n",
    "    train_label = torch.eye(x_data.shape[0]).reshape(-1,)\n",
    "\n",
    "    marginal_samples = train_data[train_label==0,:]\n",
    "    prob_DT = model(train_data[:,:opt.d], train_data[:,opt.d:]).reshape(-1,1)\n",
    "    pos_prob_DT = torch.Tensor(prob_DT)[train_label==1,:]\n",
    "    neg_prob_DT = torch.Tensor(prob_DT)[train_label==0,:]\n",
    "\n",
    "    a = (net(joint_samples)*pos_prob_DT).mean() + (net(marginal_samples)*neg_prob_DT).mean()\n",
    "    # second term:\n",
    "    # E[log (E[e^f(X,Y')*p(C=0|X,Y')/p(C=0|X)*P(C=0)|X] + E[e^f(X,Y)*p(C=0|X,Y)/p(C=0|X)*p(C=1)|X])]\n",
    "\n",
    "    # b_list contains log (E[e^f(X,Y')*p(C=0|X,Y')/p(C=0|X)*P(C=0)|X] + E[e^f(X,Y)*p(C=0|X,Y)/p(C=0|X)*p(C=1)|X]) for each x\n",
    "    b_list = []\n",
    "    for i in range(x_data.shape[0]):\n",
    "        x_i = x_data[i,:]\n",
    "        y_i = y_data[i,:]\n",
    "        batch_label = torch.zeros(x_data.shape[0])\n",
    "        batch_label[i] = 1\n",
    "        x_tile = x_i.unsqueeze(0).repeat((x_data.shape[0], 1))\n",
    "        batch_xy = torch.cat([x_tile, y_data], dim = 1)\n",
    "\n",
    "        batch_xy_ = torch.cat((batch_xy[batch_label==1].repeat((batch_xy.shape[0]-1, 1)), batch_xy[batch_label==0]), dim=0)\n",
    "\n",
    "        # P(C=0|x) = E[P(C=0|x,Y')]\n",
    "        # pcx = (1-model(batch_xy_[:,:opt.d],batch_xy_[:,opt.d:])).mean()\n",
    "        # b_list.append(torch.logsumexp(net(batch_xy_)+torch.log((1-model(batch_xy_[:,:opt.d],batch_xy_[:,opt.d:])).reshape(-1,1)), dim=0) - np.log(batch_xy_.shape[0]) - torch.log(pcx))\n",
    "        b_list.append(torch.logsumexp(net(batch_xy_)+torch.log((1-model(batch_xy_[:,:opt.d],batch_xy_[:,opt.d:])).reshape(-1,1)), dim=0) - np.log(batch_xy_.shape[0]))\n",
    "    if writer is not None:\n",
    "        writer.add_scalar('a', a, epoch)\n",
    "        writer.add_scalar('b', torch.mean(torch.stack(b_list)), epoch)\n",
    "\n",
    "    if reg:\n",
    "        return a - sum(b_list)/len(b_list) - (sum(b_list)/len(b_list))**2\n",
    "    else:\n",
    "        return a - sum(b_list)/len(b_list)"
   ]
  },
  {
   "cell_type": "code",
   "execution_count": 11,
   "metadata": {},
   "outputs": [
    {
     "name": "stdout",
     "output_type": "stream",
     "text": [
      "Iternation: 200, loss: -13.529326, mi_est: 11.926604\n",
      "Iternation: 400, loss: -17.464544, mi_est: 18.840288\n",
      "Iternation: 600, loss: -22.567928, mi_est: 21.951859\n",
      "Iternation: 800, loss: -29.177849, mi_est: 24.278214\n",
      "Iternation: 1000, loss: -18.303478, mi_est: 25.740585\n",
      "Iternation: 1200, loss: -32.475143, mi_est: 27.426073\n",
      "Iternation: 1400, loss: -27.196926, mi_est: 28.847931\n",
      "Iternation: 1600, loss: -42.429771, mi_est: 29.712404\n",
      "Iternation: 1800, loss: -38.180401, mi_est: 30.809381\n",
      "Iternation: 2000, loss: -22.207441, mi_est: 32.346466\n"
     ]
    }
   ],
   "source": [
    "# continue_train = False  # set to True to continue to train\n",
    "if continue_train:\n",
    "    _iter = 0\n",
    "    for i in range(opt.n_epoch):\n",
    "        idx = torch.randperm(opt.sample_size)\n",
    "        idx_X, idx_Y = randerange(opt.sample_size)\n",
    "        for j in range(opt.n_iters_1epoch):\n",
    "            batch_idx = idx[j::opt.n_iters_1epoch]\n",
    "            batch_X = X[batch_idx]\n",
    "            batch_Y = Y[batch_idx]\n",
    " \n",
    "            optimizer_D.zero_grad()\n",
    "            loss = - smooth_loss(discriminator, GT_prob, batch_X, batch_Y, reg=opt.reg) # negative infonce_bound as the loss\n",
    "            # print(loss)\n",
    "            loss.backward()\n",
    "\n",
    "            optimizer_D.step()\n",
    "\n",
    "\n",
    "        with torch.no_grad():\n",
    "            mi_est = smooth_loss(discriminator, GT_prob, X, Y, writer, _iter)\n",
    "        mi_list.append(mi_est.item())\n",
    "        writer.add_scalar('mi_list', mi_est.item(), _iter)\n",
    "        writer.add_scalar('loss', loss, _iter)\n",
    "        _iter += 1\n",
    "        if _iter%200==0:\n",
    "            print(\"Iternation: %d, loss: %f, mi_est: %f\"%(_iter, loss.item(), mi_est))\n",
    "            fig = plot_fig(discriminator, X, Y, opt.d)\n",
    "            writer.add_figure('heatmap', fig, _iter)\n",
    "            writer.add_histogram('first layer', discriminator.fc[0].weight.data, _iter)\n",
    "            writer.add_histogram('second layer', discriminator.fc[1].weight.data, _iter)\n",
    "            writer.add_histogram('third layer', discriminator.fc[2].weight.data, _iter)\n",
    "\n",
    "            writer.add_histogram('first layer (grad)', discriminator.fc[0].weight.grad.data, _iter)\n",
    "            writer.add_histogram('second layer (grad)', discriminator.fc[1].weight.grad.data, _iter)\n",
    "            writer.add_histogram('third layer (grad)', discriminator.fc[2].weight.grad.data, _iter)\n",
    "\n",
    "writer.add_graph(discriminator, (XY,))\n",
    "writer.close()"
   ]
  },
  {
   "cell_type": "code",
   "execution_count": 12,
   "metadata": {},
   "outputs": [
    {
     "name": "stdout",
     "output_type": "stream",
     "text": [
      "Current results saved.\n"
     ]
    }
   ],
   "source": [
    "if overwrite or not os.path.exists(chkpt_name):\n",
    "    model_state = discriminator.state_dict()\n",
    "    torch.save({\n",
    "        'mi_list': mi_list,\n",
    "        'model_state': model_state\n",
    "    }, chkpt_name)\n",
    "    writer.close()\n",
    "    print('Current results saved.')"
   ]
  },
  {
   "cell_type": "code",
   "execution_count": 13,
   "metadata": {},
   "outputs": [],
   "source": [
    "mi_copy = mi_list.copy()\n",
    "for k in range(1,len(mi_list)):\n",
    "    mi_copy[k] = (1-ma_rate) * mi_copy[k-1] + ma_rate * mi_copy[k]"
   ]
  },
  {
   "cell_type": "code",
   "execution_count": 14,
   "metadata": {},
   "outputs": [
    {
     "data": {
      "image/png": "[encoded data removed]",
      "text/plain": [
       "<Figure size 432x288 with 1 Axes>"
      ]
     },
     "metadata": {
      "needs_background": "light"
     },
     "output_type": "display_data"
    }
   ],
   "source": [
    "plt.plot(mi_list, label='Smoothed InfoNCE')\n",
    "\n",
    "plt.axhline(Ground_truth,label='ground truth',linestyle='--',color='red')\n",
    "plt.axhline(np.log(opt.sample_size),label='log $n$',linestyle='--',color='grey')\n",
    "# for t in range(len(mi_copy)):\n",
    "#     if (mi_copy[t]>.8*Ground_truth):\n",
    "#         plt.axvline(t,label='80% reached',linestyle=':',color='green')\n",
    "#         break\n",
    "plt.xlabel('number of epochs')\n",
    "plt.ylabel('MI estimation')\n",
    "plt.title('Mi estimation with Smoothed InfoNCE')\n",
    "plt.legend()\n",
    "plt.savefig(f'results/Smoothed_InfoNCE_GT_dim{opt.d}_ma{ma_rate}.pdf')"
   ]
  },
  {
   "cell_type": "code",
   "execution_count": null,
   "metadata": {},
   "outputs": [],
   "source": []
  }
 ],
 "metadata": {
  "interpreter": {
   "hash": "bf1c2c84a0114d8bd094e4ab7df101a23bc9c1c89692267d72e7fbb9a26d536b"
  },
  "kernelspec": {
   "display_name": "Python 3.7.5 64-bit ('torch': conda)",
   "name": "python3"
  },
  "language_info": {
   "codemirror_mode": {
    "name": "ipython",
    "version": 3
   },
   "file_extension": ".py",
   "mimetype": "text/x-python",
   "name": "python",
   "nbconvert_exporter": "python",
   "pygments_lexer": "ipython3",
   "version": "3.7.7"
  },
  "orig_nbformat": 4
 },
 "nbformat": 4,
 "nbformat_minor": 2
}
